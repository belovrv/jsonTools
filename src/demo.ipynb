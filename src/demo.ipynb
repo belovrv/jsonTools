{
 "cells": [
  {
   "cell_type": "code",
   "execution_count": 2,
   "metadata": {
    "collapsed": true,
    "ExecuteTime": {
     "end_time": "2023-07-28T12:04:54.950278Z",
     "start_time": "2023-07-28T12:04:54.866298Z"
    }
   },
   "outputs": [
    {
     "data": {
      "text/plain": "20"
     },
     "execution_count": 2,
     "metadata": {},
     "output_type": "execute_result"
    }
   ],
   "source": [
    "%use serialization, lib-ext"
   ]
  },
  {
   "cell_type": "code",
   "execution_count": 3,
   "outputs": [],
   "source": [
    "USE { initSerialization() }"
   ],
   "metadata": {
    "collapsed": false,
    "ExecuteTime": {
     "end_time": "2023-07-28T12:07:17.913133Z",
     "start_time": "2023-07-28T12:07:17.815261Z"
    }
   }
  },
  {
   "cell_type": "code",
   "execution_count": 4,
   "outputs": [],
   "source": [
    "val str = \"Hello World!\""
   ],
   "metadata": {
    "collapsed": false,
    "ExecuteTime": {
     "end_time": "2023-07-28T12:07:35.841719Z",
     "start_time": "2023-07-28T12:07:35.782909Z"
    }
   }
  },
  {
   "cell_type": "code",
   "execution_count": 5,
   "outputs": [
    {
     "data": {
      "text/plain": "Hello World!"
     },
     "execution_count": 5,
     "metadata": {},
     "output_type": "execute_result"
    }
   ],
   "source": [
    "str"
   ],
   "metadata": {
    "collapsed": false,
    "ExecuteTime": {
     "end_time": "2023-07-28T12:07:37.562449Z",
     "start_time": "2023-07-28T12:07:37.512480Z"
    }
   }
  },
  {
   "cell_type": "code",
   "execution_count": 6,
   "outputs": [],
   "source": [
    "val strJson = \"\"\"\n",
    "{\n",
    "  \"firstName\": \"John\",\n",
    "  \"lastName\": \"Smith\",\n",
    "  \"isAlive\": true,\n",
    "  \"age\": 27,\n",
    "  \"address\": {\n",
    "    \"streetAddress\": \"21 2nd Street\",\n",
    "    \"city\": \"New York\",\n",
    "    \"state\": \"NY\",\n",
    "    \"postalCode\": \"10021-3100\"\n",
    "  },\n",
    "  \"phoneNumbers\": [\n",
    "    {\n",
    "      \"type\": \"home\",\n",
    "      \"number\": \"212 555-1234\"\n",
    "    },\n",
    "    {\n",
    "      \"type\": \"office\",\n",
    "      \"number\": \"646 555-4567\"\n",
    "    }\n",
    "  ],\n",
    "  \"children\": [\n",
    "    \"Catherine\",\n",
    "    \"Thomas\",\n",
    "    \"Trevor\"\n",
    "  ],\n",
    "  \"spouse\": null\n",
    "}\n",
    "\"\"\""
   ],
   "metadata": {
    "collapsed": false,
    "ExecuteTime": {
     "end_time": "2023-07-28T12:07:43.479800Z",
     "start_time": "2023-07-28T12:07:43.435039Z"
    }
   }
  },
  {
   "cell_type": "code",
   "execution_count": 7,
   "outputs": [
    {
     "data": {
      "text/html": "\n<body>\n  <style>\n  json-viewer {\n    /* Background, font and indentation */\n    --background-color: #0000;\n    --font-size: 1.5rem;\n  }\n  </style>\n  <script src=\"https://unpkg.com/@alenaksu/json-viewer@2.0.0/dist/json-viewer.bundle.js\"></script>\n  <json-viewer id=\"json\" data='{  \"firstName\": \"John\",  \"lastName\": \"Smith\",  \"isAlive\": true,  \"age\": 27,  \"address\": {    \"streetAddress\": \"21 2nd Street\",    \"city\": \"New York\",    \"state\": \"NY\",    \"postalCode\": \"10021-3100\"  },  \"phoneNumbers\": [    {      \"type\": \"home\",      \"number\": \"212 555-1234\"    },    {      \"type\": \"office\",      \"number\": \"646 555-4567\"    }  ],  \"children\": [    \"Catherine\",    \"Thomas\",    \"Trevor\"  ],  \"spouse\": null}'></json-viewer>\n  <script>\n        document.querySelector('#json').expandAll()\n  </script>\n</body>\n"
     },
     "execution_count": 7,
     "metadata": {},
     "output_type": "execute_result"
    }
   ],
   "source": [
    "strJson"
   ],
   "metadata": {
    "collapsed": false,
    "ExecuteTime": {
     "end_time": "2023-07-28T12:07:51.092429Z",
     "start_time": "2023-07-28T12:07:51.053696Z"
    }
   }
  },
  {
   "cell_type": "code",
   "execution_count": 13,
   "outputs": [],
   "source": [
    "%trackExecution"
   ],
   "metadata": {
    "collapsed": false,
    "ExecuteTime": {
     "end_time": "2023-07-28T12:09:48.990529Z",
     "start_time": "2023-07-28T12:09:48.982122Z"
    }
   }
  },
  {
   "cell_type": "code",
   "execution_count": 14,
   "outputs": [],
   "source": [
    "val obj = strJson.deserialize(\"Test\")"
   ],
   "metadata": {
    "collapsed": false,
    "ExecuteTime": {
     "end_time": "2023-07-28T12:09:50.333241Z",
     "start_time": "2023-07-28T12:09:50.132954Z"
    }
   }
  },
  {
   "cell_type": "code",
   "execution_count": 10,
   "outputs": [
    {
     "data": {
      "text/plain": "John"
     },
     "execution_count": 10,
     "metadata": {},
     "output_type": "execute_result"
    }
   ],
   "source": [
    "obj.phoneNumbers"
   ],
   "metadata": {
    "collapsed": false,
    "ExecuteTime": {
     "end_time": "2023-07-28T12:09:02.688777Z",
     "start_time": "2023-07-28T12:09:02.647386Z"
    }
   }
  },
  {
   "cell_type": "code",
   "execution_count": 15,
   "outputs": [],
   "source": [
    "val ktor_version = \"2.3.2\"\n",
    "\n",
    "USE {\n",
    "    dependencies {\n",
    "        implementation(\"io.ktor:ktor-client-apache5-jvm:$ktor_version\")\n",
    "    }\n",
    "}"
   ],
   "metadata": {
    "collapsed": false,
    "ExecuteTime": {
     "end_time": "2023-07-28T12:09:54.543928Z",
     "start_time": "2023-07-28T12:09:54.366253Z"
    }
   }
  },
  {
   "cell_type": "code",
   "execution_count": 16,
   "outputs": [],
   "source": [
    "import io.ktor.client.*\n",
    "import io.ktor.client.request.*\n",
    "import io.ktor.client.statement.*\n",
    "import kotlinx.coroutines.runBlocking\n",
    "\n",
    "val client = HttpClient()\n",
    "fun HttpClient.getObject(url: String, typeName: String) =\n",
    "    runBlocking { this@getObject.get(url).bodyAsText().deserialize(typeName) }"
   ],
   "metadata": {
    "collapsed": false,
    "ExecuteTime": {
     "end_time": "2023-07-28T12:10:08.814731Z",
     "start_time": "2023-07-28T12:10:08.648677Z"
    }
   }
  },
  {
   "cell_type": "code",
   "execution_count": 17,
   "outputs": [],
   "source": [
    "val belov = client.getObject(\"https://api.github.com/users/belovrv\", \"User\")"
   ],
   "metadata": {
    "collapsed": false,
    "ExecuteTime": {
     "end_time": "2023-07-28T12:10:30.751586Z",
     "start_time": "2023-07-28T12:10:30.142518Z"
    }
   }
  },
  {
   "cell_type": "code",
   "execution_count": 18,
   "outputs": [
    {
     "data": {
      "text/plain": "null"
     },
     "execution_count": 18,
     "metadata": {},
     "output_type": "execute_result"
    }
   ],
   "source": [
    "Image(belov.avatarUrl)"
   ],
   "metadata": {
    "collapsed": false,
    "ExecuteTime": {
     "end_time": "2023-07-28T12:10:43.187896Z",
     "start_time": "2023-07-28T12:10:43.159966Z"
    }
   }
  },
  {
   "cell_type": "code",
   "execution_count": null,
   "outputs": [],
   "source": [
    "Json.Default.encodeToString(belov)"
   ],
   "metadata": {
    "collapsed": false
   }
  },
  {
   "cell_type": "code",
   "execution_count": 20,
   "outputs": [
    {
     "data": {
      "text/html": "<img src=\"https://avatars.githubusercontent.com/u/7994178?v=4\"/>"
     },
     "execution_count": 20,
     "metadata": {},
     "output_type": "execute_result"
    }
   ],
   "source": [
    "Image(belov.avatarUrl)"
   ],
   "metadata": {
    "collapsed": false,
    "ExecuteTime": {
     "end_time": "2023-07-28T12:11:09.865025Z",
     "start_time": "2023-07-28T12:11:09.800854Z"
    }
   }
  },
  {
   "cell_type": "code",
   "execution_count": 19,
   "outputs": [
    {
     "data": {
      "text/html": "\n<body>\n  <style>\n  json-viewer {\n    /* Background, font and indentation */\n    --background-color: #0000;\n    --font-size: 1.5rem;\n  }\n  </style>\n  <script src=\"https://unpkg.com/@alenaksu/json-viewer@2.0.0/dist/json-viewer.bundle.js\"></script>\n  <json-viewer id=\"json\" data='{\"login\":\"belovrv\",\"id\":7994178,\"node_id\":\"MDQ6VXNlcjc5OTQxNzg=\",\"avatar_url\":\"https://avatars.githubusercontent.com/u/7994178?v=4\",\"gravatar_id\":\"\",\"url\":\"https://api.github.com/users/belovrv\",\"html_url\":\"https://github.com/belovrv\",\"followers_url\":\"https://api.github.com/users/belovrv/followers\",\"following_url\":\"https://api.github.com/users/belovrv/following{/other_user}\",\"gists_url\":\"https://api.github.com/users/belovrv/gists{/gist_id}\",\"starred_url\":\"https://api.github.com/users/belovrv/starred{/owner}{/repo}\",\"subscriptions_url\":\"https://api.github.com/users/belovrv/subscriptions\",\"organizations_url\":\"https://api.github.com/users/belovrv/orgs\",\"repos_url\":\"https://api.github.com/users/belovrv/repos\",\"events_url\":\"https://api.github.com/users/belovrv/events{/privacy}\",\"received_events_url\":\"https://api.github.com/users/belovrv/received_events\",\"type\":\"User\",\"site_admin\":false,\"name\":null,\"company\":null,\"blog\":\"\",\"location\":null,\"email\":null,\"hireable\":null,\"bio\":null,\"twitter_username\":null,\"public_repos\":12,\"public_gists\":1,\"followers\":8,\"following\":0,\"created_at\":\"2014-06-26T08:38:58Z\",\"updated_at\":\"2023-07-09T14:15:27Z\"}'></json-viewer>\n  <script>\n        document.querySelector('#json').expandAll()\n  </script>\n</body>\n"
     },
     "execution_count": 19,
     "metadata": {},
     "output_type": "execute_result"
    }
   ],
   "source": [],
   "metadata": {
    "collapsed": false,
    "ExecuteTime": {
     "end_time": "2023-07-28T12:11:00.340018Z",
     "start_time": "2023-07-28T12:11:00.289785Z"
    }
   }
  },
  {
   "cell_type": "code",
   "execution_count": 21,
   "outputs": [],
   "source": [
    "val users = client.getObject(\"https://api.github.com/orgs/JetBrains/members\", \"Users\")"
   ],
   "metadata": {
    "collapsed": false,
    "ExecuteTime": {
     "end_time": "2023-07-28T12:11:28.339819Z",
     "start_time": "2023-07-28T12:11:27.910643Z"
    }
   }
  },
  {
   "cell_type": "code",
   "execution_count": 22,
   "outputs": [
    {
     "data": {
      "text/plain": "1anisim"
     },
     "metadata": {},
     "output_type": "display_data"
    },
    {
     "data": {
      "text/html": "<img src=\"https://avatars.githubusercontent.com/u/70746131?v=4\" width=\"100\"/>"
     },
     "metadata": {},
     "output_type": "display_data"
    },
    {
     "data": {
      "text/plain": "a-krasilnikov"
     },
     "metadata": {},
     "output_type": "display_data"
    },
    {
     "data": {
      "text/html": "<img src=\"https://avatars.githubusercontent.com/u/42605298?v=4\" width=\"100\"/>"
     },
     "metadata": {},
     "output_type": "display_data"
    },
    {
     "data": {
      "text/plain": "a-kuznetsova"
     },
     "metadata": {},
     "output_type": "display_data"
    },
    {
     "data": {
      "text/html": "<img src=\"https://avatars.githubusercontent.com/u/71134653?v=4\" width=\"100\"/>"
     },
     "metadata": {},
     "output_type": "display_data"
    },
    {
     "data": {
      "text/plain": "abarsov"
     },
     "metadata": {},
     "output_type": "display_data"
    },
    {
     "data": {
      "text/html": "<img src=\"https://avatars.githubusercontent.com/u/7127060?v=4\" width=\"100\"/>"
     },
     "metadata": {},
     "output_type": "display_data"
    },
    {
     "data": {
      "text/plain": "abelkov"
     },
     "metadata": {},
     "output_type": "display_data"
    },
    {
     "data": {
      "text/html": "<img src=\"https://avatars.githubusercontent.com/u/7702679?v=4\" width=\"100\"/>"
     },
     "metadata": {},
     "output_type": "display_data"
    },
    {
     "data": {
      "text/plain": "abrams27"
     },
     "metadata": {},
     "output_type": "display_data"
    },
    {
     "data": {
      "text/html": "<img src=\"https://avatars.githubusercontent.com/u/44381959?v=4\" width=\"100\"/>"
     },
     "metadata": {},
     "output_type": "display_data"
    },
    {
     "data": {
      "text/plain": "abusalimov"
     },
     "metadata": {},
     "output_type": "display_data"
    },
    {
     "data": {
      "text/html": "<img src=\"https://avatars.githubusercontent.com/u/530396?v=4\" width=\"100\"/>"
     },
     "metadata": {},
     "output_type": "display_data"
    },
    {
     "data": {
      "text/plain": "adkozlov"
     },
     "metadata": {},
     "output_type": "display_data"
    },
    {
     "data": {
      "text/html": "<img src=\"https://avatars.githubusercontent.com/u/1233785?v=4\" width=\"100\"/>"
     },
     "metadata": {},
     "output_type": "display_data"
    },
    {
     "data": {
      "text/plain": "AI-shm"
     },
     "metadata": {},
     "output_type": "display_data"
    },
    {
     "data": {
      "text/html": "<img src=\"https://avatars.githubusercontent.com/u/63251834?v=4\" width=\"100\"/>"
     },
     "metadata": {},
     "output_type": "display_data"
    },
    {
     "data": {
      "text/plain": "Alefas"
     },
     "metadata": {},
     "output_type": "display_data"
    },
    {
     "data": {
      "text/html": "<img src=\"https://avatars.githubusercontent.com/u/94064?v=4\" width=\"100\"/>"
     },
     "metadata": {},
     "output_type": "display_data"
    },
    {
     "data": {
      "text/plain": "alexander-doroshko"
     },
     "metadata": {},
     "output_type": "display_data"
    },
    {
     "data": {
      "text/html": "<img src=\"https://avatars.githubusercontent.com/u/4499789?v=4\" width=\"100\"/>"
     },
     "metadata": {},
     "output_type": "display_data"
    },
    {
     "data": {
      "text/plain": "AlexeyKalina"
     },
     "metadata": {},
     "output_type": "display_data"
    },
    {
     "data": {
      "text/html": "<img src=\"https://avatars.githubusercontent.com/u/15379339?v=4\" width=\"100\"/>"
     },
     "metadata": {},
     "output_type": "display_data"
    },
    {
     "data": {
      "text/plain": "AlexPl292"
     },
     "metadata": {},
     "output_type": "display_data"
    },
    {
     "data": {
      "text/html": "<img src=\"https://avatars.githubusercontent.com/u/4203721?v=4\" width=\"100\"/>"
     },
     "metadata": {},
     "output_type": "display_data"
    },
    {
     "data": {
      "text/plain": "ALikhachev"
     },
     "metadata": {},
     "output_type": "display_data"
    },
    {
     "data": {
      "text/html": "<img src=\"https://avatars.githubusercontent.com/u/1221596?v=4\" width=\"100\"/>"
     },
     "metadata": {},
     "output_type": "display_data"
    },
    {
     "data": {
      "text/plain": "almsh"
     },
     "metadata": {},
     "output_type": "display_data"
    },
    {
     "data": {
      "text/html": "<img src=\"https://avatars.githubusercontent.com/u/1478252?v=4\" width=\"100\"/>"
     },
     "metadata": {},
     "output_type": "display_data"
    },
    {
     "data": {
      "text/plain": "amakeev"
     },
     "metadata": {},
     "output_type": "display_data"
    },
    {
     "data": {
      "text/html": "<img src=\"https://avatars.githubusercontent.com/u/238583?v=4\" width=\"100\"/>"
     },
     "metadata": {},
     "output_type": "display_data"
    },
    {
     "data": {
      "text/plain": "anisimov74"
     },
     "metadata": {},
     "output_type": "display_data"
    },
    {
     "data": {
      "text/html": "<img src=\"https://avatars.githubusercontent.com/u/296548?v=4\" width=\"100\"/>"
     },
     "metadata": {},
     "output_type": "display_data"
    },
    {
     "data": {
      "text/plain": "anna239"
     },
     "metadata": {},
     "output_type": "display_data"
    },
    {
     "data": {
      "text/html": "<img src=\"https://avatars.githubusercontent.com/u/661533?v=4\" width=\"100\"/>"
     },
     "metadata": {},
     "output_type": "display_data"
    },
    {
     "data": {
      "text/plain": "ant-druha"
     },
     "metadata": {},
     "output_type": "display_data"
    },
    {
     "data": {
      "text/html": "<img src=\"https://avatars.githubusercontent.com/u/3117044?v=4\" width=\"100\"/>"
     },
     "metadata": {},
     "output_type": "display_data"
    },
    {
     "data": {
      "text/plain": "ark-1"
     },
     "metadata": {},
     "output_type": "display_data"
    },
    {
     "data": {
      "text/html": "<img src=\"https://avatars.githubusercontent.com/u/12529568?v=4\" width=\"100\"/>"
     },
     "metadata": {},
     "output_type": "display_data"
    },
    {
     "data": {
      "text/plain": "ArtManyak"
     },
     "metadata": {},
     "output_type": "display_data"
    },
    {
     "data": {
      "text/html": "<img src=\"https://avatars.githubusercontent.com/u/10251724?v=4\" width=\"100\"/>"
     },
     "metadata": {},
     "output_type": "display_data"
    },
    {
     "data": {
      "text/plain": "ashatalin"
     },
     "metadata": {},
     "output_type": "display_data"
    },
    {
     "data": {
      "text/html": "<img src=\"https://avatars.githubusercontent.com/u/980692?v=4\" width=\"100\"/>"
     },
     "metadata": {},
     "output_type": "display_data"
    },
    {
     "data": {
      "text/plain": "auduchinok"
     },
     "metadata": {},
     "output_type": "display_data"
    },
    {
     "data": {
      "text/html": "<img src=\"https://avatars.githubusercontent.com/u/3923587?v=4\" width=\"100\"/>"
     },
     "metadata": {},
     "output_type": "display_data"
    },
    {
     "data": {
      "text/plain": "avitalique"
     },
     "metadata": {},
     "output_type": "display_data"
    },
    {
     "data": {
      "text/html": "<img src=\"https://avatars.githubusercontent.com/u/37739570?v=4\" width=\"100\"/>"
     },
     "metadata": {},
     "output_type": "display_data"
    },
    {
     "data": {
      "text/plain": "Avvessalom"
     },
     "metadata": {},
     "output_type": "display_data"
    },
    {
     "data": {
      "text/html": "<img src=\"https://avatars.githubusercontent.com/u/49491863?v=4\" width=\"100\"/>"
     },
     "metadata": {},
     "output_type": "display_data"
    },
    {
     "data": {
      "text/plain": "azavodov"
     },
     "metadata": {},
     "output_type": "display_data"
    },
    {
     "data": {
      "text/html": "<img src=\"https://avatars.githubusercontent.com/u/20466379?v=4\" width=\"100\"/>"
     },
     "metadata": {},
     "output_type": "display_data"
    },
    {
     "data": {
      "text/plain": "azhebel"
     },
     "metadata": {},
     "output_type": "display_data"
    },
    {
     "data": {
      "text/html": "<img src=\"https://avatars.githubusercontent.com/u/11534933?v=4\" width=\"100\"/>"
     },
     "metadata": {},
     "output_type": "display_data"
    },
    {
     "data": {
      "text/plain": "Balkanskiy"
     },
     "metadata": {},
     "output_type": "display_data"
    },
    {
     "data": {
      "text/html": "<img src=\"https://avatars.githubusercontent.com/u/2853578?v=4\" width=\"100\"/>"
     },
     "metadata": {},
     "output_type": "display_data"
    },
    {
     "data": {
      "text/plain": "BarracudaPff"
     },
     "metadata": {},
     "output_type": "display_data"
    },
    {
     "data": {
      "text/html": "<img src=\"https://avatars.githubusercontent.com/u/18344254?v=4\" width=\"100\"/>"
     },
     "metadata": {},
     "output_type": "display_data"
    },
    {
     "data": {
      "text/plain": "BartvHelvert"
     },
     "metadata": {},
     "output_type": "display_data"
    },
    {
     "data": {
      "text/html": "<img src=\"https://avatars.githubusercontent.com/u/9639072?v=4\" width=\"100\"/>"
     },
     "metadata": {},
     "output_type": "display_data"
    }
   ],
   "source": [
    "users.forEach{ \n",
    "    DISPLAY(it.login) \n",
    "    DISPLAY(Image(it.avatarUrl).withWidth(100)) \n",
    "}"
   ],
   "metadata": {
    "collapsed": false,
    "ExecuteTime": {
     "end_time": "2023-07-28T12:11:41.914454Z",
     "start_time": "2023-07-28T12:11:41.803657Z"
    }
   }
  },
  {
   "cell_type": "code",
   "execution_count": null,
   "outputs": [],
   "source": [],
   "metadata": {
    "collapsed": false
   }
  },
  {
   "cell_type": "code",
   "execution_count": null,
   "outputs": [],
   "source": [],
   "metadata": {
    "collapsed": false
   }
  }
 ],
 "metadata": {
  "kernelspec": {
   "display_name": "Kotlin",
   "language": "kotlin",
   "name": "kotlin"
  },
  "language_info": {
   "name": "kotlin",
   "version": "1.8.20",
   "mimetype": "text/x-kotlin",
   "file_extension": ".kt",
   "pygments_lexer": "kotlin",
   "codemirror_mode": "text/x-kotlin",
   "nbconvert_exporter": ""
  },
  "ktnbPluginMetadata": {
   "projectDependencies": [
    "jsonTools.main",
    "jsonTools.test"
   ]
  }
 },
 "nbformat": 4,
 "nbformat_minor": 0
}
