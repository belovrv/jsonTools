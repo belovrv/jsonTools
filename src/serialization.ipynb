{
 "cells": [
  {
   "cell_type": "code",
   "execution_count": 1,
   "metadata": {
    "collapsed": true,
    "ExecuteTime": {
     "end_time": "2023-07-23T11:07:22.808817Z",
     "start_time": "2023-07-23T11:07:22.606041Z"
    }
   },
   "outputs": [],
   "source": [
    "%use serialization"
   ]
  },
  {
   "cell_type": "code",
   "execution_count": 2,
   "outputs": [],
   "source": [
    "val str = \"\"\"\n",
    "{\n",
    "  \"firstName\": \"John\",\n",
    "  \"lastName\": \"Smith\",\n",
    "  \"isAlive\": true,\n",
    "  \"age\": 27,\n",
    "  \"address\": {\n",
    "    \"streetAddress\": \"21 2nd Street\",\n",
    "    \"city\": \"New York\",\n",
    "    \"state\": \"NY\",\n",
    "    \"postalCode\": \"10021-3100\"\n",
    "  },\n",
    "  \"phoneNumbers\": [\n",
    "    {\n",
    "      \"type\": \"home\",\n",
    "      \"number\": \"212 555-1234\"\n",
    "    },\n",
    "    {\n",
    "      \"type\": \"office\",\n",
    "      \"number\": \"646 555-4567\"\n",
    "    }\n",
    "  ],\n",
    "  \"children\": [\n",
    "    \"Catherine\",\n",
    "    \"Thomas\",\n",
    "    \"Trevor\"\n",
    "  ],\n",
    "  \"spouse\": null\n",
    "}\n",
    "\"\"\"\n",
    "\n"
   ],
   "metadata": {
    "collapsed": false,
    "ExecuteTime": {
     "end_time": "2023-07-23T11:07:22.858447Z",
     "start_time": "2023-07-23T11:07:22.809791Z"
    }
   }
  },
  {
   "cell_type": "code",
   "execution_count": 3,
   "outputs": [
    {
     "data": {
      "text/plain": "\n{\n  \"firstName\": \"John\",\n  \"lastName\": \"Smith\",\n  \"isAlive\": true,\n  \"age\": 27,\n  \"address\": {\n    \"streetAddress\": \"21 2nd Street\",\n    \"city\": \"New York\",\n    \"state\": \"NY\",\n    \"postalCode\": \"10021-3100\"\n  },\n  \"phoneNumbers\": [\n    {\n      \"type\": \"home\",\n      \"number\": \"212 555-1234\"\n    },\n    {\n      \"type\": \"office\",\n      \"number\": \"646 555-4567\"\n    }\n  ],\n  \"children\": [\n    \"Catherine\",\n    \"Thomas\",\n    \"Trevor\"\n  ],\n  \"spouse\": null\n}\n"
     },
     "execution_count": 3,
     "metadata": {},
     "output_type": "execute_result"
    }
   ],
   "source": [
    "str"
   ],
   "metadata": {
    "collapsed": false,
    "ExecuteTime": {
     "end_time": "2023-07-23T11:07:22.899295Z",
     "start_time": "2023-07-23T11:07:22.859231Z"
    }
   }
  },
  {
   "cell_type": "code",
   "execution_count": 4,
   "outputs": [],
   "source": [
    "fun validateJson(jsonString: String): Boolean {\n",
    "    return try {\n",
    "        val element = Json.Default.parseToJsonElement(jsonString)\n",
    "        !(element is JsonPrimitive)\n",
    "                && ((runCatching { element.jsonObject.entries.count() > 0 }.getOrNull() == true ||\n",
    "                runCatching { element.jsonArray.size > 0 }.getOrNull() == true))  // JSON is valid\n",
    "    } catch (e: Exception) {\n",
    "        false // Invalid JSON\n",
    "    }\n",
    "}"
   ],
   "metadata": {
    "collapsed": false,
    "ExecuteTime": {
     "end_time": "2023-07-23T11:07:23.135277Z",
     "start_time": "2023-07-23T11:07:22.898235Z"
    }
   }
  },
  {
   "cell_type": "code",
   "execution_count": 5,
   "outputs": [],
   "source": [
    "fun String.printJson() = HTML(\n",
    "    \"\"\"\n",
    "<body>\n",
    "  <style>\n",
    "  json-viewer {\n",
    "    /* Background, font and indentation */\n",
    "    --background-color: #0000;\n",
    "    --font-size: 1.5rem;\n",
    "  }\n",
    "  </style>\n",
    "  <script src=\"https://unpkg.com/@alenaksu/json-viewer@2.0.0/dist/json-viewer.bundle.js\"></script>\n",
    "  <json-viewer id=\"json\" data='${this.replace(\"\\n\", \"\")}'></json-viewer>\n",
    "  <script>\n",
    "        document.querySelector('#json').expandAll()\n",
    "  </script>\n",
    "</body>\n",
    "\"\"\"\n",
    ")"
   ],
   "metadata": {
    "collapsed": false,
    "ExecuteTime": {
     "end_time": "2023-07-23T11:07:23.186086Z",
     "start_time": "2023-07-23T11:07:23.135854Z"
    }
   }
  },
  {
   "cell_type": "code",
   "execution_count": 6,
   "outputs": [],
   "source": [
    "USE {\n",
    "    addRenderer(object : RendererHandler {\n",
    "        override val execution: ResultHandlerExecution\n",
    "            get() = ResultHandlerExecution { _, result ->\n",
    "                FieldValue(\n",
    "                    (result.value as String).printJson(),\n",
    "                    result.name\n",
    "                )\n",
    "            }\n",
    "\n",
    "        override fun accepts(value: Any?): Boolean {\n",
    "            return value is String && validateJson(value)\n",
    "        }\n",
    "\n",
    "        override fun replaceVariables(mapping: Map<String, String>): RendererHandler {\n",
    "            return this\n",
    "        }\n",
    "    })\n",
    "}"
   ],
   "metadata": {
    "collapsed": false,
    "ExecuteTime": {
     "end_time": "2023-07-23T11:07:23.314367Z",
     "start_time": "2023-07-23T11:07:23.186727Z"
    }
   }
  },
  {
   "cell_type": "code",
   "execution_count": 7,
   "outputs": [],
   "source": [
    "USE {\n",
    "    dependencies { implementation(\"com.sealwu.jsontokotlin:library:3.7.4\") }\n",
    "}"
   ],
   "metadata": {
    "collapsed": false,
    "ExecuteTime": {
     "end_time": "2023-07-23T11:07:23.409690Z",
     "start_time": "2023-07-23T11:07:23.314755Z"
    }
   }
  },
  {
   "cell_type": "code",
   "execution_count": 8,
   "outputs": [],
   "source": [
    "class DeserializationResut(val src: String, val className: String) {\n",
    "    override fun toString() = src\n",
    "}\n",
    "\n",
    "fun String.deserialize(name : String) = DeserializationResut(this, name)"
   ],
   "metadata": {
    "collapsed": false,
    "ExecuteTime": {
     "end_time": "2023-07-23T11:07:23.444661Z",
     "start_time": "2023-07-23T11:07:23.409836Z"
    }
   }
  },
  {
   "cell_type": "code",
   "execution_count": 9,
   "outputs": [],
   "source": [
    "import wu.seal.jsontokotlin.model.TargetJsonConverter\n",
    "import wu.seal.jsontokotlin.library.*\n",
    "\n",
    "USE {\n",
    "    updateVariable<DeserializationResut>() { value, kProperty ->\n",
    "            execute(\"\"\"\n",
    "            import kotlinx.serialization.decodeFromString\n",
    "            ${\n",
    "                JsonToKotlinBuilder().run {\n",
    "                    setAnnotationLib(TargetJsonConverter.Serializable).build(value.src, value.className)\n",
    "                }\n",
    "                    .replace(\"Any?\", \"Nothing?\")\n",
    "                    .replace(\"<Any>\", \"<Nothing>\")\n",
    "                    .replace(\"class ${value.className} : ArrayList<${value.className}Item>()\", \"typealias ${value.className} = ArrayList<${value.className}Item>\")\n",
    "                    .replace(\"class ${value.className} : ArrayList<Nothing>()\", \"typealias ${value.className} = ArrayList<Nothing>\")\n",
    "            }\n",
    "            Json.Default.decodeFromString<${value.className}>(\"\"\" + \"\\\"\\\"\\\"\" + value.src + \"\\\"\\\"\\\"\" + \"\"\")\n",
    "        \"\"\").name\n",
    "    }\n",
    "}\n"
   ],
   "metadata": {
    "collapsed": false,
    "ExecuteTime": {
     "end_time": "2023-07-23T11:07:23.570099Z",
     "start_time": "2023-07-23T11:07:23.445047Z"
    }
   }
  },
  {
   "cell_type": "code",
   "execution_count": 10,
   "outputs": [],
   "source": [
    "val res = str.deserialize(\"Result\")"
   ],
   "metadata": {
    "collapsed": false,
    "ExecuteTime": {
     "end_time": "2023-07-23T11:07:23.998876Z",
     "start_time": "2023-07-23T11:07:23.570367Z"
    }
   }
  },
  {
   "cell_type": "code",
   "execution_count": 11,
   "outputs": [],
   "source": [
    "import kotlin.reflect.KProperty\n",
    "\n",
    "class DeserializedDelegate(val serialized: String) {\n",
    "    operator fun getValue(thisRef: Any?, property: KProperty<*>): DeserializationResut {\n",
    "        return serialized.deserialize(property.name.replaceFirstChar { it.uppercase() })\n",
    "    }\n",
    "}\n",
    "\n",
    "fun deserealize(serialized: String) = DeserializedDelegate(serialized)\n"
   ],
   "metadata": {
    "collapsed": false,
    "ExecuteTime": {
     "end_time": "2023-07-23T11:07:24.058219Z",
     "start_time": "2023-07-23T11:07:23.998190Z"
    }
   }
  },
  {
   "cell_type": "code",
   "execution_count": 12,
   "outputs": [
    {
     "name": "stderr",
     "output_type": "stream",
     "text": [
      "The problem is found in one of the loaded libraries: check library converters (fields callbacks)\n",
      "java.lang.ClassCastException: class Line_14_jupyter$DeserializedDelegate cannot be cast to class Line_9_jupyter$DeserializationResut (Line_14_jupyter$DeserializedDelegate is in unnamed module of loader org.jetbrains.kotlin.scripting.compiler.plugin.impl.CompiledScriptClassLoader @2e1e96f4; Line_9_jupyter$DeserializationResut is in unnamed module of loader org.jetbrains.kotlin.scripting.compiler.plugin.impl.CompiledScriptClassLoader @2d57528e)\n",
      "org.jetbrains.kotlinx.jupyter.exceptions.ReplLibraryException: The problem is found in one of the loaded libraries: check library converters (fields callbacks)\n",
      "\tat org.jetbrains.kotlinx.jupyter.exceptions.CompositeReplExceptionKt.throwLibraryException(CompositeReplException.kt:50)\n",
      "\tat org.jetbrains.kotlinx.jupyter.codegen.FieldsProcessorImpl.process(FieldsProcessorImpl.kt:54)\n",
      "\tat org.jetbrains.kotlinx.jupyter.repl.impl.CellExecutorImpl$execute$1$1.invoke(CellExecutorImpl.kt:91)\n",
      "\tat org.jetbrains.kotlinx.jupyter.repl.impl.CellExecutorImpl$execute$1$1.invoke(CellExecutorImpl.kt:90)\n",
      "\tat org.jetbrains.kotlinx.jupyter.config.LoggingKt.catchAll(logging.kt:42)\n",
      "\tat org.jetbrains.kotlinx.jupyter.config.LoggingKt.catchAll$default(logging.kt:41)\n",
      "\tat org.jetbrains.kotlinx.jupyter.repl.impl.CellExecutorImpl.execute(CellExecutorImpl.kt:90)\n",
      "\tat org.jetbrains.kotlinx.jupyter.repl.CellExecutor$DefaultImpls.execute$default(CellExecutor.kt:15)\n",
      "\tat org.jetbrains.kotlinx.jupyter.ReplForJupyterImpl$evalEx$1.invoke(repl.kt:479)\n",
      "\tat org.jetbrains.kotlinx.jupyter.ReplForJupyterImpl$evalEx$1.invoke(repl.kt:470)\n",
      "\tat org.jetbrains.kotlinx.jupyter.ReplForJupyterImpl.withEvalContext(repl.kt:433)\n",
      "\tat org.jetbrains.kotlinx.jupyter.ReplForJupyterImpl.evalEx(repl.kt:470)\n",
      "\tat org.jetbrains.kotlinx.jupyter.messaging.ProtocolKt$shellMessagesHandler$2$res$1.invoke(protocol.kt:318)\n",
      "\tat org.jetbrains.kotlinx.jupyter.messaging.ProtocolKt$shellMessagesHandler$2$res$1.invoke(protocol.kt:312)\n",
      "\tat org.jetbrains.kotlinx.jupyter.JupyterExecutorImpl$runExecution$execThread$1.invoke(execution.kt:37)\n",
      "\tat org.jetbrains.kotlinx.jupyter.JupyterExecutorImpl$runExecution$execThread$1.invoke(execution.kt:32)\n",
      "\tat kotlin.concurrent.ThreadsKt$thread$thread$1.run(Thread.kt:30)\n",
      "Caused by: java.lang.ClassCastException: class Line_14_jupyter$DeserializedDelegate cannot be cast to class Line_9_jupyter$DeserializationResut (Line_14_jupyter$DeserializedDelegate is in unnamed module of loader org.jetbrains.kotlin.scripting.compiler.plugin.impl.CompiledScriptClassLoader @2e1e96f4; Line_9_jupyter$DeserializationResut is in unnamed module of loader org.jetbrains.kotlin.scripting.compiler.plugin.impl.CompiledScriptClassLoader @2d57528e)\n",
      "\tat Line_10_jupyter$1$1.invoke(Line_10.jupyter.kts:5)\n",
      "\tat org.jetbrains.kotlinx.jupyter.api.libraries.FieldHandlerFactory$createUpdateExecution$1.execute(FieldHandlerFactory.kt:30)\n",
      "\tat org.jetbrains.kotlinx.jupyter.codegen.FieldsProcessorImpl.process(FieldsProcessorImpl.kt:38)\n",
      "\t... 15 more\n",
      "\n",
      "\n"
     ]
    }
   ],
   "source": [
    "val res by deserealize(str)"
   ],
   "metadata": {
    "collapsed": false,
    "ExecuteTime": {
     "end_time": "2023-07-23T11:07:24.135822Z",
     "start_time": "2023-07-23T11:07:24.055678Z"
    }
   }
  },
  {
   "cell_type": "code",
   "execution_count": 13,
   "outputs": [],
   "source": [
    "import java.net.URLConnection\n",
    "import java.io.BufferedReader\n",
    "import java.io.InputStreamReader\n",
    "import java.net.HttpURLConnection\n",
    "import java.net.URL\n",
    "\n",
    "val page = 0\n",
    "val httpURLConnection = URL(\"https://api.github.com/users/belovrv\").openConnection() as HttpURLConnection\n",
    "\n",
    "httpURLConnection.requestMethod = \"GET\"\n",
    "val reader = BufferedReader(InputStreamReader(httpURLConnection.inputStream))\n",
    "\n",
    "val response = reader.readText()\n",
    "\n",
    "reader.close()\n",
    "\n",
    "val belov = response.deserialize(\"Belov\")"
   ],
   "metadata": {
    "collapsed": false,
    "ExecuteTime": {
     "end_time": "2023-07-23T11:07:24.769057Z",
     "start_time": "2023-07-23T11:07:24.125765Z"
    }
   }
  },
  {
   "cell_type": "code",
   "execution_count": 14,
   "outputs": [
    {
     "data": {
      "text/plain": "https://api.github.com/users/belovrv/followers"
     },
     "execution_count": 14,
     "metadata": {},
     "output_type": "execute_result"
    }
   ],
   "source": [
    "belov.followersUrl"
   ],
   "metadata": {
    "collapsed": false,
    "ExecuteTime": {
     "end_time": "2023-07-23T11:07:24.795654Z",
     "start_time": "2023-07-23T11:07:24.767509Z"
    }
   }
  },
  {
   "cell_type": "code",
   "execution_count": 15,
   "outputs": [],
   "source": [
    "\n",
    "val ktor_version = \"2.3.2\"\n",
    "\n",
    "USE {\n",
    "    dependencies {\n",
    "        implementation(\"io.ktor:ktor-client-apache5-jvm:$ktor_version\")\n",
    "    }\n",
    "}"
   ],
   "metadata": {
    "collapsed": false,
    "ExecuteTime": {
     "end_time": "2023-07-23T11:07:24.930261Z",
     "start_time": "2023-07-23T11:07:24.794600Z"
    }
   }
  },
  {
   "cell_type": "code",
   "execution_count": 16,
   "outputs": [],
   "source": [
    "import io.ktor.client.*\n",
    "import io.ktor.client.request.*\n",
    "import io.ktor.client.statement.*\n",
    "import kotlinx.coroutines.runBlocking\n",
    "\n",
    "val client = HttpClient()\n",
    "fun HttpClient.getObject(url: String, typeName: String) = runBlocking { this@getObject.get(url).bodyAsText().deserialize(typeName) }"
   ],
   "metadata": {
    "collapsed": false,
    "ExecuteTime": {
     "end_time": "2023-07-23T11:07:25.053736Z",
     "start_time": "2023-07-23T11:07:24.930160Z"
    }
   }
  },
  {
   "cell_type": "code",
   "execution_count": 17,
   "outputs": [
    {
     "data": {
      "text/html": "\n<body>\n  <style>\n  json-viewer {\n    /* Background, font and indentation */\n    --background-color: #0000;\n    --font-size: 1.5rem;\n  }\n  </style>\n  <script src=\"https://unpkg.com/@alenaksu/json-viewer@2.0.0/dist/json-viewer.bundle.js\"></script>\n  <json-viewer id=\"json\" data='{\"login\":\"belovrv\",\"id\":7994178,\"node_id\":\"MDQ6VXNlcjc5OTQxNzg=\",\"avatar_url\":\"https://avatars.githubusercontent.com/u/7994178?v=4\",\"gravatar_id\":\"\",\"url\":\"https://api.github.com/users/belovrv\",\"html_url\":\"https://github.com/belovrv\",\"followers_url\":\"https://api.github.com/users/belovrv/followers\",\"following_url\":\"https://api.github.com/users/belovrv/following{/other_user}\",\"gists_url\":\"https://api.github.com/users/belovrv/gists{/gist_id}\",\"starred_url\":\"https://api.github.com/users/belovrv/starred{/owner}{/repo}\",\"subscriptions_url\":\"https://api.github.com/users/belovrv/subscriptions\",\"organizations_url\":\"https://api.github.com/users/belovrv/orgs\",\"repos_url\":\"https://api.github.com/users/belovrv/repos\",\"events_url\":\"https://api.github.com/users/belovrv/events{/privacy}\",\"received_events_url\":\"https://api.github.com/users/belovrv/received_events\",\"type\":\"User\",\"site_admin\":false,\"name\":null,\"company\":null,\"blog\":\"\",\"location\":null,\"email\":null,\"hireable\":null,\"bio\":null,\"twitter_username\":null,\"public_repos\":12,\"public_gists\":1,\"followers\":8,\"following\":0,\"created_at\":\"2014-06-26T08:38:58Z\",\"updated_at\":\"2023-07-09T14:15:27Z\"}'></json-viewer>\n  <script>\n        document.querySelector('#json').expandAll()\n  </script>\n</body>\n"
     },
     "execution_count": 17,
     "metadata": {},
     "output_type": "execute_result"
    }
   ],
   "source": [
    "Json.Default.encodeToString(belov)"
   ],
   "metadata": {
    "collapsed": false,
    "ExecuteTime": {
     "end_time": "2023-07-23T11:07:25.086193Z",
     "start_time": "2023-07-23T11:07:25.053571Z"
    }
   }
  },
  {
   "cell_type": "code",
   "execution_count": 18,
   "outputs": [
    {
     "data": {
      "text/plain": "[]"
     },
     "execution_count": 18,
     "metadata": {},
     "output_type": "execute_result"
    }
   ],
   "source": [
    "val s = \"[]\".deserialize(\"Test\")\n",
    "s\n"
   ],
   "metadata": {
    "collapsed": false,
    "ExecuteTime": {
     "end_time": "2023-07-23T11:07:25.187020Z",
     "start_time": "2023-07-23T11:07:25.085512Z"
    }
   }
  },
  {
   "cell_type": "code",
   "execution_count": 19,
   "outputs": [],
   "source": [
    "class Test : ArrayList<Any>()"
   ],
   "metadata": {
    "collapsed": false,
    "ExecuteTime": {
     "end_time": "2023-07-23T11:07:25.349959Z",
     "start_time": "2023-07-23T11:07:25.184995Z"
    }
   }
  },
  {
   "cell_type": "code",
   "execution_count": 20,
   "outputs": [
    {
     "data": {
      "text/plain": "[]"
     },
     "execution_count": 20,
     "metadata": {},
     "output_type": "execute_result"
    }
   ],
   "source": [
    "runBlocking { client.get(belov.organizationsUrl).bodyAsText() }"
   ],
   "metadata": {
    "collapsed": false,
    "ExecuteTime": {
     "end_time": "2023-07-23T11:07:25.745354Z",
     "start_time": "2023-07-23T11:07:25.349857Z"
    }
   }
  },
  {
   "cell_type": "code",
   "execution_count": 21,
   "outputs": [
    {
     "name": "stderr",
     "output_type": "stream",
     "text": [
      "Line_29.jupyter.kts (1:30 - 34) Unresolved reference: subs"
     ]
    }
   ],
   "source": [
    "val langs = client.getObject(subs[1].languagesUrl, \"Langs\")"
   ],
   "metadata": {
    "collapsed": false,
    "ExecuteTime": {
     "end_time": "2023-07-23T11:07:25.794662Z",
     "start_time": "2023-07-23T11:07:25.744348Z"
    }
   }
  },
  {
   "cell_type": "code",
   "execution_count": 22,
   "outputs": [
    {
     "name": "stderr",
     "output_type": "stream",
     "text": [
      "Line_30.jupyter.kts (1:1 - 6) Unresolved reference: langs"
     ]
    }
   ],
   "source": [
    "langs"
   ],
   "metadata": {
    "collapsed": false,
    "ExecuteTime": {
     "start_time": "2023-07-23T11:07:25.766165Z"
    }
   }
  },
  {
   "cell_type": "code",
   "execution_count": 23,
   "outputs": [
    {
     "name": "stderr",
     "output_type": "stream",
     "text": [
      "Line_31.jupyter.kts (1:29 - 33) Unresolved reference: subs"
     ]
    }
   ],
   "source": [
    "Json.Default.encodeToString(subs[0])"
   ],
   "metadata": {
    "collapsed": false,
    "ExecuteTime": {
     "start_time": "2023-07-23T11:07:25.777463Z"
    }
   }
  },
  {
   "cell_type": "code",
   "execution_count": 24,
   "outputs": [
    {
     "name": "stderr",
     "output_type": "stream",
     "text": [
      "Line_32.jupyter.kts (1:1 - 10) Unresolved reference: followers\n",
      "Line_32.jupyter.kts (1:17 - 19) Unresolved reference: it"
     ]
    }
   ],
   "source": [
    "followers.map { it.login }"
   ],
   "metadata": {
    "collapsed": false,
    "ExecuteTime": {
     "start_time": "2023-07-23T11:07:25.792515Z"
    }
   }
  },
  {
   "cell_type": "code",
   "execution_count": 25,
   "outputs": [],
   "source": [
    "%use dataframe"
   ],
   "metadata": {
    "collapsed": false
   }
  },
  {
   "cell_type": "code",
   "execution_count": 26,
   "outputs": [
    {
     "name": "stderr",
     "output_type": "stream",
     "text": [
      "Line_37.jupyter.kts (1:1 - 6) Unresolved reference: repos\n",
      "Line_37.jupyter.kts (1:13 - 15) Unresolved reference: it"
     ]
    }
   ],
   "source": [
    "repos.map { it.mirrorUrl }"
   ],
   "metadata": {
    "collapsed": false
   }
  },
  {
   "cell_type": "code",
   "execution_count": 27,
   "outputs": [],
   "source": [
    "class A(val s: String?, val b: String)\n",
    "class B(val s: String?, val b: String, val C: A)"
   ],
   "metadata": {
    "collapsed": false
   }
  },
  {
   "cell_type": "code",
   "execution_count": 28,
   "outputs": [],
   "source": [
    "val collection = listOf(B(null, \"1\", A(null, \"1\")), B(null, \"2\", A(null, \"2\")))"
   ],
   "metadata": {
    "collapsed": false
   }
  },
  {
   "cell_type": "code",
   "execution_count": 29,
   "outputs": [
    {
     "data": {
      "text/html": "            <iframe onload=\"o_resize_iframe_out_1()\" style=\"width:100%;\" class=\"result_container\" id=\"iframe_out_1\" frameBorder=\"0\" srcdoc=\"        &lt;html theme='dark'&gt;\n        &lt;head&gt;\n            &lt;style type=&quot;text&sol;css&quot;&gt;\n                :root {\n    --background: #fff;\n    --background-odd: #f5f5f5;\n    --background-hover: #d9edfd;\n    --header-text-color: #474747;\n    --text-color: #848484;\n    --text-color-dark: #000;\n    --text-color-medium: #737373;\n    --text-color-pale: #b3b3b3;\n    --inner-border-color: #aaa;\n    --bold-border-color: #000;\n    --link-color: #296eaa;\n    --link-color-pale: #296eaa;\n    --link-hover: #1a466c;\n}\n\n:root[theme=&quot;dark&quot;], :root [data-jp-theme-light=&quot;false&quot;], .dataframe_dark{\n    --background: #303030;\n    --background-odd: #3c3c3c;\n    --background-hover: #464646;\n    --header-text-color: #dddddd;\n    --text-color: #b3b3b3;\n    --text-color-dark: #dddddd;\n    --text-color-medium: #b2b2b2;\n    --text-color-pale: #737373;\n    --inner-border-color: #707070;\n    --bold-border-color: #777777;\n    --link-color: #008dc0;\n    --link-color-pale: #97e1fb;\n    --link-hover: #00688e;\n}\n\np.dataframe_description {\n    color: var(--text-color-dark);\n}\n\ntable.dataframe {\n    font-family: &quot;Helvetica Neue&quot;, Helvetica, Arial, sans-serif;\n    font-size: 12px;\n    background-color: var(--background);\n    color: var(--text-color-dark);\n    border: none;\n    border-collapse: collapse;\n}\n\ntable.dataframe th, td {\n    padding: 6px;\n    border: 1px solid transparent;\n    text-align: left;\n}\n\ntable.dataframe th {\n    background-color: var(--background);\n    color: var(--header-text-color);\n}\n\ntable.dataframe td {\n    vertical-align: top;\n}\n\ntable.dataframe th.bottomBorder {\n    border-bottom-color: var(--bold-border-color);\n}\n\ntable.dataframe tbody &gt; tr:nth-child(odd) {\n    background: var(--background-odd);\n}\n\ntable.dataframe tbody &gt; tr:nth-child(even) {\n    background: var(--background);\n}\n\ntable.dataframe tbody &gt; tr:hover {\n    background: var(--background-hover);\n}\n\ntable.dataframe a {\n    cursor: pointer;\n    color: var(--link-color);\n    text-decoration: none;\n}\n\ntable.dataframe tr:hover &gt; td a {\n    color: var(--link-color-pale);\n}\n\ntable.dataframe a:hover {\n    color: var(--link-hover);\n    text-decoration: underline;\n}\n\ntable.dataframe img {\n    max-width: fit-content;\n}\n\ntable.dataframe th.complex {\n    background-color: var(--background);\n    border: 1px solid var(--background);\n}\n\ntable.dataframe .leftBorder {\n    border-left-color: var(--inner-border-color);\n}\n\ntable.dataframe .rightBorder {\n    border-right-color: var(--inner-border-color);\n}\n\ntable.dataframe .rightAlign {\n    text-align: right;\n}\n\ntable.dataframe .expanderSvg {\n    width: 8px;\n    height: 8px;\n    margin-right: 3px;\n}\n\ntable.dataframe .expander {\n    display: flex;\n    align-items: center;\n}\n\n&sol;* formatting *&sol;\n\ntable.dataframe .null {\n    color: var(--text-color-pale);\n}\n\ntable.dataframe .structural {\n    color: var(--text-color-medium);\n    font-weight: bold;\n}\n\ntable.dataframe .dataFrameCaption {\n    font-weight: bold;\n}\n\ntable.dataframe .numbers {\n    color: var(--text-color-dark);\n}\n\ntable.dataframe td:hover .formatted .structural, .null {\n    color: var(--text-color-dark);\n}\n\ntable.dataframe tr:hover .formatted .structural, .null {\n    color: var(--text-color-dark);\n}\n\n\n\n\n:root {\n    --scroll-bg: #f5f5f5;\n    --scroll-fg: #b3b3b3;\n}\n:root[theme=&quot;dark&quot;], :root [data-jp-theme-light=&quot;false&quot;]{\n    --scroll-bg: #3c3c3c;\n    --scroll-fg: #97e1fb;\n}\nbody {\n    scrollbar-color: var(--scroll-fg) var(--scroll-bg);\n}\nbody::-webkit-scrollbar {\n    width: 10px; &sol;* Mostly for vertical scrollbars *&sol;\n    height: 10px; &sol;* Mostly for horizontal scrollbars *&sol;\n}\nbody::-webkit-scrollbar-thumb {\n    background-color: var(--scroll-fg);\n}\nbody::-webkit-scrollbar-track {\n    background-color: var(--scroll-bg);\n}\n            &lt;&sol;style&gt;\n        &lt;&sol;head&gt;\n        &lt;body&gt;\n            \n&lt;table class=&quot;dataframe&quot; id=&quot;df_1157627904&quot;&gt;&lt;&sol;table&gt;\n\n&lt;p class=&quot;dataframe_description&quot;&gt;DataFrame: rowsCount = 2, columnsCount = 3&lt;&sol;p&gt;\n\n        &lt;&sol;body&gt;\n        &lt;script&gt;\n            (function () {\n    window.DataFrame = window.DataFrame || new (function () {\n        this.addTable = function (df) {\n            let cols = df.cols;\n            for (let i = 0; i &lt; cols.length; i++) {\n                for (let c of cols[i].children) {\n                    cols[c].parent = i;\n                }\n            }\n            df.nrow = 0\n            for (let i = 0; i &lt; df.cols.length; i++) {\n                if (df.cols[i].values.length &gt; df.nrow) df.nrow = df.cols[i].values.length\n            }\n            if (df.id === df.rootId) {\n                df.expandedFrames = new Set()\n                df.childFrames = {}\n                const table = this.getTableElement(df.id)\n                table.df = df\n                for (let i = 0; i &lt; df.cols.length; i++) {\n                    let col = df.cols[i]\n                    if (col.parent === undefined &amp;&amp; col.children.length &gt; 0) col.expanded = true\n                }\n            } else {\n                const rootDf = this.getTableData(df.rootId)\n                rootDf.childFrames[df.id] = df\n            }\n        }\n\n        this.computeRenderData = function (df) {\n            let result = []\n            let pos = 0\n            for (let col = 0; col &lt; df.cols.length; col++) {\n                if (df.cols[col].parent === undefined)\n                    pos += this.computeRenderDataRec(df.cols, col, pos, 0, result, false, false)\n            }\n            for (let i = 0; i &lt; result.length; i++) {\n                let row = result[i]\n                for (let j = 0; j &lt; row.length; j++) {\n                    let cell = row[j]\n                    if (j === 0)\n                        cell.leftBd = false\n                    if (j &lt; row.length - 1) {\n                        let nextData = row[j + 1]\n                        if (nextData.leftBd) cell.rightBd = true\n                        else if (cell.rightBd) nextData.leftBd = true\n                    } else cell.rightBd = false\n                }\n            }\n            return result\n        }\n\n        this.computeRenderDataRec = function (cols, colId, pos, depth, result, leftBorder, rightBorder) {\n            if (result.length === depth) {\n                const array = [];\n                if (pos &gt; 0) {\n                    let j = 0\n                    for (let i = 0; j &lt; pos; i++) {\n                        let c = result[depth - 1][i]\n                        j += c.span\n                        let copy = Object.assign({empty: true}, c)\n                        array.push(copy)\n                    }\n                }\n                result.push(array)\n            }\n            const col = cols[colId];\n            let size = 0;\n            if (col.expanded) {\n                let childPos = pos\n                for (let i = 0; i &lt; col.children.length; i++) {\n                    let child = col.children[i]\n                    let childLeft = i === 0 &amp;&amp; (col.children.length &gt; 1 || leftBorder)\n                    let childRight = i === col.children.length - 1 &amp;&amp; (col.children.length &gt; 1 || rightBorder)\n                    let childSize = this.computeRenderDataRec(cols, child, childPos, depth + 1, result, childLeft, childRight)\n                    childPos += childSize\n                    size += childSize\n                }\n            } else {\n                for (let i = depth + 1; i &lt; result.length; i++)\n                    result[i].push({id: colId, span: 1, leftBd: leftBorder, rightBd: rightBorder, empty: true})\n                size = 1\n            }\n            let left = leftBorder\n            let right = rightBorder\n            if (size &gt; 1) {\n                left = true\n                right = true\n            }\n            result[depth].push({id: colId, span: size, leftBd: left, rightBd: right})\n            return size\n        }\n\n        this.getTableElement = function (id) {\n            return document.getElementById(&quot;df_&quot; + id)\n        }\n\n        this.getTableData = function (id) {\n            return this.getTableElement(id).df\n        }\n\n        this.createExpander = function (isExpanded) {\n            const svgNs = &quot;http:&sol;&sol;www.w3.org&sol;2000&sol;svg&quot;\n            let svg = document.createElementNS(svgNs, &quot;svg&quot;)\n            svg.classList.add(&quot;expanderSvg&quot;)\n            let path = document.createElementNS(svgNs, &quot;path&quot;)\n            if (isExpanded) {\n                svg.setAttribute(&quot;viewBox&quot;, &quot;0 -2 8 8&quot;)\n                path.setAttribute(&quot;d&quot;, &quot;M1 0 l-1 1 4 4 4 -4 -1 -1 -3 3Z&quot;)\n            } else {\n                svg.setAttribute(&quot;viewBox&quot;, &quot;-2 0 8 8&quot;)\n                path.setAttribute(&quot;d&quot;, &quot;M1 0 l-1 1 3 3 -3 3 1 1 4 -4Z&quot;)\n            }\n            path.setAttribute(&quot;fill&quot;, &quot;currentColor&quot;)\n            svg.appendChild(path)\n            return svg\n        }\n\n        this.renderTable = function (id) {\n\n            let table = this.getTableElement(id)\n\n            if (table === null) return\n\n            table.innerHTML = &quot;&quot;\n\n            let df = table.df\n            let rootDf = df.rootId === df.id ? df : this.getTableData(df.rootId)\n\n            &sol;&sol; header\n            let header = document.createElement(&quot;thead&quot;)\n            table.appendChild(header)\n\n            let renderData = this.computeRenderData(df)\n            for (let j = 0; j &lt; renderData.length; j++) {\n                let rowData = renderData[j]\n                let tr = document.createElement(&quot;tr&quot;);\n                let isLastRow = j === renderData.length - 1\n                header.appendChild(tr);\n                for (let i = 0; i &lt; rowData.length; i++) {\n                    let cell = rowData[i]\n                    let th = document.createElement(&quot;th&quot;);\n                    th.setAttribute(&quot;colspan&quot;, cell.span)\n                    let colId = cell.id\n                    let col = df.cols[colId];\n                    if (!cell.empty) {\n                        if (col.children.length === 0) {\n                            th.innerHTML = col.name\n                        } else {\n                            let link = document.createElement(&quot;a&quot;)\n                            link.className = &quot;expander&quot;\n                            let that = this\n                            link.onclick = function () {\n                                col.expanded = !col.expanded\n                                that.renderTable(id)\n                            }\n                            link.appendChild(this.createExpander(col.expanded))\n                            link.innerHTML += col.name\n                            th.appendChild(link)\n                        }\n                    }\n                    let classes = (cell.leftBd ? &quot; leftBorder&quot; : &quot;&quot;) + (cell.rightBd ? &quot; rightBorder&quot; : &quot;&quot;)\n                    if (col.rightAlign)\n                        classes += &quot; rightAlign&quot;\n                    if (isLastRow)\n                        classes += &quot; bottomBorder&quot;\n                    if (classes.length &gt; 0)\n                        th.setAttribute(&quot;class&quot;, classes)\n                    tr.appendChild(th)\n                }\n            }\n\n            &sol;&sol; body\n            let body = document.createElement(&quot;tbody&quot;)\n            table.appendChild(body)\n\n            let columns = renderData.pop()\n            for (let row = 0; row &lt; df.nrow; row++) {\n                let tr = document.createElement(&quot;tr&quot;);\n                body.appendChild(tr)\n                for (let i = 0; i &lt; columns.length; i++) {\n                    let cell = columns[i]\n                    let td = document.createElement(&quot;td&quot;);\n                    let colId = cell.id\n                    let col = df.cols[colId]\n                    let classes = (cell.leftBd ? &quot; leftBorder&quot; : &quot;&quot;) + (cell.rightBd ? &quot; rightBorder&quot; : &quot;&quot;)\n                    if (col.rightAlign)\n                        classes += &quot; rightAlign&quot;\n                    if (classes.length &gt; 0)\n                        td.setAttribute(&quot;class&quot;, classes)\n                    tr.appendChild(td)\n                    let value = col.values[row]\n                    if (value.frameId !== undefined) {\n                        let frameId = value.frameId\n                        let expanded = rootDf.expandedFrames.has(frameId)\n                        let link = document.createElement(&quot;a&quot;)\n                        link.className = &quot;expander&quot;\n                        let that = this\n                        link.onclick = function () {\n                            if (rootDf.expandedFrames.has(frameId))\n                                rootDf.expandedFrames.delete(frameId)\n                            else rootDf.expandedFrames.add(frameId)\n                            that.renderTable(id)\n                        }\n                        link.appendChild(this.createExpander(expanded))\n                        link.innerHTML += value.value\n                        if (expanded) {\n                            td.appendChild(link)\n                            td.appendChild(document.createElement(&quot;p&quot;))\n                            const childTable = document.createElement(&quot;table&quot;)\n                            childTable.className = &quot;dataframe&quot;\n                            childTable.id = &quot;df_&quot; + frameId\n                            let childDf = rootDf.childFrames[frameId]\n                            childTable.df = childDf\n                            td.appendChild(childTable)\n                            this.renderTable(frameId)\n                            if (childDf.nrow !== childDf.totalRows) {\n                                const footer = document.createElement(&quot;p&quot;)\n                                footer.innerText = `... showing only top ${childDf.nrow} of ${childDf.totalRows} rows`\n                                td.appendChild(footer)\n                            }\n                        } else {\n                            td.appendChild(link)\n                        }\n                    } else if (value.style !== undefined) {\n                        td.innerHTML = value.value\n                        td.setAttribute(&quot;style&quot;, value.style)\n                    } else td.innerHTML = value\n                    this.nodeScriptReplace(td)\n                }\n            }\n        }\n\n        this.nodeScriptReplace = function (node) {\n            if (this.nodeScriptIs(node) === true) {\n                node.parentNode.replaceChild(this.nodeScriptClone(node), node);\n            } else {\n                let i = -1, children = node.childNodes;\n                while (++i &lt; children.length) {\n                    this.nodeScriptReplace(children[i]);\n                }\n            }\n\n            return node;\n        }\n\n        this.nodeScriptClone = function (node) {\n            let script = document.createElement(&quot;script&quot;);\n            script.text = node.innerHTML;\n\n            let i = -1, attrs = node.attributes, attr;\n            while (++i &lt; attrs.length) {\n                script.setAttribute((attr = attrs[i]).name, attr.value);\n            }\n            return script;\n        }\n\n        this.nodeScriptIs = function (node) {\n            return node.tagName === 'SCRIPT';\n        }\n    })()\n\n    window.call_DataFrame = function (f) {\n        return f();\n    };\n\n    let funQueue = window[&quot;kotlinQueues&quot;] &amp;&amp; window[&quot;kotlinQueues&quot;][&quot;DataFrame&quot;];\n    if (funQueue) {\n        funQueue.forEach(function (f) {\n            f();\n        });\n        funQueue = [];\n    }\n})()\n\n&sol;*&lt;!--*&sol;\ncall_DataFrame(function() { DataFrame.addTable({ cols: [{ name: &quot;&lt;span title=&bsol;&quot;s: String?&bsol;&quot;&gt;s&lt;&sol;span&gt;&quot;, children: [], rightAlign: false, values: [&quot;&lt;span class=&bsol;&quot;formatted&bsol;&quot; title=&bsol;&quot;&bsol;&quot;&gt;&lt;span class=&bsol;&quot;null&bsol;&quot;&gt;null&lt;&sol;span&gt;&lt;&sol;span&gt;&quot;,&quot;&lt;span class=&bsol;&quot;formatted&bsol;&quot; title=&bsol;&quot;&bsol;&quot;&gt;&lt;span class=&bsol;&quot;null&bsol;&quot;&gt;null&lt;&sol;span&gt;&lt;&sol;span&gt;&quot;] }, \n{ name: &quot;&lt;span title=&bsol;&quot;b: String&bsol;&quot;&gt;b&lt;&sol;span&gt;&quot;, children: [], rightAlign: false, values: [&quot;1&quot;,&quot;2&quot;] }, \n{ name: &quot;&lt;span title=&bsol;&quot;s: String?&bsol;&quot;&gt;s&lt;&sol;span&gt;&quot;, children: [], rightAlign: false, values: [&quot;&lt;span class=&bsol;&quot;formatted&bsol;&quot; title=&bsol;&quot;&bsol;&quot;&gt;&lt;span class=&bsol;&quot;null&bsol;&quot;&gt;null&lt;&sol;span&gt;&lt;&sol;span&gt;&quot;,&quot;&lt;span class=&bsol;&quot;formatted&bsol;&quot; title=&bsol;&quot;&bsol;&quot;&gt;&lt;span class=&bsol;&quot;null&bsol;&quot;&gt;null&lt;&sol;span&gt;&lt;&sol;span&gt;&quot;] }, \n{ name: &quot;&lt;span title=&bsol;&quot;b: String&bsol;&quot;&gt;b&lt;&sol;span&gt;&quot;, children: [], rightAlign: false, values: [&quot;1&quot;,&quot;2&quot;] }, \n{ name: &quot;&lt;span title=&bsol;&quot;C: DataRow&bsol;&quot;&gt;C&lt;&sol;span&gt;&quot;, children: [2, 3], rightAlign: false, values: [&quot;&lt;span class=&bsol;&quot;formatted&bsol;&quot; title=&bsol;&quot;b: 1&bsol;&quot;&gt;&lt;span class=&bsol;&quot;structural&bsol;&quot;&gt;{ &lt;&sol;span&gt;&lt;span class=&bsol;&quot;structural&bsol;&quot;&gt;b: &lt;&sol;span&gt;1&lt;span class=&bsol;&quot;structural&bsol;&quot;&gt; }&lt;&sol;span&gt;&lt;&sol;span&gt;&quot;,&quot;&lt;span class=&bsol;&quot;formatted&bsol;&quot; title=&bsol;&quot;b: 2&bsol;&quot;&gt;&lt;span class=&bsol;&quot;structural&bsol;&quot;&gt;{ &lt;&sol;span&gt;&lt;span class=&bsol;&quot;structural&bsol;&quot;&gt;b: &lt;&sol;span&gt;2&lt;span class=&bsol;&quot;structural&bsol;&quot;&gt; }&lt;&sol;span&gt;&lt;&sol;span&gt;&quot;] }, \n], id: 1157627904, rootId: 1157627904, totalRows: 2 } ) });\n&sol;*--&gt;*&sol;\n\ncall_DataFrame(function() { DataFrame.renderTable(1157627904) });\n\n\n\n        &lt;&sol;script&gt;\n        &lt;&sol;html&gt;\"></iframe>\n            <script>\n                function o_resize_iframe_out_1() {\n                    let elem = document.getElementById(\"iframe_out_1\");\n                    resize_iframe_out_1(elem);\n                    setInterval(resize_iframe_out_1, 5000, elem);\n                }\n                function resize_iframe_out_1(el) {\n                    let h = el.contentWindow.document.body.scrollHeight;\n                    el.height = h === 0 ? 0 : h + 41;\n                }\n            </script>",
      "application/kotlindataframe+json": "{\"nrow\":2,\"ncol\":3,\"columns\":[\"s\",\"b\",\"C\"],\"kotlin_dataframe\":[{\"s\":null,\"b\":\"1\",\"C\":{\"s\":null,\"b\":\"1\"}},{\"s\":null,\"b\":\"2\",\"C\":{\"s\":null,\"b\":\"2\"}}]}"
     },
     "execution_count": 29,
     "metadata": {},
     "output_type": "execute_result"
    }
   ],
   "source": [
    "collection.toDataFrame(maxDepth = 1)"
   ],
   "metadata": {
    "collapsed": false
   }
  },
  {
   "cell_type": "code",
   "execution_count": 30,
   "outputs": [
    {
     "data": {
      "text/html": "            <iframe onload=\"o_resize_iframe_out_2()\" style=\"width:100%;\" class=\"result_container\" id=\"iframe_out_2\" frameBorder=\"0\" srcdoc=\"        &lt;html theme='dark'&gt;\n        &lt;head&gt;\n            &lt;style type=&quot;text&sol;css&quot;&gt;\n                :root {\n    --background: #fff;\n    --background-odd: #f5f5f5;\n    --background-hover: #d9edfd;\n    --header-text-color: #474747;\n    --text-color: #848484;\n    --text-color-dark: #000;\n    --text-color-medium: #737373;\n    --text-color-pale: #b3b3b3;\n    --inner-border-color: #aaa;\n    --bold-border-color: #000;\n    --link-color: #296eaa;\n    --link-color-pale: #296eaa;\n    --link-hover: #1a466c;\n}\n\n:root[theme=&quot;dark&quot;], :root [data-jp-theme-light=&quot;false&quot;], .dataframe_dark{\n    --background: #303030;\n    --background-odd: #3c3c3c;\n    --background-hover: #464646;\n    --header-text-color: #dddddd;\n    --text-color: #b3b3b3;\n    --text-color-dark: #dddddd;\n    --text-color-medium: #b2b2b2;\n    --text-color-pale: #737373;\n    --inner-border-color: #707070;\n    --bold-border-color: #777777;\n    --link-color: #008dc0;\n    --link-color-pale: #97e1fb;\n    --link-hover: #00688e;\n}\n\np.dataframe_description {\n    color: var(--text-color-dark);\n}\n\ntable.dataframe {\n    font-family: &quot;Helvetica Neue&quot;, Helvetica, Arial, sans-serif;\n    font-size: 12px;\n    background-color: var(--background);\n    color: var(--text-color-dark);\n    border: none;\n    border-collapse: collapse;\n}\n\ntable.dataframe th, td {\n    padding: 6px;\n    border: 1px solid transparent;\n    text-align: left;\n}\n\ntable.dataframe th {\n    background-color: var(--background);\n    color: var(--header-text-color);\n}\n\ntable.dataframe td {\n    vertical-align: top;\n}\n\ntable.dataframe th.bottomBorder {\n    border-bottom-color: var(--bold-border-color);\n}\n\ntable.dataframe tbody &gt; tr:nth-child(odd) {\n    background: var(--background-odd);\n}\n\ntable.dataframe tbody &gt; tr:nth-child(even) {\n    background: var(--background);\n}\n\ntable.dataframe tbody &gt; tr:hover {\n    background: var(--background-hover);\n}\n\ntable.dataframe a {\n    cursor: pointer;\n    color: var(--link-color);\n    text-decoration: none;\n}\n\ntable.dataframe tr:hover &gt; td a {\n    color: var(--link-color-pale);\n}\n\ntable.dataframe a:hover {\n    color: var(--link-hover);\n    text-decoration: underline;\n}\n\ntable.dataframe img {\n    max-width: fit-content;\n}\n\ntable.dataframe th.complex {\n    background-color: var(--background);\n    border: 1px solid var(--background);\n}\n\ntable.dataframe .leftBorder {\n    border-left-color: var(--inner-border-color);\n}\n\ntable.dataframe .rightBorder {\n    border-right-color: var(--inner-border-color);\n}\n\ntable.dataframe .rightAlign {\n    text-align: right;\n}\n\ntable.dataframe .expanderSvg {\n    width: 8px;\n    height: 8px;\n    margin-right: 3px;\n}\n\ntable.dataframe .expander {\n    display: flex;\n    align-items: center;\n}\n\n&sol;* formatting *&sol;\n\ntable.dataframe .null {\n    color: var(--text-color-pale);\n}\n\ntable.dataframe .structural {\n    color: var(--text-color-medium);\n    font-weight: bold;\n}\n\ntable.dataframe .dataFrameCaption {\n    font-weight: bold;\n}\n\ntable.dataframe .numbers {\n    color: var(--text-color-dark);\n}\n\ntable.dataframe td:hover .formatted .structural, .null {\n    color: var(--text-color-dark);\n}\n\ntable.dataframe tr:hover .formatted .structural, .null {\n    color: var(--text-color-dark);\n}\n\n\n\n\n:root {\n    --scroll-bg: #f5f5f5;\n    --scroll-fg: #b3b3b3;\n}\n:root[theme=&quot;dark&quot;], :root [data-jp-theme-light=&quot;false&quot;]{\n    --scroll-bg: #3c3c3c;\n    --scroll-fg: #97e1fb;\n}\nbody {\n    scrollbar-color: var(--scroll-fg) var(--scroll-bg);\n}\nbody::-webkit-scrollbar {\n    width: 10px; &sol;* Mostly for vertical scrollbars *&sol;\n    height: 10px; &sol;* Mostly for horizontal scrollbars *&sol;\n}\nbody::-webkit-scrollbar-thumb {\n    background-color: var(--scroll-fg);\n}\nbody::-webkit-scrollbar-track {\n    background-color: var(--scroll-bg);\n}\n            &lt;&sol;style&gt;\n        &lt;&sol;head&gt;\n        &lt;body&gt;\n            \n&lt;table class=&quot;dataframe&quot; id=&quot;df_1157627905&quot;&gt;&lt;&sol;table&gt;\n\n&lt;p class=&quot;dataframe_description&quot;&gt;DataFrame: rowsCount = 1, columnsCount = 1&lt;&sol;p&gt;\n\n        &lt;&sol;body&gt;\n        &lt;script&gt;\n            (function () {\n    window.DataFrame = window.DataFrame || new (function () {\n        this.addTable = function (df) {\n            let cols = df.cols;\n            for (let i = 0; i &lt; cols.length; i++) {\n                for (let c of cols[i].children) {\n                    cols[c].parent = i;\n                }\n            }\n            df.nrow = 0\n            for (let i = 0; i &lt; df.cols.length; i++) {\n                if (df.cols[i].values.length &gt; df.nrow) df.nrow = df.cols[i].values.length\n            }\n            if (df.id === df.rootId) {\n                df.expandedFrames = new Set()\n                df.childFrames = {}\n                const table = this.getTableElement(df.id)\n                table.df = df\n                for (let i = 0; i &lt; df.cols.length; i++) {\n                    let col = df.cols[i]\n                    if (col.parent === undefined &amp;&amp; col.children.length &gt; 0) col.expanded = true\n                }\n            } else {\n                const rootDf = this.getTableData(df.rootId)\n                rootDf.childFrames[df.id] = df\n            }\n        }\n\n        this.computeRenderData = function (df) {\n            let result = []\n            let pos = 0\n            for (let col = 0; col &lt; df.cols.length; col++) {\n                if (df.cols[col].parent === undefined)\n                    pos += this.computeRenderDataRec(df.cols, col, pos, 0, result, false, false)\n            }\n            for (let i = 0; i &lt; result.length; i++) {\n                let row = result[i]\n                for (let j = 0; j &lt; row.length; j++) {\n                    let cell = row[j]\n                    if (j === 0)\n                        cell.leftBd = false\n                    if (j &lt; row.length - 1) {\n                        let nextData = row[j + 1]\n                        if (nextData.leftBd) cell.rightBd = true\n                        else if (cell.rightBd) nextData.leftBd = true\n                    } else cell.rightBd = false\n                }\n            }\n            return result\n        }\n\n        this.computeRenderDataRec = function (cols, colId, pos, depth, result, leftBorder, rightBorder) {\n            if (result.length === depth) {\n                const array = [];\n                if (pos &gt; 0) {\n                    let j = 0\n                    for (let i = 0; j &lt; pos; i++) {\n                        let c = result[depth - 1][i]\n                        j += c.span\n                        let copy = Object.assign({empty: true}, c)\n                        array.push(copy)\n                    }\n                }\n                result.push(array)\n            }\n            const col = cols[colId];\n            let size = 0;\n            if (col.expanded) {\n                let childPos = pos\n                for (let i = 0; i &lt; col.children.length; i++) {\n                    let child = col.children[i]\n                    let childLeft = i === 0 &amp;&amp; (col.children.length &gt; 1 || leftBorder)\n                    let childRight = i === col.children.length - 1 &amp;&amp; (col.children.length &gt; 1 || rightBorder)\n                    let childSize = this.computeRenderDataRec(cols, child, childPos, depth + 1, result, childLeft, childRight)\n                    childPos += childSize\n                    size += childSize\n                }\n            } else {\n                for (let i = depth + 1; i &lt; result.length; i++)\n                    result[i].push({id: colId, span: 1, leftBd: leftBorder, rightBd: rightBorder, empty: true})\n                size = 1\n            }\n            let left = leftBorder\n            let right = rightBorder\n            if (size &gt; 1) {\n                left = true\n                right = true\n            }\n            result[depth].push({id: colId, span: size, leftBd: left, rightBd: right})\n            return size\n        }\n\n        this.getTableElement = function (id) {\n            return document.getElementById(&quot;df_&quot; + id)\n        }\n\n        this.getTableData = function (id) {\n            return this.getTableElement(id).df\n        }\n\n        this.createExpander = function (isExpanded) {\n            const svgNs = &quot;http:&sol;&sol;www.w3.org&sol;2000&sol;svg&quot;\n            let svg = document.createElementNS(svgNs, &quot;svg&quot;)\n            svg.classList.add(&quot;expanderSvg&quot;)\n            let path = document.createElementNS(svgNs, &quot;path&quot;)\n            if (isExpanded) {\n                svg.setAttribute(&quot;viewBox&quot;, &quot;0 -2 8 8&quot;)\n                path.setAttribute(&quot;d&quot;, &quot;M1 0 l-1 1 4 4 4 -4 -1 -1 -3 3Z&quot;)\n            } else {\n                svg.setAttribute(&quot;viewBox&quot;, &quot;-2 0 8 8&quot;)\n                path.setAttribute(&quot;d&quot;, &quot;M1 0 l-1 1 3 3 -3 3 1 1 4 -4Z&quot;)\n            }\n            path.setAttribute(&quot;fill&quot;, &quot;currentColor&quot;)\n            svg.appendChild(path)\n            return svg\n        }\n\n        this.renderTable = function (id) {\n\n            let table = this.getTableElement(id)\n\n            if (table === null) return\n\n            table.innerHTML = &quot;&quot;\n\n            let df = table.df\n            let rootDf = df.rootId === df.id ? df : this.getTableData(df.rootId)\n\n            &sol;&sol; header\n            let header = document.createElement(&quot;thead&quot;)\n            table.appendChild(header)\n\n            let renderData = this.computeRenderData(df)\n            for (let j = 0; j &lt; renderData.length; j++) {\n                let rowData = renderData[j]\n                let tr = document.createElement(&quot;tr&quot;);\n                let isLastRow = j === renderData.length - 1\n                header.appendChild(tr);\n                for (let i = 0; i &lt; rowData.length; i++) {\n                    let cell = rowData[i]\n                    let th = document.createElement(&quot;th&quot;);\n                    th.setAttribute(&quot;colspan&quot;, cell.span)\n                    let colId = cell.id\n                    let col = df.cols[colId];\n                    if (!cell.empty) {\n                        if (col.children.length === 0) {\n                            th.innerHTML = col.name\n                        } else {\n                            let link = document.createElement(&quot;a&quot;)\n                            link.className = &quot;expander&quot;\n                            let that = this\n                            link.onclick = function () {\n                                col.expanded = !col.expanded\n                                that.renderTable(id)\n                            }\n                            link.appendChild(this.createExpander(col.expanded))\n                            link.innerHTML += col.name\n                            th.appendChild(link)\n                        }\n                    }\n                    let classes = (cell.leftBd ? &quot; leftBorder&quot; : &quot;&quot;) + (cell.rightBd ? &quot; rightBorder&quot; : &quot;&quot;)\n                    if (col.rightAlign)\n                        classes += &quot; rightAlign&quot;\n                    if (isLastRow)\n                        classes += &quot; bottomBorder&quot;\n                    if (classes.length &gt; 0)\n                        th.setAttribute(&quot;class&quot;, classes)\n                    tr.appendChild(th)\n                }\n            }\n\n            &sol;&sol; body\n            let body = document.createElement(&quot;tbody&quot;)\n            table.appendChild(body)\n\n            let columns = renderData.pop()\n            for (let row = 0; row &lt; df.nrow; row++) {\n                let tr = document.createElement(&quot;tr&quot;);\n                body.appendChild(tr)\n                for (let i = 0; i &lt; columns.length; i++) {\n                    let cell = columns[i]\n                    let td = document.createElement(&quot;td&quot;);\n                    let colId = cell.id\n                    let col = df.cols[colId]\n                    let classes = (cell.leftBd ? &quot; leftBorder&quot; : &quot;&quot;) + (cell.rightBd ? &quot; rightBorder&quot; : &quot;&quot;)\n                    if (col.rightAlign)\n                        classes += &quot; rightAlign&quot;\n                    if (classes.length &gt; 0)\n                        td.setAttribute(&quot;class&quot;, classes)\n                    tr.appendChild(td)\n                    let value = col.values[row]\n                    if (value.frameId !== undefined) {\n                        let frameId = value.frameId\n                        let expanded = rootDf.expandedFrames.has(frameId)\n                        let link = document.createElement(&quot;a&quot;)\n                        link.className = &quot;expander&quot;\n                        let that = this\n                        link.onclick = function () {\n                            if (rootDf.expandedFrames.has(frameId))\n                                rootDf.expandedFrames.delete(frameId)\n                            else rootDf.expandedFrames.add(frameId)\n                            that.renderTable(id)\n                        }\n                        link.appendChild(this.createExpander(expanded))\n                        link.innerHTML += value.value\n                        if (expanded) {\n                            td.appendChild(link)\n                            td.appendChild(document.createElement(&quot;p&quot;))\n                            const childTable = document.createElement(&quot;table&quot;)\n                            childTable.className = &quot;dataframe&quot;\n                            childTable.id = &quot;df_&quot; + frameId\n                            let childDf = rootDf.childFrames[frameId]\n                            childTable.df = childDf\n                            td.appendChild(childTable)\n                            this.renderTable(frameId)\n                            if (childDf.nrow !== childDf.totalRows) {\n                                const footer = document.createElement(&quot;p&quot;)\n                                footer.innerText = `... showing only top ${childDf.nrow} of ${childDf.totalRows} rows`\n                                td.appendChild(footer)\n                            }\n                        } else {\n                            td.appendChild(link)\n                        }\n                    } else if (value.style !== undefined) {\n                        td.innerHTML = value.value\n                        td.setAttribute(&quot;style&quot;, value.style)\n                    } else td.innerHTML = value\n                    this.nodeScriptReplace(td)\n                }\n            }\n        }\n\n        this.nodeScriptReplace = function (node) {\n            if (this.nodeScriptIs(node) === true) {\n                node.parentNode.replaceChild(this.nodeScriptClone(node), node);\n            } else {\n                let i = -1, children = node.childNodes;\n                while (++i &lt; children.length) {\n                    this.nodeScriptReplace(children[i]);\n                }\n            }\n\n            return node;\n        }\n\n        this.nodeScriptClone = function (node) {\n            let script = document.createElement(&quot;script&quot;);\n            script.text = node.innerHTML;\n\n            let i = -1, attrs = node.attributes, attr;\n            while (++i &lt; attrs.length) {\n                script.setAttribute((attr = attrs[i]).name, attr.value);\n            }\n            return script;\n        }\n\n        this.nodeScriptIs = function (node) {\n            return node.tagName === 'SCRIPT';\n        }\n    })()\n\n    window.call_DataFrame = function (f) {\n        return f();\n    };\n\n    let funQueue = window[&quot;kotlinQueues&quot;] &amp;&amp; window[&quot;kotlinQueues&quot;][&quot;DataFrame&quot;];\n    if (funQueue) {\n        funQueue.forEach(function (f) {\n            f();\n        });\n        funQueue = [];\n    }\n})()\n\n&sol;*&lt;!--*&sol;\ncall_DataFrame(function() { DataFrame.addTable({ cols: [{ name: &quot;&lt;span title=&bsol;&quot;strings: List&lt;String&gt;&bsol;&quot;&gt;strings&lt;&sol;span&gt;&quot;, children: [], rightAlign: false, values: [&quot;&lt;span class=&bsol;&quot;formatted&bsol;&quot; title=&bsol;&quot;a&bsol;nb&bsol;nc&bsol;&quot;&gt;&lt;span class=&bsol;&quot;structural&bsol;&quot;&gt;[&lt;&sol;span&gt;a&lt;span class=&bsol;&quot;structural&bsol;&quot;&gt;, &lt;&sol;span&gt;b&lt;span class=&bsol;&quot;structural&bsol;&quot;&gt;, &lt;&sol;span&gt;c&lt;span class=&bsol;&quot;structural&bsol;&quot;&gt;]&lt;&sol;span&gt;&lt;&sol;span&gt;&quot;] }, \n], id: 1157627905, rootId: 1157627905, totalRows: 1 } ) });\n&sol;*--&gt;*&sol;\n\ncall_DataFrame(function() { DataFrame.renderTable(1157627905) });\n\n\n\n        &lt;&sol;script&gt;\n        &lt;&sol;html&gt;\"></iframe>\n            <script>\n                function o_resize_iframe_out_2() {\n                    let elem = document.getElementById(\"iframe_out_2\");\n                    resize_iframe_out_2(elem);\n                    setInterval(resize_iframe_out_2, 5000, elem);\n                }\n                function resize_iframe_out_2(el) {\n                    let h = el.contentWindow.document.body.scrollHeight;\n                    el.height = h === 0 ? 0 : h + 41;\n                }\n            </script>",
      "application/kotlindataframe+json": "{\"nrow\":1,\"ncol\":1,\"columns\":[\"strings\"],\"kotlin_dataframe\":[{\"strings\":[\"a\",\"b\",\"c\"]}]}"
     },
     "execution_count": 30,
     "metadata": {},
     "output_type": "execute_result"
    }
   ],
   "source": [
    "class C (val strings : List<String>)\n",
    "val c = listOf(C(listOf(\"a\", \"b\", \"c\")))\n",
    "c.toDataFrame()"
   ],
   "metadata": {
    "collapsed": false
   }
  },
  {
   "cell_type": "code",
   "execution_count": 31,
   "outputs": [
    {
     "data": {
      "text/html": "            <iframe onload=\"o_resize_iframe_out_3()\" style=\"width:100%;\" class=\"result_container\" id=\"iframe_out_3\" frameBorder=\"0\" srcdoc=\"        &lt;html theme='dark'&gt;\n        &lt;head&gt;\n            &lt;style type=&quot;text&sol;css&quot;&gt;\n                :root {\n    --background: #fff;\n    --background-odd: #f5f5f5;\n    --background-hover: #d9edfd;\n    --header-text-color: #474747;\n    --text-color: #848484;\n    --text-color-dark: #000;\n    --text-color-medium: #737373;\n    --text-color-pale: #b3b3b3;\n    --inner-border-color: #aaa;\n    --bold-border-color: #000;\n    --link-color: #296eaa;\n    --link-color-pale: #296eaa;\n    --link-hover: #1a466c;\n}\n\n:root[theme=&quot;dark&quot;], :root [data-jp-theme-light=&quot;false&quot;], .dataframe_dark{\n    --background: #303030;\n    --background-odd: #3c3c3c;\n    --background-hover: #464646;\n    --header-text-color: #dddddd;\n    --text-color: #b3b3b3;\n    --text-color-dark: #dddddd;\n    --text-color-medium: #b2b2b2;\n    --text-color-pale: #737373;\n    --inner-border-color: #707070;\n    --bold-border-color: #777777;\n    --link-color: #008dc0;\n    --link-color-pale: #97e1fb;\n    --link-hover: #00688e;\n}\n\np.dataframe_description {\n    color: var(--text-color-dark);\n}\n\ntable.dataframe {\n    font-family: &quot;Helvetica Neue&quot;, Helvetica, Arial, sans-serif;\n    font-size: 12px;\n    background-color: var(--background);\n    color: var(--text-color-dark);\n    border: none;\n    border-collapse: collapse;\n}\n\ntable.dataframe th, td {\n    padding: 6px;\n    border: 1px solid transparent;\n    text-align: left;\n}\n\ntable.dataframe th {\n    background-color: var(--background);\n    color: var(--header-text-color);\n}\n\ntable.dataframe td {\n    vertical-align: top;\n}\n\ntable.dataframe th.bottomBorder {\n    border-bottom-color: var(--bold-border-color);\n}\n\ntable.dataframe tbody &gt; tr:nth-child(odd) {\n    background: var(--background-odd);\n}\n\ntable.dataframe tbody &gt; tr:nth-child(even) {\n    background: var(--background);\n}\n\ntable.dataframe tbody &gt; tr:hover {\n    background: var(--background-hover);\n}\n\ntable.dataframe a {\n    cursor: pointer;\n    color: var(--link-color);\n    text-decoration: none;\n}\n\ntable.dataframe tr:hover &gt; td a {\n    color: var(--link-color-pale);\n}\n\ntable.dataframe a:hover {\n    color: var(--link-hover);\n    text-decoration: underline;\n}\n\ntable.dataframe img {\n    max-width: fit-content;\n}\n\ntable.dataframe th.complex {\n    background-color: var(--background);\n    border: 1px solid var(--background);\n}\n\ntable.dataframe .leftBorder {\n    border-left-color: var(--inner-border-color);\n}\n\ntable.dataframe .rightBorder {\n    border-right-color: var(--inner-border-color);\n}\n\ntable.dataframe .rightAlign {\n    text-align: right;\n}\n\ntable.dataframe .expanderSvg {\n    width: 8px;\n    height: 8px;\n    margin-right: 3px;\n}\n\ntable.dataframe .expander {\n    display: flex;\n    align-items: center;\n}\n\n&sol;* formatting *&sol;\n\ntable.dataframe .null {\n    color: var(--text-color-pale);\n}\n\ntable.dataframe .structural {\n    color: var(--text-color-medium);\n    font-weight: bold;\n}\n\ntable.dataframe .dataFrameCaption {\n    font-weight: bold;\n}\n\ntable.dataframe .numbers {\n    color: var(--text-color-dark);\n}\n\ntable.dataframe td:hover .formatted .structural, .null {\n    color: var(--text-color-dark);\n}\n\ntable.dataframe tr:hover .formatted .structural, .null {\n    color: var(--text-color-dark);\n}\n\n\n\n\n:root {\n    --scroll-bg: #f5f5f5;\n    --scroll-fg: #b3b3b3;\n}\n:root[theme=&quot;dark&quot;], :root [data-jp-theme-light=&quot;false&quot;]{\n    --scroll-bg: #3c3c3c;\n    --scroll-fg: #97e1fb;\n}\nbody {\n    scrollbar-color: var(--scroll-fg) var(--scroll-bg);\n}\nbody::-webkit-scrollbar {\n    width: 10px; &sol;* Mostly for vertical scrollbars *&sol;\n    height: 10px; &sol;* Mostly for horizontal scrollbars *&sol;\n}\nbody::-webkit-scrollbar-thumb {\n    background-color: var(--scroll-fg);\n}\nbody::-webkit-scrollbar-track {\n    background-color: var(--scroll-bg);\n}\n            &lt;&sol;style&gt;\n        &lt;&sol;head&gt;\n        &lt;body&gt;\n            \n&lt;table class=&quot;dataframe&quot; id=&quot;df_1157627906&quot;&gt;&lt;&sol;table&gt;\n\n&lt;p class=&quot;dataframe_description&quot;&gt;DataFrame: rowsCount = 1, columnsCount = 3&lt;&sol;p&gt;\n\n        &lt;&sol;body&gt;\n        &lt;script&gt;\n            (function () {\n    window.DataFrame = window.DataFrame || new (function () {\n        this.addTable = function (df) {\n            let cols = df.cols;\n            for (let i = 0; i &lt; cols.length; i++) {\n                for (let c of cols[i].children) {\n                    cols[c].parent = i;\n                }\n            }\n            df.nrow = 0\n            for (let i = 0; i &lt; df.cols.length; i++) {\n                if (df.cols[i].values.length &gt; df.nrow) df.nrow = df.cols[i].values.length\n            }\n            if (df.id === df.rootId) {\n                df.expandedFrames = new Set()\n                df.childFrames = {}\n                const table = this.getTableElement(df.id)\n                table.df = df\n                for (let i = 0; i &lt; df.cols.length; i++) {\n                    let col = df.cols[i]\n                    if (col.parent === undefined &amp;&amp; col.children.length &gt; 0) col.expanded = true\n                }\n            } else {\n                const rootDf = this.getTableData(df.rootId)\n                rootDf.childFrames[df.id] = df\n            }\n        }\n\n        this.computeRenderData = function (df) {\n            let result = []\n            let pos = 0\n            for (let col = 0; col &lt; df.cols.length; col++) {\n                if (df.cols[col].parent === undefined)\n                    pos += this.computeRenderDataRec(df.cols, col, pos, 0, result, false, false)\n            }\n            for (let i = 0; i &lt; result.length; i++) {\n                let row = result[i]\n                for (let j = 0; j &lt; row.length; j++) {\n                    let cell = row[j]\n                    if (j === 0)\n                        cell.leftBd = false\n                    if (j &lt; row.length - 1) {\n                        let nextData = row[j + 1]\n                        if (nextData.leftBd) cell.rightBd = true\n                        else if (cell.rightBd) nextData.leftBd = true\n                    } else cell.rightBd = false\n                }\n            }\n            return result\n        }\n\n        this.computeRenderDataRec = function (cols, colId, pos, depth, result, leftBorder, rightBorder) {\n            if (result.length === depth) {\n                const array = [];\n                if (pos &gt; 0) {\n                    let j = 0\n                    for (let i = 0; j &lt; pos; i++) {\n                        let c = result[depth - 1][i]\n                        j += c.span\n                        let copy = Object.assign({empty: true}, c)\n                        array.push(copy)\n                    }\n                }\n                result.push(array)\n            }\n            const col = cols[colId];\n            let size = 0;\n            if (col.expanded) {\n                let childPos = pos\n                for (let i = 0; i &lt; col.children.length; i++) {\n                    let child = col.children[i]\n                    let childLeft = i === 0 &amp;&amp; (col.children.length &gt; 1 || leftBorder)\n                    let childRight = i === col.children.length - 1 &amp;&amp; (col.children.length &gt; 1 || rightBorder)\n                    let childSize = this.computeRenderDataRec(cols, child, childPos, depth + 1, result, childLeft, childRight)\n                    childPos += childSize\n                    size += childSize\n                }\n            } else {\n                for (let i = depth + 1; i &lt; result.length; i++)\n                    result[i].push({id: colId, span: 1, leftBd: leftBorder, rightBd: rightBorder, empty: true})\n                size = 1\n            }\n            let left = leftBorder\n            let right = rightBorder\n            if (size &gt; 1) {\n                left = true\n                right = true\n            }\n            result[depth].push({id: colId, span: size, leftBd: left, rightBd: right})\n            return size\n        }\n\n        this.getTableElement = function (id) {\n            return document.getElementById(&quot;df_&quot; + id)\n        }\n\n        this.getTableData = function (id) {\n            return this.getTableElement(id).df\n        }\n\n        this.createExpander = function (isExpanded) {\n            const svgNs = &quot;http:&sol;&sol;www.w3.org&sol;2000&sol;svg&quot;\n            let svg = document.createElementNS(svgNs, &quot;svg&quot;)\n            svg.classList.add(&quot;expanderSvg&quot;)\n            let path = document.createElementNS(svgNs, &quot;path&quot;)\n            if (isExpanded) {\n                svg.setAttribute(&quot;viewBox&quot;, &quot;0 -2 8 8&quot;)\n                path.setAttribute(&quot;d&quot;, &quot;M1 0 l-1 1 4 4 4 -4 -1 -1 -3 3Z&quot;)\n            } else {\n                svg.setAttribute(&quot;viewBox&quot;, &quot;-2 0 8 8&quot;)\n                path.setAttribute(&quot;d&quot;, &quot;M1 0 l-1 1 3 3 -3 3 1 1 4 -4Z&quot;)\n            }\n            path.setAttribute(&quot;fill&quot;, &quot;currentColor&quot;)\n            svg.appendChild(path)\n            return svg\n        }\n\n        this.renderTable = function (id) {\n\n            let table = this.getTableElement(id)\n\n            if (table === null) return\n\n            table.innerHTML = &quot;&quot;\n\n            let df = table.df\n            let rootDf = df.rootId === df.id ? df : this.getTableData(df.rootId)\n\n            &sol;&sol; header\n            let header = document.createElement(&quot;thead&quot;)\n            table.appendChild(header)\n\n            let renderData = this.computeRenderData(df)\n            for (let j = 0; j &lt; renderData.length; j++) {\n                let rowData = renderData[j]\n                let tr = document.createElement(&quot;tr&quot;);\n                let isLastRow = j === renderData.length - 1\n                header.appendChild(tr);\n                for (let i = 0; i &lt; rowData.length; i++) {\n                    let cell = rowData[i]\n                    let th = document.createElement(&quot;th&quot;);\n                    th.setAttribute(&quot;colspan&quot;, cell.span)\n                    let colId = cell.id\n                    let col = df.cols[colId];\n                    if (!cell.empty) {\n                        if (col.children.length === 0) {\n                            th.innerHTML = col.name\n                        } else {\n                            let link = document.createElement(&quot;a&quot;)\n                            link.className = &quot;expander&quot;\n                            let that = this\n                            link.onclick = function () {\n                                col.expanded = !col.expanded\n                                that.renderTable(id)\n                            }\n                            link.appendChild(this.createExpander(col.expanded))\n                            link.innerHTML += col.name\n                            th.appendChild(link)\n                        }\n                    }\n                    let classes = (cell.leftBd ? &quot; leftBorder&quot; : &quot;&quot;) + (cell.rightBd ? &quot; rightBorder&quot; : &quot;&quot;)\n                    if (col.rightAlign)\n                        classes += &quot; rightAlign&quot;\n                    if (isLastRow)\n                        classes += &quot; bottomBorder&quot;\n                    if (classes.length &gt; 0)\n                        th.setAttribute(&quot;class&quot;, classes)\n                    tr.appendChild(th)\n                }\n            }\n\n            &sol;&sol; body\n            let body = document.createElement(&quot;tbody&quot;)\n            table.appendChild(body)\n\n            let columns = renderData.pop()\n            for (let row = 0; row &lt; df.nrow; row++) {\n                let tr = document.createElement(&quot;tr&quot;);\n                body.appendChild(tr)\n                for (let i = 0; i &lt; columns.length; i++) {\n                    let cell = columns[i]\n                    let td = document.createElement(&quot;td&quot;);\n                    let colId = cell.id\n                    let col = df.cols[colId]\n                    let classes = (cell.leftBd ? &quot; leftBorder&quot; : &quot;&quot;) + (cell.rightBd ? &quot; rightBorder&quot; : &quot;&quot;)\n                    if (col.rightAlign)\n                        classes += &quot; rightAlign&quot;\n                    if (classes.length &gt; 0)\n                        td.setAttribute(&quot;class&quot;, classes)\n                    tr.appendChild(td)\n                    let value = col.values[row]\n                    if (value.frameId !== undefined) {\n                        let frameId = value.frameId\n                        let expanded = rootDf.expandedFrames.has(frameId)\n                        let link = document.createElement(&quot;a&quot;)\n                        link.className = &quot;expander&quot;\n                        let that = this\n                        link.onclick = function () {\n                            if (rootDf.expandedFrames.has(frameId))\n                                rootDf.expandedFrames.delete(frameId)\n                            else rootDf.expandedFrames.add(frameId)\n                            that.renderTable(id)\n                        }\n                        link.appendChild(this.createExpander(expanded))\n                        link.innerHTML += value.value\n                        if (expanded) {\n                            td.appendChild(link)\n                            td.appendChild(document.createElement(&quot;p&quot;))\n                            const childTable = document.createElement(&quot;table&quot;)\n                            childTable.className = &quot;dataframe&quot;\n                            childTable.id = &quot;df_&quot; + frameId\n                            let childDf = rootDf.childFrames[frameId]\n                            childTable.df = childDf\n                            td.appendChild(childTable)\n                            this.renderTable(frameId)\n                            if (childDf.nrow !== childDf.totalRows) {\n                                const footer = document.createElement(&quot;p&quot;)\n                                footer.innerText = `... showing only top ${childDf.nrow} of ${childDf.totalRows} rows`\n                                td.appendChild(footer)\n                            }\n                        } else {\n                            td.appendChild(link)\n                        }\n                    } else if (value.style !== undefined) {\n                        td.innerHTML = value.value\n                        td.setAttribute(&quot;style&quot;, value.style)\n                    } else td.innerHTML = value\n                    this.nodeScriptReplace(td)\n                }\n            }\n        }\n\n        this.nodeScriptReplace = function (node) {\n            if (this.nodeScriptIs(node) === true) {\n                node.parentNode.replaceChild(this.nodeScriptClone(node), node);\n            } else {\n                let i = -1, children = node.childNodes;\n                while (++i &lt; children.length) {\n                    this.nodeScriptReplace(children[i]);\n                }\n            }\n\n            return node;\n        }\n\n        this.nodeScriptClone = function (node) {\n            let script = document.createElement(&quot;script&quot;);\n            script.text = node.innerHTML;\n\n            let i = -1, attrs = node.attributes, attr;\n            while (++i &lt; attrs.length) {\n                script.setAttribute((attr = attrs[i]).name, attr.value);\n            }\n            return script;\n        }\n\n        this.nodeScriptIs = function (node) {\n            return node.tagName === 'SCRIPT';\n        }\n    })()\n\n    window.call_DataFrame = function (f) {\n        return f();\n    };\n\n    let funQueue = window[&quot;kotlinQueues&quot;] &amp;&amp; window[&quot;kotlinQueues&quot;][&quot;DataFrame&quot;];\n    if (funQueue) {\n        funQueue.forEach(function (f) {\n            f();\n        });\n        funQueue = [];\n    }\n})()\n\n&sol;*&lt;!--*&sol;\ncall_DataFrame(function() { DataFrame.addTable({ cols: [{ name: &quot;&lt;span title=&bsol;&quot;a: String&bsol;&quot;&gt;a&lt;&sol;span&gt;&quot;, children: [], rightAlign: false, values: [&quot;a&quot;] }, \n{ name: &quot;&lt;span title=&bsol;&quot;b: String&bsol;&quot;&gt;b&lt;&sol;span&gt;&quot;, children: [], rightAlign: false, values: [&quot;b&quot;] }, \n{ name: &quot;&lt;span title=&bsol;&quot;c: String&bsol;&quot;&gt;c&lt;&sol;span&gt;&quot;, children: [], rightAlign: false, values: [&quot;c&quot;] }, \n], id: 1157627906, rootId: 1157627906, totalRows: 1 } ) });\n&sol;*--&gt;*&sol;\n\ncall_DataFrame(function() { DataFrame.renderTable(1157627906) });\n\n\n\n        &lt;&sol;script&gt;\n        &lt;&sol;html&gt;\"></iframe>\n            <script>\n                function o_resize_iframe_out_3() {\n                    let elem = document.getElementById(\"iframe_out_3\");\n                    resize_iframe_out_3(elem);\n                    setInterval(resize_iframe_out_3, 5000, elem);\n                }\n                function resize_iframe_out_3(el) {\n                    let h = el.contentWindow.document.body.scrollHeight;\n                    el.height = h === 0 ? 0 : h + 41;\n                }\n            </script>",
      "application/kotlindataframe+json": "{\"nrow\":1,\"ncol\":3,\"columns\":[\"a\",\"b\",\"c\"],\"kotlin_dataframe\":[{\"a\":\"a\",\"b\":\"b\",\"c\":\"c\"}]}"
     },
     "metadata": {},
     "output_type": "display_data"
    },
    {
     "data": {
      "text/html": "            <iframe onload=\"o_resize_iframe_out_4()\" style=\"width:100%;\" class=\"result_container\" id=\"iframe_out_4\" frameBorder=\"0\" srcdoc=\"        &lt;html theme='dark'&gt;\n        &lt;head&gt;\n            &lt;style type=&quot;text&sol;css&quot;&gt;\n                :root {\n    --background: #fff;\n    --background-odd: #f5f5f5;\n    --background-hover: #d9edfd;\n    --header-text-color: #474747;\n    --text-color: #848484;\n    --text-color-dark: #000;\n    --text-color-medium: #737373;\n    --text-color-pale: #b3b3b3;\n    --inner-border-color: #aaa;\n    --bold-border-color: #000;\n    --link-color: #296eaa;\n    --link-color-pale: #296eaa;\n    --link-hover: #1a466c;\n}\n\n:root[theme=&quot;dark&quot;], :root [data-jp-theme-light=&quot;false&quot;], .dataframe_dark{\n    --background: #303030;\n    --background-odd: #3c3c3c;\n    --background-hover: #464646;\n    --header-text-color: #dddddd;\n    --text-color: #b3b3b3;\n    --text-color-dark: #dddddd;\n    --text-color-medium: #b2b2b2;\n    --text-color-pale: #737373;\n    --inner-border-color: #707070;\n    --bold-border-color: #777777;\n    --link-color: #008dc0;\n    --link-color-pale: #97e1fb;\n    --link-hover: #00688e;\n}\n\np.dataframe_description {\n    color: var(--text-color-dark);\n}\n\ntable.dataframe {\n    font-family: &quot;Helvetica Neue&quot;, Helvetica, Arial, sans-serif;\n    font-size: 12px;\n    background-color: var(--background);\n    color: var(--text-color-dark);\n    border: none;\n    border-collapse: collapse;\n}\n\ntable.dataframe th, td {\n    padding: 6px;\n    border: 1px solid transparent;\n    text-align: left;\n}\n\ntable.dataframe th {\n    background-color: var(--background);\n    color: var(--header-text-color);\n}\n\ntable.dataframe td {\n    vertical-align: top;\n}\n\ntable.dataframe th.bottomBorder {\n    border-bottom-color: var(--bold-border-color);\n}\n\ntable.dataframe tbody &gt; tr:nth-child(odd) {\n    background: var(--background-odd);\n}\n\ntable.dataframe tbody &gt; tr:nth-child(even) {\n    background: var(--background);\n}\n\ntable.dataframe tbody &gt; tr:hover {\n    background: var(--background-hover);\n}\n\ntable.dataframe a {\n    cursor: pointer;\n    color: var(--link-color);\n    text-decoration: none;\n}\n\ntable.dataframe tr:hover &gt; td a {\n    color: var(--link-color-pale);\n}\n\ntable.dataframe a:hover {\n    color: var(--link-hover);\n    text-decoration: underline;\n}\n\ntable.dataframe img {\n    max-width: fit-content;\n}\n\ntable.dataframe th.complex {\n    background-color: var(--background);\n    border: 1px solid var(--background);\n}\n\ntable.dataframe .leftBorder {\n    border-left-color: var(--inner-border-color);\n}\n\ntable.dataframe .rightBorder {\n    border-right-color: var(--inner-border-color);\n}\n\ntable.dataframe .rightAlign {\n    text-align: right;\n}\n\ntable.dataframe .expanderSvg {\n    width: 8px;\n    height: 8px;\n    margin-right: 3px;\n}\n\ntable.dataframe .expander {\n    display: flex;\n    align-items: center;\n}\n\n&sol;* formatting *&sol;\n\ntable.dataframe .null {\n    color: var(--text-color-pale);\n}\n\ntable.dataframe .structural {\n    color: var(--text-color-medium);\n    font-weight: bold;\n}\n\ntable.dataframe .dataFrameCaption {\n    font-weight: bold;\n}\n\ntable.dataframe .numbers {\n    color: var(--text-color-dark);\n}\n\ntable.dataframe td:hover .formatted .structural, .null {\n    color: var(--text-color-dark);\n}\n\ntable.dataframe tr:hover .formatted .structural, .null {\n    color: var(--text-color-dark);\n}\n\n\n\n\n:root {\n    --scroll-bg: #f5f5f5;\n    --scroll-fg: #b3b3b3;\n}\n:root[theme=&quot;dark&quot;], :root [data-jp-theme-light=&quot;false&quot;]{\n    --scroll-bg: #3c3c3c;\n    --scroll-fg: #97e1fb;\n}\nbody {\n    scrollbar-color: var(--scroll-fg) var(--scroll-bg);\n}\nbody::-webkit-scrollbar {\n    width: 10px; &sol;* Mostly for vertical scrollbars *&sol;\n    height: 10px; &sol;* Mostly for horizontal scrollbars *&sol;\n}\nbody::-webkit-scrollbar-thumb {\n    background-color: var(--scroll-fg);\n}\nbody::-webkit-scrollbar-track {\n    background-color: var(--scroll-bg);\n}\n            &lt;&sol;style&gt;\n        &lt;&sol;head&gt;\n        &lt;body&gt;\n            \n&lt;table class=&quot;dataframe&quot; id=&quot;df_1157627907&quot;&gt;&lt;&sol;table&gt;\n\n&lt;p class=&quot;dataframe_description&quot;&gt;DataFrame: rowsCount = 2, columnsCount = 1&lt;&sol;p&gt;\n\n        &lt;&sol;body&gt;\n        &lt;script&gt;\n            (function () {\n    window.DataFrame = window.DataFrame || new (function () {\n        this.addTable = function (df) {\n            let cols = df.cols;\n            for (let i = 0; i &lt; cols.length; i++) {\n                for (let c of cols[i].children) {\n                    cols[c].parent = i;\n                }\n            }\n            df.nrow = 0\n            for (let i = 0; i &lt; df.cols.length; i++) {\n                if (df.cols[i].values.length &gt; df.nrow) df.nrow = df.cols[i].values.length\n            }\n            if (df.id === df.rootId) {\n                df.expandedFrames = new Set()\n                df.childFrames = {}\n                const table = this.getTableElement(df.id)\n                table.df = df\n                for (let i = 0; i &lt; df.cols.length; i++) {\n                    let col = df.cols[i]\n                    if (col.parent === undefined &amp;&amp; col.children.length &gt; 0) col.expanded = true\n                }\n            } else {\n                const rootDf = this.getTableData(df.rootId)\n                rootDf.childFrames[df.id] = df\n            }\n        }\n\n        this.computeRenderData = function (df) {\n            let result = []\n            let pos = 0\n            for (let col = 0; col &lt; df.cols.length; col++) {\n                if (df.cols[col].parent === undefined)\n                    pos += this.computeRenderDataRec(df.cols, col, pos, 0, result, false, false)\n            }\n            for (let i = 0; i &lt; result.length; i++) {\n                let row = result[i]\n                for (let j = 0; j &lt; row.length; j++) {\n                    let cell = row[j]\n                    if (j === 0)\n                        cell.leftBd = false\n                    if (j &lt; row.length - 1) {\n                        let nextData = row[j + 1]\n                        if (nextData.leftBd) cell.rightBd = true\n                        else if (cell.rightBd) nextData.leftBd = true\n                    } else cell.rightBd = false\n                }\n            }\n            return result\n        }\n\n        this.computeRenderDataRec = function (cols, colId, pos, depth, result, leftBorder, rightBorder) {\n            if (result.length === depth) {\n                const array = [];\n                if (pos &gt; 0) {\n                    let j = 0\n                    for (let i = 0; j &lt; pos; i++) {\n                        let c = result[depth - 1][i]\n                        j += c.span\n                        let copy = Object.assign({empty: true}, c)\n                        array.push(copy)\n                    }\n                }\n                result.push(array)\n            }\n            const col = cols[colId];\n            let size = 0;\n            if (col.expanded) {\n                let childPos = pos\n                for (let i = 0; i &lt; col.children.length; i++) {\n                    let child = col.children[i]\n                    let childLeft = i === 0 &amp;&amp; (col.children.length &gt; 1 || leftBorder)\n                    let childRight = i === col.children.length - 1 &amp;&amp; (col.children.length &gt; 1 || rightBorder)\n                    let childSize = this.computeRenderDataRec(cols, child, childPos, depth + 1, result, childLeft, childRight)\n                    childPos += childSize\n                    size += childSize\n                }\n            } else {\n                for (let i = depth + 1; i &lt; result.length; i++)\n                    result[i].push({id: colId, span: 1, leftBd: leftBorder, rightBd: rightBorder, empty: true})\n                size = 1\n            }\n            let left = leftBorder\n            let right = rightBorder\n            if (size &gt; 1) {\n                left = true\n                right = true\n            }\n            result[depth].push({id: colId, span: size, leftBd: left, rightBd: right})\n            return size\n        }\n\n        this.getTableElement = function (id) {\n            return document.getElementById(&quot;df_&quot; + id)\n        }\n\n        this.getTableData = function (id) {\n            return this.getTableElement(id).df\n        }\n\n        this.createExpander = function (isExpanded) {\n            const svgNs = &quot;http:&sol;&sol;www.w3.org&sol;2000&sol;svg&quot;\n            let svg = document.createElementNS(svgNs, &quot;svg&quot;)\n            svg.classList.add(&quot;expanderSvg&quot;)\n            let path = document.createElementNS(svgNs, &quot;path&quot;)\n            if (isExpanded) {\n                svg.setAttribute(&quot;viewBox&quot;, &quot;0 -2 8 8&quot;)\n                path.setAttribute(&quot;d&quot;, &quot;M1 0 l-1 1 4 4 4 -4 -1 -1 -3 3Z&quot;)\n            } else {\n                svg.setAttribute(&quot;viewBox&quot;, &quot;-2 0 8 8&quot;)\n                path.setAttribute(&quot;d&quot;, &quot;M1 0 l-1 1 3 3 -3 3 1 1 4 -4Z&quot;)\n            }\n            path.setAttribute(&quot;fill&quot;, &quot;currentColor&quot;)\n            svg.appendChild(path)\n            return svg\n        }\n\n        this.renderTable = function (id) {\n\n            let table = this.getTableElement(id)\n\n            if (table === null) return\n\n            table.innerHTML = &quot;&quot;\n\n            let df = table.df\n            let rootDf = df.rootId === df.id ? df : this.getTableData(df.rootId)\n\n            &sol;&sol; header\n            let header = document.createElement(&quot;thead&quot;)\n            table.appendChild(header)\n\n            let renderData = this.computeRenderData(df)\n            for (let j = 0; j &lt; renderData.length; j++) {\n                let rowData = renderData[j]\n                let tr = document.createElement(&quot;tr&quot;);\n                let isLastRow = j === renderData.length - 1\n                header.appendChild(tr);\n                for (let i = 0; i &lt; rowData.length; i++) {\n                    let cell = rowData[i]\n                    let th = document.createElement(&quot;th&quot;);\n                    th.setAttribute(&quot;colspan&quot;, cell.span)\n                    let colId = cell.id\n                    let col = df.cols[colId];\n                    if (!cell.empty) {\n                        if (col.children.length === 0) {\n                            th.innerHTML = col.name\n                        } else {\n                            let link = document.createElement(&quot;a&quot;)\n                            link.className = &quot;expander&quot;\n                            let that = this\n                            link.onclick = function () {\n                                col.expanded = !col.expanded\n                                that.renderTable(id)\n                            }\n                            link.appendChild(this.createExpander(col.expanded))\n                            link.innerHTML += col.name\n                            th.appendChild(link)\n                        }\n                    }\n                    let classes = (cell.leftBd ? &quot; leftBorder&quot; : &quot;&quot;) + (cell.rightBd ? &quot; rightBorder&quot; : &quot;&quot;)\n                    if (col.rightAlign)\n                        classes += &quot; rightAlign&quot;\n                    if (isLastRow)\n                        classes += &quot; bottomBorder&quot;\n                    if (classes.length &gt; 0)\n                        th.setAttribute(&quot;class&quot;, classes)\n                    tr.appendChild(th)\n                }\n            }\n\n            &sol;&sol; body\n            let body = document.createElement(&quot;tbody&quot;)\n            table.appendChild(body)\n\n            let columns = renderData.pop()\n            for (let row = 0; row &lt; df.nrow; row++) {\n                let tr = document.createElement(&quot;tr&quot;);\n                body.appendChild(tr)\n                for (let i = 0; i &lt; columns.length; i++) {\n                    let cell = columns[i]\n                    let td = document.createElement(&quot;td&quot;);\n                    let colId = cell.id\n                    let col = df.cols[colId]\n                    let classes = (cell.leftBd ? &quot; leftBorder&quot; : &quot;&quot;) + (cell.rightBd ? &quot; rightBorder&quot; : &quot;&quot;)\n                    if (col.rightAlign)\n                        classes += &quot; rightAlign&quot;\n                    if (classes.length &gt; 0)\n                        td.setAttribute(&quot;class&quot;, classes)\n                    tr.appendChild(td)\n                    let value = col.values[row]\n                    if (value.frameId !== undefined) {\n                        let frameId = value.frameId\n                        let expanded = rootDf.expandedFrames.has(frameId)\n                        let link = document.createElement(&quot;a&quot;)\n                        link.className = &quot;expander&quot;\n                        let that = this\n                        link.onclick = function () {\n                            if (rootDf.expandedFrames.has(frameId))\n                                rootDf.expandedFrames.delete(frameId)\n                            else rootDf.expandedFrames.add(frameId)\n                            that.renderTable(id)\n                        }\n                        link.appendChild(this.createExpander(expanded))\n                        link.innerHTML += value.value\n                        if (expanded) {\n                            td.appendChild(link)\n                            td.appendChild(document.createElement(&quot;p&quot;))\n                            const childTable = document.createElement(&quot;table&quot;)\n                            childTable.className = &quot;dataframe&quot;\n                            childTable.id = &quot;df_&quot; + frameId\n                            let childDf = rootDf.childFrames[frameId]\n                            childTable.df = childDf\n                            td.appendChild(childTable)\n                            this.renderTable(frameId)\n                            if (childDf.nrow !== childDf.totalRows) {\n                                const footer = document.createElement(&quot;p&quot;)\n                                footer.innerText = `... showing only top ${childDf.nrow} of ${childDf.totalRows} rows`\n                                td.appendChild(footer)\n                            }\n                        } else {\n                            td.appendChild(link)\n                        }\n                    } else if (value.style !== undefined) {\n                        td.innerHTML = value.value\n                        td.setAttribute(&quot;style&quot;, value.style)\n                    } else td.innerHTML = value\n                    this.nodeScriptReplace(td)\n                }\n            }\n        }\n\n        this.nodeScriptReplace = function (node) {\n            if (this.nodeScriptIs(node) === true) {\n                node.parentNode.replaceChild(this.nodeScriptClone(node), node);\n            } else {\n                let i = -1, children = node.childNodes;\n                while (++i &lt; children.length) {\n                    this.nodeScriptReplace(children[i]);\n                }\n            }\n\n            return node;\n        }\n\n        this.nodeScriptClone = function (node) {\n            let script = document.createElement(&quot;script&quot;);\n            script.text = node.innerHTML;\n\n            let i = -1, attrs = node.attributes, attr;\n            while (++i &lt; attrs.length) {\n                script.setAttribute((attr = attrs[i]).name, attr.value);\n            }\n            return script;\n        }\n\n        this.nodeScriptIs = function (node) {\n            return node.tagName === 'SCRIPT';\n        }\n    })()\n\n    window.call_DataFrame = function (f) {\n        return f();\n    };\n\n    let funQueue = window[&quot;kotlinQueues&quot;] &amp;&amp; window[&quot;kotlinQueues&quot;][&quot;DataFrame&quot;];\n    if (funQueue) {\n        funQueue.forEach(function (f) {\n            f();\n        });\n        funQueue = [];\n    }\n})()\n\n&sol;*&lt;!--*&sol;\ncall_DataFrame(function() { DataFrame.addTable({ cols: [{ name: &quot;&lt;span title=&bsol;&quot;size: Int&bsol;&quot;&gt;size&lt;&sol;span&gt;&quot;, children: [], rightAlign: true, values: [&quot;&lt;span class=&bsol;&quot;formatted&bsol;&quot; title=&bsol;&quot;&bsol;&quot;&gt;&lt;span class=&bsol;&quot;numbers&bsol;&quot;&gt;3&lt;&sol;span&gt;&lt;&sol;span&gt;&quot;,&quot;&lt;span class=&bsol;&quot;formatted&bsol;&quot; title=&bsol;&quot;&bsol;&quot;&gt;&lt;span class=&bsol;&quot;numbers&bsol;&quot;&gt;4&lt;&sol;span&gt;&lt;&sol;span&gt;&quot;] }, \n], id: 1157627907, rootId: 1157627907, totalRows: 2 } ) });\n&sol;*--&gt;*&sol;\n\ncall_DataFrame(function() { DataFrame.renderTable(1157627907) });\n\n\n\n        &lt;&sol;script&gt;\n        &lt;&sol;html&gt;\"></iframe>\n            <script>\n                function o_resize_iframe_out_4() {\n                    let elem = document.getElementById(\"iframe_out_4\");\n                    resize_iframe_out_4(elem);\n                    setInterval(resize_iframe_out_4, 5000, elem);\n                }\n                function resize_iframe_out_4(el) {\n                    let h = el.contentWindow.document.body.scrollHeight;\n                    el.height = h === 0 ? 0 : h + 41;\n                }\n            </script>",
      "application/kotlindataframe+json": "{\"nrow\":2,\"ncol\":1,\"columns\":[\"size\"],\"kotlin_dataframe\":[{\"size\":3},{\"size\":4}]}"
     },
     "metadata": {},
     "output_type": "display_data"
    }
   ],
   "source": [
    "val c = listOf(listOf(\"a\", \"b\", \"c\"), listOf(\"a\", \"b\", \"c\", \"d\"))\n",
    "DISPLAY(c.toDataFrame())\n",
    "DISPLAY(c.toDataFrame(maxDepth = 1))"
   ],
   "metadata": {
    "collapsed": false
   }
  },
  {
   "cell_type": "code",
   "execution_count": 32,
   "outputs": [],
   "source": [],
   "metadata": {
    "collapsed": false
   }
  },
  {
   "cell_type": "code",
   "execution_count": 33,
   "outputs": [
    {
     "name": "stderr",
     "output_type": "stream",
     "text": [
      "Line_43.jupyter.kts (1:1 - 6) Unresolved reference: repos\n",
      "Line_43.jupyter.kts (1:13 - 15) Unresolved reference: it"
     ]
    }
   ],
   "source": [
    "repos.map { it.topics }.toDataFrame(maxDepth = 1)"
   ],
   "metadata": {
    "collapsed": false
   }
  },
  {
   "cell_type": "code",
   "execution_count": 34,
   "outputs": [
    {
     "data": {
      "text/plain": "\nimport kotlinx.serialization.SerialName\nimport kotlinx.serialization.Serializable\n\n@Serializable\ndata class Res(\n    @SerialName(\"login\")\n    val login: String,\n    @SerialName(\"id\")\n    val id: Int,\n    @SerialName(\"node_id\")\n    val nodeId: String,\n    @SerialName(\"avatar_url\")\n    val avatarUrl: String,\n    @SerialName(\"gravatar_id\")\n    val gravatarId: String,\n    @SerialName(\"url\")\n    val url: String,\n    @SerialName(\"html_url\")\n    val htmlUrl: String,\n    @SerialName(\"followers_url\")\n    val followersUrl: String,\n    @SerialName(\"following_url\")\n    val followingUrl: String,\n    @SerialName(\"gists_url\")\n    val gistsUrl: String,\n    @SerialName(\"starred_url\")\n    val starredUrl: String,\n    @SerialName(\"subscriptions_url\")\n    val subscriptionsUrl: String,\n    @SerialName(\"organizations_url\")\n    val organizationsUrl: String,\n    @SerialName(\"repos_url\")\n    val reposUrl: String,\n    @SerialName(\"events_url\")\n    val eventsUrl: String,\n    @SerialName(\"received_events_url\")\n    val receivedEventsUrl: String,\n    @SerialName(\"type\")\n    val type: String,\n    @SerialName(\"site_admin\")\n    val siteAdmin: Boolean,\n    @SerialName(\"name\")\n    val name: Any?,\n    @SerialName(\"company\")\n    val company: Any?,\n    @SerialName(\"blog\")\n    val blog: String,\n    @SerialName(\"location\")\n    val location: Any?,\n    @SerialName(\"email\")\n    val email: Any?,\n    @SerialName(\"hireable\")\n    val hireable: Any?,\n    @SerialName(\"bio\")\n    val bio: Any?,\n    @SerialName(\"twitter_username\")\n    val twitterUsername: Any?,\n    @SerialName(\"public_repos\")\n    val publicRepos: Int,\n    @SerialName(\"public_gists\")\n    val publicGists: Int,\n    @SerialName(\"followers\")\n    val followers: Int,\n    @SerialName(\"following\")\n    val following: Int,\n    @SerialName(\"created_at\")\n    val createdAt: String,\n    @SerialName(\"updated_at\")\n    val updatedAt: String\n)"
     },
     "execution_count": 34,
     "metadata": {},
     "output_type": "execute_result"
    }
   ],
   "source": [
    "JsonToKotlinBuilder().run {\n",
    "                    setAnnotationLib(TargetJsonConverter.Serializable).build(response, \"Res\")\n",
    "                }"
   ],
   "metadata": {
    "collapsed": false
   }
  },
  {
   "cell_type": "code",
   "execution_count": 35,
   "outputs": [],
   "source": [
    "import kotlinx.serialization.SerialName\n",
    "import kotlinx.serialization.Serializable\n",
    "\n",
    "@Serializable\n",
    "class Res : ArrayList<ResItem>()\n",
    "\n",
    "@Serializable\n",
    "data class ResItem(\n",
    "    @SerialName(\"login\")\n",
    "    val login: String,\n",
    "    @SerialName(\"id\")\n",
    "    val id: Int,\n",
    "    @SerialName(\"node_id\")\n",
    "    val nodeId: String,\n",
    "    @SerialName(\"avatar_url\")\n",
    "    val avatarUrl: String,\n",
    "    @SerialName(\"gravatar_id\")\n",
    "    val gravatarId: String,\n",
    "    @SerialName(\"url\")\n",
    "    val url: String,\n",
    "    @SerialName(\"html_url\")\n",
    "    val htmlUrl: String,\n",
    "    @SerialName(\"followers_url\")\n",
    "    val followersUrl: String,\n",
    "    @SerialName(\"following_url\")\n",
    "    val followingUrl: String,\n",
    "    @SerialName(\"gists_url\")\n",
    "    val gistsUrl: String,\n",
    "    @SerialName(\"starred_url\")\n",
    "    val starredUrl: String,\n",
    "    @SerialName(\"subscriptions_url\")\n",
    "    val subscriptionsUrl: String,\n",
    "    @SerialName(\"organizations_url\")\n",
    "    val organizationsUrl: String,\n",
    "    @SerialName(\"repos_url\")\n",
    "    val reposUrl: String,\n",
    "    @SerialName(\"events_url\")\n",
    "    val eventsUrl: String,\n",
    "    @SerialName(\"received_events_url\")\n",
    "    val receivedEventsUrl: String,\n",
    "    @SerialName(\"type\")\n",
    "    val type: String,\n",
    "    @SerialName(\"site_admin\")\n",
    "    val siteAdmin: Boolean\n",
    ")"
   ],
   "metadata": {
    "collapsed": false
   }
  },
  {
   "cell_type": "code",
   "execution_count": 36,
   "outputs": [
    {
     "name": "stderr",
     "output_type": "stream",
     "text": [
      "Unexpected JSON token at offset 2: Encountered an unknown key 'login' at path: $\n",
      "Use 'ignoreUnknownKeys = true' in 'Json {}' builder to ignore unknown keys.\n",
      "JSON input: {\"login\":\"belovrv\",\"id\":7994178,.....\n",
      "kotlinx.serialization.json.internal.JsonDecodingException: Unexpected JSON token at offset 2: Encountered an unknown key 'login' at path: $\n",
      "Use 'ignoreUnknownKeys = true' in 'Json {}' builder to ignore unknown keys.\n",
      "JSON input: {\"login\":\"belovrv\",\"id\":7994178,.....\n",
      "\tat kotlinx.serialization.json.internal.JsonExceptionsKt.JsonDecodingException(JsonExceptions.kt:24)\n",
      "\tat kotlinx.serialization.json.internal.JsonExceptionsKt.JsonDecodingException(JsonExceptions.kt:32)\n",
      "\tat kotlinx.serialization.json.internal.AbstractJsonLexer.fail(AbstractJsonLexer.kt:584)\n",
      "\tat kotlinx.serialization.json.internal.AbstractJsonLexer.failOnUnknownKey(AbstractJsonLexer.kt:579)\n",
      "\tat kotlinx.serialization.json.internal.StreamingJsonDecoder.handleUnknown(StreamingJsonDecoder.kt:251)\n",
      "\tat kotlinx.serialization.json.internal.StreamingJsonDecoder.decodeObjectIndex(StreamingJsonDecoder.kt:237)\n",
      "\tat kotlinx.serialization.json.internal.StreamingJsonDecoder.decodeElementIndex(StreamingJsonDecoder.kt:172)\n",
      "\tat Line_45_jupyter$Res$$serializer.deserialize(Line_45.jupyter.kts:4)\n",
      "\tat Line_45_jupyter$Res$$serializer.deserialize(Line_45.jupyter.kts:4)\n",
      "\tat kotlinx.serialization.json.internal.StreamingJsonDecoder.decodeSerializableValue(StreamingJsonDecoder.kt:70)\n",
      "\tat kotlinx.serialization.json.Json.decodeFromString(Json.kt:97)\n",
      "\tat Line_46_jupyter.<init>(Line_46.jupyter.kts:3)\n",
      "\tat java.base/jdk.internal.reflect.NativeConstructorAccessorImpl.newInstance0(Native Method)\n",
      "\tat java.base/jdk.internal.reflect.NativeConstructorAccessorImpl.newInstance(NativeConstructorAccessorImpl.java:77)\n",
      "\tat java.base/jdk.internal.reflect.DelegatingConstructorAccessorImpl.newInstance(DelegatingConstructorAccessorImpl.java:45)\n",
      "\tat java.base/java.lang.reflect.Constructor.newInstanceWithCaller(Constructor.java:499)\n",
      "\tat java.base/java.lang.reflect.Constructor.newInstance(Constructor.java:480)\n",
      "\tat kotlin.script.experimental.jvm.BasicJvmScriptEvaluator.evalWithConfigAndOtherScriptsResults(BasicJvmScriptEvaluator.kt:105)\n",
      "\tat kotlin.script.experimental.jvm.BasicJvmScriptEvaluator.invoke$suspendImpl(BasicJvmScriptEvaluator.kt:47)\n",
      "\tat kotlin.script.experimental.jvm.BasicJvmScriptEvaluator.invoke(BasicJvmScriptEvaluator.kt)\n",
      "\tat kotlin.script.experimental.jvm.BasicJvmReplEvaluator.eval(BasicJvmReplEvaluator.kt:49)\n",
      "\tat org.jetbrains.kotlinx.jupyter.repl.impl.InternalEvaluatorImpl$eval$resultWithDiagnostics$1.invokeSuspend(InternalEvaluatorImpl.kt:103)\n",
      "\tat kotlin.coroutines.jvm.internal.BaseContinuationImpl.resumeWith(ContinuationImpl.kt:33)\n",
      "\tat kotlinx.coroutines.DispatchedTask.run(DispatchedTask.kt:106)\n",
      "\tat kotlinx.coroutines.EventLoopImplBase.processNextEvent(EventLoop.common.kt:284)\n",
      "\tat kotlinx.coroutines.BlockingCoroutine.joinBlocking(Builders.kt:85)\n",
      "\tat kotlinx.coroutines.BuildersKt__BuildersKt.runBlocking(Builders.kt:59)\n",
      "\tat kotlinx.coroutines.BuildersKt.runBlocking(Unknown Source)\n",
      "\tat kotlinx.coroutines.BuildersKt__BuildersKt.runBlocking$default(Builders.kt:38)\n",
      "\tat kotlinx.coroutines.BuildersKt.runBlocking$default(Unknown Source)\n",
      "\tat org.jetbrains.kotlinx.jupyter.repl.impl.InternalEvaluatorImpl.eval(InternalEvaluatorImpl.kt:103)\n",
      "\tat org.jetbrains.kotlinx.jupyter.repl.impl.CellExecutorImpl$execute$1$result$1.invoke(CellExecutorImpl.kt:75)\n",
      "\tat org.jetbrains.kotlinx.jupyter.repl.impl.CellExecutorImpl$execute$1$result$1.invoke(CellExecutorImpl.kt:73)\n",
      "\tat org.jetbrains.kotlinx.jupyter.ReplForJupyterImpl.withHost(repl.kt:666)\n",
      "\tat org.jetbrains.kotlinx.jupyter.repl.impl.CellExecutorImpl.execute(CellExecutorImpl.kt:73)\n",
      "\tat org.jetbrains.kotlinx.jupyter.repl.CellExecutor$DefaultImpls.execute$default(CellExecutor.kt:15)\n",
      "\tat org.jetbrains.kotlinx.jupyter.ReplForJupyterImpl$evalEx$1.invoke(repl.kt:479)\n",
      "\tat org.jetbrains.kotlinx.jupyter.ReplForJupyterImpl$evalEx$1.invoke(repl.kt:470)\n",
      "\tat org.jetbrains.kotlinx.jupyter.ReplForJupyterImpl.withEvalContext(repl.kt:433)\n",
      "\tat org.jetbrains.kotlinx.jupyter.ReplForJupyterImpl.evalEx(repl.kt:470)\n",
      "\tat org.jetbrains.kotlinx.jupyter.messaging.ProtocolKt$shellMessagesHandler$2$res$1.invoke(protocol.kt:318)\n",
      "\tat org.jetbrains.kotlinx.jupyter.messaging.ProtocolKt$shellMessagesHandler$2$res$1.invoke(protocol.kt:312)\n",
      "\tat org.jetbrains.kotlinx.jupyter.JupyterExecutorImpl$runExecution$execThread$1.invoke(execution.kt:37)\n",
      "\tat org.jetbrains.kotlinx.jupyter.JupyterExecutorImpl$runExecution$execThread$1.invoke(execution.kt:32)\n",
      "\tat kotlin.concurrent.ThreadsKt$thread$thread$1.run(Thread.kt:30)\n"
     ]
    }
   ],
   "source": [
    "Json.Default.decodeFromString<Res>(response)"
   ],
   "metadata": {
    "collapsed": false
   }
  },
  {
   "cell_type": "code",
   "execution_count": 37,
   "outputs": [
    {
     "data": {
      "text/html": "\n<body>\n  <style>\n  json-viewer {\n    /* Background, font and indentation */\n    --background-color: #0000;\n    --font-size: 1.5rem;\n  }\n  </style>\n  <script src=\"https://unpkg.com/@alenaksu/json-viewer@2.0.0/dist/json-viewer.bundle.js\"></script>\n  <json-viewer id=\"json\" data='{\"login\":\"belovrv\",\"id\":7994178,\"node_id\":\"MDQ6VXNlcjc5OTQxNzg=\",\"avatar_url\":\"https://avatars.githubusercontent.com/u/7994178?v=4\",\"gravatar_id\":\"\",\"url\":\"https://api.github.com/users/belovrv\",\"html_url\":\"https://github.com/belovrv\",\"followers_url\":\"https://api.github.com/users/belovrv/followers\",\"following_url\":\"https://api.github.com/users/belovrv/following{/other_user}\",\"gists_url\":\"https://api.github.com/users/belovrv/gists{/gist_id}\",\"starred_url\":\"https://api.github.com/users/belovrv/starred{/owner}{/repo}\",\"subscriptions_url\":\"https://api.github.com/users/belovrv/subscriptions\",\"organizations_url\":\"https://api.github.com/users/belovrv/orgs\",\"repos_url\":\"https://api.github.com/users/belovrv/repos\",\"events_url\":\"https://api.github.com/users/belovrv/events{/privacy}\",\"received_events_url\":\"https://api.github.com/users/belovrv/received_events\",\"type\":\"User\",\"site_admin\":false,\"name\":null,\"company\":null,\"blog\":\"\",\"location\":null,\"email\":null,\"hireable\":null,\"bio\":null,\"twitter_username\":null,\"public_repos\":12,\"public_gists\":1,\"followers\":8,\"following\":0,\"created_at\":\"2014-06-26T08:38:58Z\",\"updated_at\":\"2023-07-09T14:15:27Z\"}'></json-viewer>\n  <script>\n        document.querySelector('#json').expandAll()\n  </script>\n</body>\n"
     },
     "execution_count": 37,
     "metadata": {},
     "output_type": "execute_result"
    }
   ],
   "source": [
    "response"
   ],
   "metadata": {
    "collapsed": false
   }
  },
  {
   "cell_type": "code",
   "execution_count": 39,
   "outputs": [
    {
     "name": "stderr",
     "output_type": "stream",
     "text": [
      "The problem is found in one of the loaded libraries: check library converters (fields callbacks)\n",
      "org.jetbrains.kotlinx.jupyter.exceptions.ReplEvalRuntimeException: Serializer for class 'Test' is not found.\n",
      "Please ensure that class is marked as '@Serializable' and that the serialization compiler plugin is applied.\n",
      "\n",
      "org.jetbrains.kotlinx.jupyter.exceptions.ReplLibraryException: The problem is found in one of the loaded libraries: check library converters (fields callbacks)\n",
      "\tat org.jetbrains.kotlinx.jupyter.exceptions.CompositeReplExceptionKt.throwLibraryException(CompositeReplException.kt:50)\n",
      "\tat org.jetbrains.kotlinx.jupyter.codegen.FieldsProcessorImpl.process(FieldsProcessorImpl.kt:54)\n",
      "\tat org.jetbrains.kotlinx.jupyter.repl.impl.CellExecutorImpl$execute$1$1.invoke(CellExecutorImpl.kt:91)\n",
      "\tat org.jetbrains.kotlinx.jupyter.repl.impl.CellExecutorImpl$execute$1$1.invoke(CellExecutorImpl.kt:90)\n",
      "\tat org.jetbrains.kotlinx.jupyter.config.LoggingKt.catchAll(logging.kt:42)\n",
      "\tat org.jetbrains.kotlinx.jupyter.config.LoggingKt.catchAll$default(logging.kt:41)\n",
      "\tat org.jetbrains.kotlinx.jupyter.repl.impl.CellExecutorImpl.execute(CellExecutorImpl.kt:90)\n",
      "\tat org.jetbrains.kotlinx.jupyter.repl.CellExecutor$DefaultImpls.execute$default(CellExecutor.kt:15)\n",
      "\tat org.jetbrains.kotlinx.jupyter.ReplForJupyterImpl$evalEx$1.invoke(repl.kt:479)\n",
      "\tat org.jetbrains.kotlinx.jupyter.ReplForJupyterImpl$evalEx$1.invoke(repl.kt:470)\n",
      "\tat org.jetbrains.kotlinx.jupyter.ReplForJupyterImpl.withEvalContext(repl.kt:433)\n",
      "\tat org.jetbrains.kotlinx.jupyter.ReplForJupyterImpl.evalEx(repl.kt:470)\n",
      "\tat org.jetbrains.kotlinx.jupyter.messaging.ProtocolKt$shellMessagesHandler$2$res$1.invoke(protocol.kt:318)\n",
      "\tat org.jetbrains.kotlinx.jupyter.messaging.ProtocolKt$shellMessagesHandler$2$res$1.invoke(protocol.kt:312)\n",
      "\tat org.jetbrains.kotlinx.jupyter.JupyterExecutorImpl$runExecution$execThread$1.invoke(execution.kt:37)\n",
      "\tat org.jetbrains.kotlinx.jupyter.JupyterExecutorImpl$runExecution$execThread$1.invoke(execution.kt:32)\n",
      "\tat kotlin.concurrent.ThreadsKt$thread$thread$1.run(Thread.kt:30)\n",
      "Caused by: org.jetbrains.kotlinx.jupyter.exceptions.ReplEvalRuntimeException: Serializer for class 'Test' is not found.\n",
      "Please ensure that class is marked as '@Serializable' and that the serialization compiler plugin is applied.\n",
      "\n",
      "\tat org.jetbrains.kotlinx.jupyter.repl.impl.InternalEvaluatorImpl.eval(InternalEvaluatorImpl.kt:110)\n",
      "\tat org.jetbrains.kotlinx.jupyter.repl.impl.CellExecutorImpl$execute$1$result$1.invoke(CellExecutorImpl.kt:75)\n",
      "\tat org.jetbrains.kotlinx.jupyter.repl.impl.CellExecutorImpl$execute$1$result$1.invoke(CellExecutorImpl.kt:73)\n",
      "\tat org.jetbrains.kotlinx.jupyter.ReplForJupyterImpl.withHost(repl.kt:666)\n",
      "\tat org.jetbrains.kotlinx.jupyter.repl.impl.CellExecutorImpl.execute(CellExecutorImpl.kt:73)\n",
      "\tat org.jetbrains.kotlinx.jupyter.repl.CellExecutor$DefaultImpls.execute$default(CellExecutor.kt:15)\n",
      "\tat org.jetbrains.kotlinx.jupyter.repl.impl.CellExecutorImpl$ExecutionContext.execute(CellExecutorImpl.kt:220)\n",
      "\tat Line_10_jupyter$1$1.invoke(Line_10.jupyter.kts:6)\n",
      "\tat Line_10_jupyter$1$1.invoke(Line_10.jupyter.kts:5)\n",
      "\tat org.jetbrains.kotlinx.jupyter.api.libraries.FieldHandlerFactory$createUpdateExecution$1.execute(FieldHandlerFactory.kt:30)\n",
      "\tat org.jetbrains.kotlinx.jupyter.codegen.FieldsProcessorImpl.process(FieldsProcessorImpl.kt:38)\n",
      "\t... 15 more\n",
      "Caused by: kotlinx.serialization.SerializationException: Serializer for class 'Test' is not found.\n",
      "Please ensure that class is marked as '@Serializable' and that the serialization compiler plugin is applied.\n",
      "\n",
      "\tat kotlinx.serialization.internal.Platform_commonKt.serializerNotRegistered(Platform.common.kt:92)\n",
      "\tat kotlinx.serialization.internal.PlatformKt.platformSpecificSerializerNotRegistered(Platform.kt:28)\n",
      "\tat kotlinx.serialization.SerializersKt__SerializersKt.serializer(Serializers.kt:109)\n",
      "\tat kotlinx.serialization.SerializersKt.serializer(Unknown Source)\n",
      "\tat Line_49_jupyter.<init>(Line_49.jupyter.kts:13)\n",
      "\tat java.base/jdk.internal.reflect.NativeConstructorAccessorImpl.newInstance0(Native Method)\n",
      "\tat java.base/jdk.internal.reflect.NativeConstructorAccessorImpl.newInstance(NativeConstructorAccessorImpl.java:77)\n",
      "\tat java.base/jdk.internal.reflect.DelegatingConstructorAccessorImpl.newInstance(DelegatingConstructorAccessorImpl.java:45)\n",
      "\tat java.base/java.lang.reflect.Constructor.newInstanceWithCaller(Constructor.java:499)\n",
      "\tat java.base/java.lang.reflect.Constructor.newInstance(Constructor.java:480)\n",
      "\tat kotlin.script.experimental.jvm.BasicJvmScriptEvaluator.evalWithConfigAndOtherScriptsResults(BasicJvmScriptEvaluator.kt:105)\n",
      "\tat kotlin.script.experimental.jvm.BasicJvmScriptEvaluator.invoke$suspendImpl(BasicJvmScriptEvaluator.kt:47)\n",
      "\tat kotlin.script.experimental.jvm.BasicJvmScriptEvaluator.invoke(BasicJvmScriptEvaluator.kt)\n",
      "\tat kotlin.script.experimental.jvm.BasicJvmReplEvaluator.eval(BasicJvmReplEvaluator.kt:49)\n",
      "\tat org.jetbrains.kotlinx.jupyter.repl.impl.InternalEvaluatorImpl$eval$resultWithDiagnostics$1.invokeSuspend(InternalEvaluatorImpl.kt:103)\n",
      "\tat kotlin.coroutines.jvm.internal.BaseContinuationImpl.resumeWith(ContinuationImpl.kt:33)\n",
      "\tat kotlinx.coroutines.DispatchedTask.run(DispatchedTask.kt:106)\n",
      "\tat kotlinx.coroutines.EventLoopImplBase.processNextEvent(EventLoop.common.kt:284)\n",
      "\tat kotlinx.coroutines.BlockingCoroutine.joinBlocking(Builders.kt:85)\n",
      "\tat kotlinx.coroutines.BuildersKt__BuildersKt.runBlocking(Builders.kt:59)\n",
      "\tat kotlinx.coroutines.BuildersKt.runBlocking(Unknown Source)\n",
      "\tat kotlinx.coroutines.BuildersKt__BuildersKt.runBlocking$default(Builders.kt:38)\n",
      "\tat kotlinx.coroutines.BuildersKt.runBlocking$default(Unknown Source)\n",
      "\tat org.jetbrains.kotlinx.jupyter.repl.impl.InternalEvaluatorImpl.eval(InternalEvaluatorImpl.kt:103)\n",
      "\t... 25 more\n",
      "\n",
      "\n"
     ]
    }
   ],
   "source": [
    "val s = \"\"\"\n",
    "[\"A\", \"B\", \"C\"]\n",
    "\"\"\".deserialize(\"Test\")"
   ],
   "metadata": {
    "collapsed": false,
    "ExecuteTime": {
     "end_time": "2023-07-23T13:01:45.108565Z",
     "start_time": "2023-07-23T13:01:44.879872Z"
    }
   }
  },
  {
   "cell_type": "code",
   "execution_count": 40,
   "outputs": [],
   "source": [
    "val ktor_version = \"2.3.2\"\n",
    "\n",
    "USE {\n",
    "    dependencies {\n",
    "        implementation(\"io.ktor:ktor-client-apache5-jvm:$ktor_version\")\n",
    "    }\n",
    "}"
   ],
   "metadata": {
    "collapsed": false,
    "ExecuteTime": {
     "end_time": "2023-07-23T13:15:49.834747Z",
     "start_time": "2023-07-23T13:15:49.741375Z"
    }
   }
  },
  {
   "cell_type": "code",
   "execution_count": 41,
   "outputs": [],
   "source": [
    "import io.ktor.client.*\n",
    "import io.ktor.client.request.*\n",
    "import io.ktor.client.statement.*\n",
    "import kotlinx.coroutines.runBlocking\n",
    "\n",
    "val client = HttpClient()\n",
    "fun HttpClient.getObject(url: String, typeName: String) =\n",
    "    runBlocking { this@getObject.get(url).bodyAsText().deserialize(typeName) }"
   ],
   "metadata": {
    "collapsed": false,
    "ExecuteTime": {
     "end_time": "2023-07-23T13:16:04.867193Z",
     "start_time": "2023-07-23T13:16:04.813550Z"
    }
   }
  },
  {
   "cell_type": "code",
   "execution_count": 42,
   "outputs": [],
   "source": [
    "val belov = client.getObject(\"https://api.github.com/users/belovrv\", \"User\")"
   ],
   "metadata": {
    "collapsed": false,
    "ExecuteTime": {
     "end_time": "2023-07-23T13:17:13.613225Z",
     "start_time": "2023-07-23T13:17:13.089538Z"
    }
   }
  },
  {
   "cell_type": "code",
   "execution_count": 47,
   "outputs": [
    {
     "data": {
      "text/html": "\n<body>\n  <style>\n  json-viewer {\n    /* Background, font and indentation */\n    --background-color: #0000;\n    --font-size: 1.5rem;\n  }\n  </style>\n  <script src=\"https://unpkg.com/@alenaksu/json-viewer@2.0.0/dist/json-viewer.bundle.js\"></script>\n  <json-viewer id=\"json\" data='{\"login\":\"belovrv\",\"id\":7994178,\"node_id\":\"MDQ6VXNlcjc5OTQxNzg=\",\"avatar_url\":\"https://avatars.githubusercontent.com/u/7994178?v=4\",\"gravatar_id\":\"\",\"url\":\"https://api.github.com/users/belovrv\",\"html_url\":\"https://github.com/belovrv\",\"followers_url\":\"https://api.github.com/users/belovrv/followers\",\"following_url\":\"https://api.github.com/users/belovrv/following{/other_user}\",\"gists_url\":\"https://api.github.com/users/belovrv/gists{/gist_id}\",\"starred_url\":\"https://api.github.com/users/belovrv/starred{/owner}{/repo}\",\"subscriptions_url\":\"https://api.github.com/users/belovrv/subscriptions\",\"organizations_url\":\"https://api.github.com/users/belovrv/orgs\",\"repos_url\":\"https://api.github.com/users/belovrv/repos\",\"events_url\":\"https://api.github.com/users/belovrv/events{/privacy}\",\"received_events_url\":\"https://api.github.com/users/belovrv/received_events\",\"type\":\"User\",\"site_admin\":false,\"name\":null,\"company\":null,\"blog\":\"\",\"location\":null,\"email\":null,\"hireable\":null,\"bio\":null,\"twitter_username\":null,\"public_repos\":12,\"public_gists\":1,\"followers\":8,\"following\":0,\"created_at\":\"2014-06-26T08:38:58Z\",\"updated_at\":\"2023-07-09T14:15:27Z\"}'></json-viewer>\n  <script>\n        document.querySelector('#json').expandAll()\n  </script>\n</body>\n"
     },
     "execution_count": 47,
     "metadata": {},
     "output_type": "execute_result"
    }
   ],
   "source": [
    "Json.Default.encodeToString(belov)"
   ],
   "metadata": {
    "collapsed": false,
    "ExecuteTime": {
     "end_time": "2023-07-23T13:18:05.443089Z",
     "start_time": "2023-07-23T13:18:05.413436Z"
    }
   }
  },
  {
   "cell_type": "code",
   "execution_count": null,
   "outputs": [],
   "source": [],
   "metadata": {
    "collapsed": false
   }
  }
 ],
 "metadata": {
  "kernelspec": {
   "display_name": "Kotlin",
   "language": "kotlin",
   "name": "kotlin"
  },
  "language_info": {
   "name": "kotlin",
   "version": "1.8.20",
   "mimetype": "text/x-kotlin",
   "file_extension": ".kt",
   "pygments_lexer": "kotlin",
   "codemirror_mode": "text/x-kotlin",
   "nbconvert_exporter": ""
  }
 },
 "nbformat": 4,
 "nbformat_minor": 0
}
