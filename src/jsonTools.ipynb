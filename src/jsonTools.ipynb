{
 "cells": [
  {
   "cell_type": "code",
   "execution_count": 2,
   "metadata": {
    "collapsed": true,
    "ExecuteTime": {
     "end_time": "2023-07-10T17:48:15.823624Z",
     "start_time": "2023-07-10T17:48:15.783441Z"
    }
   },
   "outputs": [],
   "source": [
    "val str = \"\"\"\n",
    "{\n",
    "  \"firstName\": \"John\",\n",
    "  \"lastName\": \"Smith\",\n",
    "  \"isAlive\": true,\n",
    "  \"age\": 27,\n",
    "  \"address\": {\n",
    "    \"streetAddress\": \"21 2nd Street\",\n",
    "    \"city\": \"New York\",\n",
    "    \"state\": \"NY\",\n",
    "    \"postalCode\": \"10021-3100\"\n",
    "  },\n",
    "  \"phoneNumbers\": [\n",
    "    {\n",
    "      \"type\": \"home\",\n",
    "      \"number\": \"212 555-1234\"\n",
    "    },\n",
    "    {\n",
    "      \"type\": \"office\",\n",
    "      \"number\": \"646 555-4567\"\n",
    "    }\n",
    "  ],\n",
    "  \"children\": [\n",
    "    \"Catherine\",\n",
    "    \"Thomas\",\n",
    "    \"Trevor\"\n",
    "  ],\n",
    "  \"spouse\": null\n",
    "}\n",
    "\"\"\""
   ]
  },
  {
   "cell_type": "code",
   "execution_count": 4,
   "outputs": [],
   "source": [
    "%use serialization"
   ],
   "metadata": {
    "collapsed": false,
    "ExecuteTime": {
     "end_time": "2023-07-10T17:48:25.135181Z",
     "start_time": "2023-07-10T17:48:24.885399Z"
    }
   }
  },
  {
   "cell_type": "code",
   "execution_count": 9,
   "outputs": [],
   "source": [
    "import kotlinx.serialization.json.internal.decodeStringToJsonTree\n",
    "\n",
    "val element = Json.parseToJsonElement(str)"
   ],
   "metadata": {
    "collapsed": false,
    "ExecuteTime": {
     "end_time": "2023-07-10T18:10:34.579278Z",
     "start_time": "2023-07-10T18:10:34.547540Z"
    }
   }
  },
  {
   "cell_type": "code",
   "execution_count": 6,
   "outputs": [],
   "source": [
    "val css = \"\"\"\n",
    ".collapsible > li > input {\n",
    "  position: absolute;\n",
    "  opacity: 0;\n",
    "}\n",
    "\n",
    ".collapsible > li > input + ol {\n",
    "  height: 0;\n",
    "  overflow: hidden;\n",
    "  transition: height 0.3s ease-in-out;\n",
    "}\n",
    "\n",
    ".collapsible > li > input:checked + ol {\n",
    "  height: auto;\n",
    "}\n",
    "\n",
    ".tree_label {\n",
    "  cursor: pointer;\n",
    "}\n",
    "\"\"\""
   ],
   "metadata": {
    "collapsed": false,
    "ExecuteTime": {
     "end_time": "2023-07-10T18:08:23.341431Z",
     "start_time": "2023-07-10T18:08:23.305249Z"
    }
   }
  },
  {
   "cell_type": "code",
   "execution_count": 21,
   "outputs": [],
   "source": [
    "val css1 = \"\"\"\n",
    ".collapsible{\n",
    "color: orange;\n",
    "font-size: 25px;\n",
    "}\n",
    "\"\"\""
   ],
   "metadata": {
    "collapsed": false,
    "ExecuteTime": {
     "end_time": "2023-07-10T18:17:26.844385Z",
     "start_time": "2023-07-10T18:17:26.811044Z"
    }
   }
  },
  {
   "cell_type": "code",
   "execution_count": 22,
   "outputs": [],
   "source": [
    "fun JsonElement.convertJsonElementToHTML(): String {\n",
    "    val sb = StringBuilder()\n",
    "\n",
    "    when (this) {\n",
    "        is JsonObject -> {\n",
    "            sb.append(\"<ul class='collapsible'>\\n\")\n",
    "            this.forEach { (key, value) ->\n",
    "                sb.append(\"<li>\")\n",
    "                sb.append(\"<label for='$key' class='tree_label'>$key</label>\")\n",
    "                sb.append(\"<input type='checkbox' id='$key' />\")\n",
    "                sb.append(\"<ol>\")\n",
    "                sb.append(value.convertJsonElementToHTML())\n",
    "                sb.append(\"</ol>\")\n",
    "                sb.append(\"</li>\\n\")\n",
    "            }\n",
    "            sb.append(\"</ul>\\n\")\n",
    "        }\n",
    "        is JsonArray -> {\n",
    "            sb.append(\"<ul class='collapsible'>\\n\")\n",
    "            this.forEachIndexed { index, jsonEl ->\n",
    "                sb.append(\"<li>\")\n",
    "                sb.append(\"<label for='array_$index' class='tree_label'>[$index]</label>\")\n",
    "                sb.append(\"<input type='checkbox' id='array_$index' />\")\n",
    "                sb.append(\"<ol>\")\n",
    "                sb.append(jsonEl.convertJsonElementToHTML())\n",
    "                sb.append(\"</ol>\")\n",
    "                sb.append(\"</li>\\n\")\n",
    "            }\n",
    "            sb.append(\"</ul>\\n\")\n",
    "        }\n",
    "        else -> {\n",
    "            sb.append(\"<li>${this.jsonPrimitive}</li>\\n\")\n",
    "        }\n",
    "    }\n",
    "    return sb.toString()\n",
    "}\n"
   ],
   "metadata": {
    "collapsed": false,
    "ExecuteTime": {
     "end_time": "2023-07-10T18:17:27.387426Z",
     "start_time": "2023-07-10T18:17:27.283971Z"
    }
   }
  },
  {
   "cell_type": "code",
   "execution_count": 25,
   "outputs": [
    {
     "data": {
      "text/html": "\n    <style type=\"text/css\">\n        \n.collapsible{\ncolor: orange;\nfont-size: 25px;\n}\n\n    </style><ul class='collapsible'>\n<li><label for='firstName' class='tree_label'>firstName</label><input type='checkbox' id='firstName' /><ol><li>\"John\"</li>\n</ol></li>\n<li><label for='lastName' class='tree_label'>lastName</label><input type='checkbox' id='lastName' /><ol><li>\"Smith\"</li>\n</ol></li>\n<li><label for='isAlive' class='tree_label'>isAlive</label><input type='checkbox' id='isAlive' /><ol><li>true</li>\n</ol></li>\n<li><label for='age' class='tree_label'>age</label><input type='checkbox' id='age' /><ol><li>27</li>\n</ol></li>\n<li><label for='address' class='tree_label'>address</label><input type='checkbox' id='address' /><ol><ul class='collapsible'>\n<li><label for='streetAddress' class='tree_label'>streetAddress</label><input type='checkbox' id='streetAddress' /><ol><li>\"21 2nd Street\"</li>\n</ol></li>\n<li><label for='city' class='tree_label'>city</label><input type='checkbox' id='city' /><ol><li>\"New York\"</li>\n</ol></li>\n<li><label for='state' class='tree_label'>state</label><input type='checkbox' id='state' /><ol><li>\"NY\"</li>\n</ol></li>\n<li><label for='postalCode' class='tree_label'>postalCode</label><input type='checkbox' id='postalCode' /><ol><li>\"10021-3100\"</li>\n</ol></li>\n</ul>\n</ol></li>\n<li><label for='phoneNumbers' class='tree_label'>phoneNumbers</label><input type='checkbox' id='phoneNumbers' /><ol><ul class='collapsible'>\n<li><label for='array_0' class='tree_label'>[0]</label><input type='checkbox' id='array_0' /><ol><ul class='collapsible'>\n<li><label for='type' class='tree_label'>type</label><input type='checkbox' id='type' /><ol><li>\"home\"</li>\n</ol></li>\n<li><label for='number' class='tree_label'>number</label><input type='checkbox' id='number' /><ol><li>\"212 555-1234\"</li>\n</ol></li>\n</ul>\n</ol></li>\n<li><label for='array_1' class='tree_label'>[1]</label><input type='checkbox' id='array_1' /><ol><ul class='collapsible'>\n<li><label for='type' class='tree_label'>type</label><input type='checkbox' id='type' /><ol><li>\"office\"</li>\n</ol></li>\n<li><label for='number' class='tree_label'>number</label><input type='checkbox' id='number' /><ol><li>\"646 555-4567\"</li>\n</ol></li>\n</ul>\n</ol></li>\n</ul>\n</ol></li>\n<li><label for='children' class='tree_label'>children</label><input type='checkbox' id='children' /><ol><ul class='collapsible'>\n<li><label for='array_0' class='tree_label'>[0]</label><input type='checkbox' id='array_0' /><ol><li>\"Catherine\"</li>\n</ol></li>\n<li><label for='array_1' class='tree_label'>[1]</label><input type='checkbox' id='array_1' /><ol><li>\"Thomas\"</li>\n</ol></li>\n<li><label for='array_2' class='tree_label'>[2]</label><input type='checkbox' id='array_2' /><ol><li>\"Trevor\"</li>\n</ol></li>\n</ul>\n</ol></li>\n<li><label for='spouse' class='tree_label'>spouse</label><input type='checkbox' id='spouse' /><ol><li>null</li>\n</ol></li>\n</ul>\n"
     },
     "execution_count": 25,
     "metadata": {},
     "output_type": "execute_result"
    }
   ],
   "source": [
    "HTML(\"\"\"\n",
    "    <style type=\"text/css\">\n",
    "        $css1\n",
    "    </style>\"\"\"+element.convertJsonElementToHTML())"
   ],
   "metadata": {
    "collapsed": false,
    "ExecuteTime": {
     "end_time": "2023-07-10T18:25:31.048634Z",
     "start_time": "2023-07-10T18:25:31.005030Z"
    }
   }
  },
  {
   "cell_type": "code",
   "execution_count": null,
   "outputs": [],
   "source": [],
   "metadata": {
    "collapsed": false
   }
  }
 ],
 "metadata": {
  "kernelspec": {
   "display_name": "Kotlin",
   "language": "kotlin",
   "name": "kotlin"
  },
  "language_info": {
   "name": "kotlin",
   "version": "1.8.20",
   "mimetype": "text/x-kotlin",
   "file_extension": ".kt",
   "pygments_lexer": "kotlin",
   "codemirror_mode": "text/x-kotlin",
   "nbconvert_exporter": ""
  }
 },
 "nbformat": 4,
 "nbformat_minor": 0
}
