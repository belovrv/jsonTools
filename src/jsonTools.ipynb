{
 "cells": [
  {
   "cell_type": "code",
   "execution_count": 1,
   "metadata": {
    "collapsed": true,
    "ExecuteTime": {
     "end_time": "2023-07-17T13:51:05.276502Z",
     "start_time": "2023-07-17T13:51:05.212530Z"
    }
   },
   "outputs": [],
   "source": [
    "val str = \"\"\"\n",
    "{\n",
    "  \"firstName\": \"John\",\n",
    "  \"lastName\": \"Smith\",\n",
    "  \"isAlive\": true,\n",
    "  \"age\": 27,\n",
    "  \"address\": {\n",
    "    \"streetAddress\": \"21 2nd Street\",\n",
    "    \"city\": \"New York\",\n",
    "    \"state\": \"NY\",\n",
    "    \"postalCode\": \"10021-3100\"\n",
    "  },\n",
    "  \"phoneNumbers\": [\n",
    "    {\n",
    "      \"type\": \"home\",\n",
    "      \"number\": \"212 555-1234\"\n",
    "    },\n",
    "    {\n",
    "      \"type\": \"office\",\n",
    "      \"number\": \"646 555-4567\"\n",
    "    }\n",
    "  ],\n",
    "  \"children\": [\n",
    "    \"Catherine\",\n",
    "    \"Thomas\",\n",
    "    \"Trevor\"\n",
    "  ],\n",
    "  \"spouse\": null\n",
    "}\n",
    "\"\"\""
   ]
  },
  {
   "cell_type": "code",
   "execution_count": 2,
   "outputs": [],
   "source": [
    "%use serialization"
   ],
   "metadata": {
    "collapsed": false,
    "ExecuteTime": {
     "end_time": "2023-07-17T13:51:16.915023Z",
     "start_time": "2023-07-17T13:51:16.677235Z"
    }
   }
  },
  {
   "cell_type": "code",
   "execution_count": 3,
   "outputs": [],
   "source": [
    "import kotlinx.serialization.json.internal.decodeStringToJsonTree\n",
    "\n",
    "val element = Json.parseToJsonElement(str)"
   ],
   "metadata": {
    "collapsed": false,
    "ExecuteTime": {
     "end_time": "2023-07-17T13:51:17.582408Z",
     "start_time": "2023-07-17T13:51:17.529953Z"
    }
   }
  },
  {
   "cell_type": "code",
   "execution_count": 4,
   "outputs": [],
   "source": [
    "import kotlinx.serialization.json.JsonElement\n",
    "\n",
    "USE { \n",
    "    render<JsonElement> { it.toString().printJson() }\n",
    "}\n",
    "\n",
    "fun String.printJson() = HTML(\n",
    "    \"\"\"\n",
    "<body>\n",
    "  <style>\n",
    "  json-viewer {\n",
    "    /* Background, font and indentation */\n",
    "    --background-color: #0000;\n",
    "    --font-size: 1.5rem;\n",
    "  }\n",
    "  </style>\n",
    "  <script src=\"https://unpkg.com/@alenaksu/json-viewer@2.0.0/dist/json-viewer.bundle.js\"></script>\n",
    "  <json-viewer id=\"json\" data='${this.replace(\"\\n\", \"\")}'></json-viewer>\n",
    "  <script>\n",
    "        document.querySelector('#json').expandAll()\n",
    "  </script>\n",
    "</body>\n",
    "\"\"\"\n",
    ")"
   ],
   "metadata": {
    "collapsed": false,
    "ExecuteTime": {
     "end_time": "2023-07-17T13:51:18.359507Z",
     "start_time": "2023-07-17T13:51:18.170850Z"
    }
   }
  },
  {
   "cell_type": "code",
   "execution_count": null,
   "outputs": [],
   "source": [
    "runBlocking {  client.get(\"\") }"
   ],
   "metadata": {
    "collapsed": false
   }
  },
  {
   "cell_type": "code",
   "execution_count": 5,
   "outputs": [
    {
     "data": {
      "text/html": "\n<body>\n  <style>\n  json-viewer {\n    /* Background, font and indentation */\n    --background-color: #0000;\n    --font-size: 1.5rem;\n  }\n  </style>\n  <script src=\"https://unpkg.com/@alenaksu/json-viewer@2.0.0/dist/json-viewer.bundle.js\"></script>\n  <json-viewer id=\"json\" data='{\"firstName\":\"John\",\"lastName\":\"Smith\",\"isAlive\":true,\"age\":27,\"address\":{\"streetAddress\":\"21 2nd Street\",\"city\":\"New York\",\"state\":\"NY\",\"postalCode\":\"10021-3100\"},\"phoneNumbers\":[{\"type\":\"home\",\"number\":\"212 555-1234\"},{\"type\":\"office\",\"number\":\"646 555-4567\"}],\"children\":[\"Catherine\",\"Thomas\",\"Trevor\"],\"spouse\":null}'></json-viewer>\n  <script>\n        document.querySelector('#json').expandAll()\n  </script>\n</body>\n"
     },
     "execution_count": 5,
     "metadata": {},
     "output_type": "execute_result"
    }
   ],
   "source": [
    "element"
   ],
   "metadata": {
    "collapsed": false,
    "ExecuteTime": {
     "end_time": "2023-07-17T13:51:19.903204Z",
     "start_time": "2023-07-17T13:51:19.852300Z"
    }
   }
  },
  {
   "cell_type": "code",
   "execution_count": 6,
   "outputs": [],
   "source": [
    "\n",
    "val ktor_version = \"2.3.2\"\n",
    "\n",
    "USE {\n",
    "    dependencies {\n",
    "        implementation(\"io.ktor:ktor-client-cio-jvm:$ktor_version\")\n",
    "    }\n",
    "}\n"
   ],
   "metadata": {
    "collapsed": false,
    "ExecuteTime": {
     "end_time": "2023-07-17T13:51:22.737883Z",
     "start_time": "2023-07-17T13:51:22.578580Z"
    }
   }
  },
  {
   "cell_type": "code",
   "execution_count": 7,
   "outputs": [],
   "source": [
    "import io.ktor.client.*\n",
    "\n",
    "val client = HttpClient()"
   ],
   "metadata": {
    "collapsed": false,
    "ExecuteTime": {
     "end_time": "2023-07-17T13:51:23.867596Z",
     "start_time": "2023-07-17T13:51:23.773281Z"
    }
   }
  },
  {
   "cell_type": "code",
   "execution_count": 11,
   "outputs": [
    {
     "data": {
      "text/html": "\n<body>\n  <style>\n  json-viewer {\n    /* Background, font and indentation */\n    --background-color: #0000;\n    --font-size: 1.5rem;\n  }\n  </style>\n  <script src=\"https://unpkg.com/@alenaksu/json-viewer@2.0.0/dist/json-viewer.bundle.js\"></script>\n  <json-viewer id=\"json\" data='{\"response_code\":0,\"results\":[{\"category\":\"Science: Gadgets\",\"type\":\"multiple\",\"difficulty\":\"medium\",\"question\":\"What are the base station trackers used for the HTC Vive called?\",\"correct_answer\":\"Lighthouse\",\"incorrect_answers\":[\"Motion\",\"Constellation \",\"Trackers\"]}]}'></json-viewer>\n  <script>\n        document.querySelector('#json').expandAll()\n  </script>\n</body>\n"
     },
     "execution_count": 11,
     "metadata": {},
     "output_type": "execute_result"
    }
   ],
   "source": [
    "import io.ktor.client.call.*\n",
    "import io.ktor.client.request.*\n",
    "import io.ktor.client.statement.*\n",
    "import kotlinx.coroutines.runBlocking\n",
    "import kotlinx.serialization.json.JsonElement\n",
    "\n",
    "runBlocking { client.get(\"https://opentdb.com/api.php?amount=1\").bodyAsText() }\n",
    "//runBlocking { client.get(\"\").bodyAsText() }"
   ],
   "metadata": {
    "collapsed": false,
    "ExecuteTime": {
     "end_time": "2023-07-17T13:52:03.619508Z",
     "start_time": "2023-07-17T13:52:02.559249Z"
    }
   }
  },
  {
   "cell_type": "code",
   "execution_count": 12,
   "outputs": [],
   "source": [
    "USE {\n",
    "    dependencies { implementation(\"com.sealwu.jsontokotlin:library:3.7.4\") }\n",
    "}"
   ],
   "metadata": {
    "collapsed": false,
    "ExecuteTime": {
     "end_time": "2023-07-17T13:52:27.431410Z",
     "start_time": "2023-07-17T13:52:27.318883Z"
    }
   }
  },
  {
   "cell_type": "code",
   "execution_count": 16,
   "outputs": [],
   "source": [
    "import wu.seal.jsontokotlin.library.*\n",
    "\n",
    "val builder = JsonToKotlinBuilder()"
   ],
   "metadata": {
    "collapsed": false,
    "ExecuteTime": {
     "end_time": "2023-07-17T13:53:24.757255Z",
     "start_time": "2023-07-17T13:53:24.710767Z"
    }
   }
  },
  {
   "cell_type": "code",
   "execution_count": 47,
   "outputs": [],
   "source": [
    "class DeserializationResut(val src: String, val className: String) {\n",
    "    override fun toString() = src\n",
    "}\n",
    "\n",
    "fun String.deserialize(name : String) = DeserializationResut(this, name)"
   ],
   "metadata": {
    "collapsed": false,
    "ExecuteTime": {
     "end_time": "2023-07-17T14:09:41.485291Z",
     "start_time": "2023-07-17T14:09:41.445944Z"
    }
   }
  },
  {
   "cell_type": "code",
   "execution_count": 41,
   "outputs": [],
   "source": [
    "import wu.seal.jsontokotlin.model.TargetJsonConverter\n",
    "\n",
    "USE {\n",
    "    updateVariable<DeserializationResut>() { value, kProperty ->\n",
    "        execute(\"\"\"\n",
    "            import kotlinx.serialization.decodeFromString\n",
    "            ${\n",
    "            JsonToKotlinBuilder().run {\n",
    "                setAnnotationLib(TargetJsonConverter.Serializable).build(value.src, value.className)\n",
    "            }\n",
    "        }\n",
    "            Json.Default.decodeFromString<${value.className}>(\"\"\" + \"\\\"\\\"\\\"\" + value.src + \"\\\"\\\"\\\"\" + \"\"\")\n",
    "        \"\"\").name\n",
    "    }\n",
    "}\n"
   ],
   "metadata": {
    "collapsed": false,
    "ExecuteTime": {
     "end_time": "2023-07-17T14:06:27.848889Z",
     "start_time": "2023-07-17T14:06:27.781157Z"
    }
   }
  },
  {
   "cell_type": "code",
   "execution_count": 54,
   "outputs": [
    {
     "data": {
      "text/html": "\n<body>\n  <style>\n  json-viewer {\n    /* Background, font and indentation */\n    --background-color: #0000;\n    --font-size: 1.5rem;\n  }\n  </style>\n  <script src=\"https://unpkg.com/@alenaksu/json-viewer@2.0.0/dist/json-viewer.bundle.js\"></script>\n  <json-viewer id=\"json\" data='{\"response_code\":0,\"results\":[{\"category\":\"Politics\",\"type\":\"multiple\",\"difficulty\":\"easy\",\"question\":\"According to the United States Constitution, how old must a person be to be elected President of the United States?\",\"correct_answer\":\"35\",\"incorrect_answers\":[\"30\",\"40\",\"45\"]},{\"category\":\"Science: Mathematics\",\"type\":\"boolean\",\"difficulty\":\"medium\",\"question\":\"A &#039;Millinillion&#039; is a real number.\",\"correct_answer\":\"True\",\"incorrect_answers\":[\"False\"]},{\"category\":\"Sports\",\"type\":\"multiple\",\"difficulty\":\"medium\",\"question\":\"Who is Manchester United&#039;s top premier league goal scorer?\",\"correct_answer\":\"Wayne Rooney\",\"incorrect_answers\":[\"Sir Bobby Charlton\",\"Ryan Giggs\",\"David Beckham\"]},{\"category\":\"Science & Nature\",\"type\":\"multiple\",\"difficulty\":\"hard\",\"question\":\"In the Scoville scale, what is the hottest chemical?\",\"correct_answer\":\"Resiniferatoxin\",\"incorrect_answers\":[\"Capsaicin\",\"Dihydrocapsaicin\",\"Tinyatoxin\"]},{\"category\":\"Entertainment: Video Games\",\"type\":\"multiple\",\"difficulty\":\"medium\",\"question\":\"In the Mario series, which game introduced Mario&#039;s Backflip ability?\",\"correct_answer\":\"Donkey Kong (Gameboy)\",\"incorrect_answers\":[\"Super Mario 64\",\"Super Mario 3D Land\",\"Super Mario Galaxy\"]}]}'></json-viewer>\n  <script>\n        document.querySelector('#json').expandAll()\n  </script>\n</body>\n"
     },
     "execution_count": 54,
     "metadata": {},
     "output_type": "execute_result"
    }
   ],
   "source": [
    "val res = runBlocking { client.get(\"https://opentdb.com/api.php?amount=5\").bodyAsText() }.deserialize(\"Response\")\n",
    "\n"
   ],
   "metadata": {
    "collapsed": false,
    "ExecuteTime": {
     "end_time": "2023-07-17T14:20:19.018844Z",
     "start_time": "2023-07-17T14:20:18.160089Z"
    }
   }
  },
  {
   "cell_type": "code",
   "execution_count": 55,
   "outputs": [
    {
     "data": {
      "text/plain": "{\"response_code\":0,\"results\":[{\"category\":\"Politics\",\"type\":\"multiple\",\"difficulty\":\"easy\",\"question\":\"According to the United States Constitution, how old must a person be to be elected President of the United States?\",\"correct_answer\":\"35\",\"incorrect_answers\":[\"30\",\"40\",\"45\"]},{\"category\":\"Science: Mathematics\",\"type\":\"boolean\",\"difficulty\":\"medium\",\"question\":\"A &#039;Millinillion&#039; is a real number.\",\"correct_answer\":\"True\",\"incorrect_answers\":[\"False\"]},{\"category\":\"Sports\",\"type\":\"multiple\",\"difficulty\":\"medium\",\"question\":\"Who is Manchester United&#039;s top premier league goal scorer?\",\"correct_answer\":\"Wayne Rooney\",\"incorrect_answers\":[\"Sir Bobby Charlton\",\"Ryan Giggs\",\"David Beckham\"]},{\"category\":\"Science & Nature\",\"type\":\"multiple\",\"difficulty\":\"hard\",\"question\":\"In the Scoville scale, what is the hottest chemical?\",\"correct_answer\":\"Resiniferatoxin\",\"incorrect_answers\":[\"Capsaicin\",\"Dihydrocapsaicin\",\"Tinyatoxin\"]},{\"category\":\"Entertainment: Video Games\",\"type\":\"multiple\",\"difficulty\":\"medium\",\"question\":\"In the Mario series, which game introduced Mario&#039;s Backflip ability?\",\"correct_answer\":\"Donkey Kong (Gameboy)\",\"incorrect_answers\":[\"Super Mario 64\",\"Super Mario 3D Land\",\"Super Mario Galaxy\"]}]}"
     },
     "execution_count": 55,
     "metadata": {},
     "output_type": "execute_result"
    }
   ],
   "source": [],
   "metadata": {
    "collapsed": false,
    "ExecuteTime": {
     "end_time": "2023-07-17T14:21:48.857428Z",
     "start_time": "2023-07-17T14:21:48.837760Z"
    }
   }
  },
  {
   "cell_type": "code",
   "execution_count": 53,
   "outputs": [
    {
     "data": {
      "text/html": "\n<body>\n  <style>\n  json-viewer {\n    /* Background, font and indentation */\n    --background-color: #0000;\n    --font-size: 1.5rem;\n  }\n  </style>\n  <script src=\"https://unpkg.com/@alenaksu/json-viewer@2.0.0/dist/json-viewer.bundle.js\"></script>\n  <json-viewer id=\"json\" data='{\"response_code\":0,\"results\":[{\"category\":\"Entertainment: Music\",\"type\":\"multiple\",\"difficulty\":\"medium\",\"question\":\"Which French duo had UK hits in 1998 with the songs &#039;Sexy Boy&#039;, &#039;Kelly Watch The Stars&#039; &amp; &#039;All I Need&#039;?\",\"correct_answer\":\"Air\",\"incorrect_answers\":[\"Fire\",\"Earth\",\"Water\"]},{\"category\":\"Entertainment: Musicals & Theatres\",\"type\":\"multiple\",\"difficulty\":\"easy\",\"question\":\"In Shakespeare&#039;s play Julius Caesar, Caesar&#039;s last words were...\",\"correct_answer\":\"Et tu, Brute? \",\"incorrect_answers\":[\"Iacta alea est!\",\"Vidi, vini, vici.\",\"Aegri somnia vana.\"]},{\"category\":\"Celebrities\",\"type\":\"boolean\",\"difficulty\":\"easy\",\"question\":\"Marilyn Monroe was born on July 1, 1926.\",\"correct_answer\":\"False\",\"incorrect_answers\":[\"True\"]},{\"category\":\"History\",\"type\":\"multiple\",\"difficulty\":\"medium\",\"question\":\"Which of the following countries was the first to send an object into space?\",\"correct_answer\":\"Germany\",\"incorrect_answers\":[\"USA\",\"Russia\",\"China\"]},{\"category\":\"General Knowledge\",\"type\":\"multiple\",\"difficulty\":\"hard\",\"question\":\"Originally another word for poppy, coquelicot is a shade of what?\",\"correct_answer\":\"Red\",\"incorrect_answers\":[\"Green\",\"Blue\",\"Pink\"]}]}'></json-viewer>\n  <script>\n        document.querySelector('#json').expandAll()\n  </script>\n</body>\n"
     },
     "execution_count": 53,
     "metadata": {},
     "output_type": "execute_result"
    }
   ],
   "source": [
    "runBlocking { client.get(\"https://opentdb.com/api.php?amount=5\").bodyAsText() }.deserialize(\"Response\").src"
   ],
   "metadata": {
    "collapsed": false,
    "ExecuteTime": {
     "end_time": "2023-07-17T14:10:44.292719Z",
     "start_time": "2023-07-17T14:10:43.660674Z"
    }
   }
  },
  {
   "cell_type": "code",
   "execution_count": 45,
   "outputs": [
    {
     "data": {
      "text/plain": "5"
     },
     "execution_count": 45,
     "metadata": {},
     "output_type": "execute_result"
    }
   ],
   "source": [
    "res.results.count()"
   ],
   "metadata": {
    "collapsed": false,
    "ExecuteTime": {
     "end_time": "2023-07-17T14:07:16.594004Z",
     "start_time": "2023-07-17T14:07:16.533971Z"
    }
   }
  },
  {
   "cell_type": "code",
   "execution_count": 50,
   "outputs": [
    {
     "data": {
      "text/html": "\n<body>\n  <style>\n  json-viewer {\n    /* Background, font and indentation */\n    --background-color: #0000;\n    --font-size: 1.5rem;\n  }\n  </style>\n  <script src=\"https://unpkg.com/@alenaksu/json-viewer@2.0.0/dist/json-viewer.bundle.js\"></script>\n  <json-viewer id=\"json\" data='{\"response_code\":0,\"results\":[{\"category\":\"Entertainment: Books\",\"type\":\"multiple\",\"difficulty\":\"easy\",\"question\":\"What was Sir Handel&#039;s original name in &quot;The Railway Series&quot; and it&#039;s animated counterpart &quot;Thomas and Friends?&quot;\",\"correct_answer\":\"Falcon\",\"incorrect_answers\":[\"Eagle\",\"Kyte\",\"Swallow\"]}]}'></json-viewer>\n  <script>\n        document.querySelector('#json').expandAll()\n  </script>\n</body>\n"
     },
     "execution_count": 50,
     "metadata": {},
     "output_type": "execute_result"
    }
   ],
   "source": [
    "runBlocking { client.get(\"https://opentdb.com/api.php?amount=1\").bodyAsText() }"
   ],
   "metadata": {
    "collapsed": false,
    "ExecuteTime": {
     "end_time": "2023-07-17T14:10:01.775903Z",
     "start_time": "2023-07-17T14:09:58.956294Z"
    }
   }
  },
  {
   "cell_type": "code",
   "execution_count": 34,
   "outputs": [
    {
     "data": {
      "text/plain": "In the first game of the Sly Cooper franchise, what family heirloom did Sly Cooper want to steal back?"
     },
     "execution_count": 34,
     "metadata": {},
     "output_type": "execute_result"
    }
   ],
   "source": [
    "res.results[0].question"
   ],
   "metadata": {
    "collapsed": false,
    "ExecuteTime": {
     "end_time": "2023-07-17T13:58:48.845702Z",
     "start_time": "2023-07-17T13:58:48.787834Z"
    }
   }
  },
  {
   "cell_type": "code",
   "execution_count": 26,
   "outputs": [
    {
     "name": "stderr",
     "output_type": "stream",
     "text": [
      "The problem is found in one of the loaded libraries: check library converters (fields callbacks)\n",
      "Error compiling code:\n",
      "\n",
      "            import kotlinx.serialization.decodeFromString\n",
      "            \n",
      "import kotlinx.serialization.SerialName\n",
      "import kotlinx.serialization.Serializable\n",
      "\n",
      "@Serializable\n",
      "data class Test(\n",
      "    @SerialName(\"firstName\")\n",
      "    val firstName: String,\n",
      "    @SerialName(\"lastName\")\n",
      "    val lastName: String,\n",
      "    @SerialName(\"isAlive\")\n",
      "    val isAlive: Boolean,\n",
      "    @SerialName(\"age\")\n",
      "    val age: Int,\n",
      "    @SerialName(\"address\")\n",
      "    val address: Address,\n",
      "    @SerialName(\"phoneNumbers\")\n",
      "    val phoneNumbers: List<PhoneNumber>,\n",
      "    @SerialName(\"children\")\n",
      "    val children: List<String>,\n",
      "    @SerialName(\"spouse\")\n",
      "    val spouse: Any?\n",
      ")\n",
      "\n",
      "@Serializable\n",
      "data class Address(\n",
      "    @SerialName(\"streetAddress\")\n",
      "    val streetAddress: String,\n",
      "    @SerialName(\"city\")\n",
      "    val city: String,\n",
      "    @SerialName(\"state\")\n",
      "    val state: String,\n",
      "    @SerialName(\"postalCode\")\n",
      "    val postalCode: String\n",
      ")\n",
      "\n",
      "@Serializable\n",
      "data class PhoneNumber(\n",
      "    @SerialName(\"type\")\n",
      "    val type: String,\n",
      "    @SerialName(\"number\")\n",
      "    val number: String\n",
      ")\n",
      "            val t = Json.Default.decodeFromString<Test>(\"\"\"\n",
      "{\n",
      "  \"firstName\": \"John\",\n",
      "  \"lastName\": \"Smith\",\n",
      "  \"isAlive\": true,\n",
      "  \"age\": 27,\n",
      "  \"address\": {\n",
      "    \"streetAddress\": \"21 2nd Street\",\n",
      "    \"city\": \"New York\",\n",
      "    \"state\": \"NY\",\n",
      "    \"postalCode\": \"10021-3100\"\n",
      "  },\n",
      "  \"phoneNumbers\": [\n",
      "    {\n",
      "      \"type\": \"home\",\n",
      "      \"number\": \"212 555-1234\"\n",
      "    },\n",
      "    {\n",
      "      \"type\": \"office\",\n",
      "      \"number\": \"646 555-4567\"\n",
      "    }\n",
      "  ],\n",
      "  \"children\": [\n",
      "    \"Catherine\",\n",
      "    \"Thomas\",\n",
      "    \"Trevor\"\n",
      "  ],\n",
      "  \"spouse\": null\n",
      "}\n",
      "\"\"\")\n",
      "        \n",
      "\n",
      "Errors:\n",
      "Line_32.jupyter.kts (24:17 - 21) Serializer has not been found for type 'Any?'. To use context serializer as fallback, explicitly annotate type or property with @Contextual\n",
      "\n",
      "org.jetbrains.kotlinx.jupyter.exceptions.ReplLibraryException: The problem is found in one of the loaded libraries: check library converters (fields callbacks)\n",
      "\tat org.jetbrains.kotlinx.jupyter.exceptions.CompositeReplExceptionKt.throwLibraryException(CompositeReplException.kt:50)\n",
      "\tat org.jetbrains.kotlinx.jupyter.codegen.FieldsProcessorImpl.process(FieldsProcessorImpl.kt:54)\n",
      "\tat org.jetbrains.kotlinx.jupyter.repl.impl.CellExecutorImpl$execute$1$1.invoke(CellExecutorImpl.kt:91)\n",
      "\tat org.jetbrains.kotlinx.jupyter.repl.impl.CellExecutorImpl$execute$1$1.invoke(CellExecutorImpl.kt:90)\n",
      "\tat org.jetbrains.kotlinx.jupyter.config.LoggingKt.catchAll(logging.kt:42)\n",
      "\tat org.jetbrains.kotlinx.jupyter.config.LoggingKt.catchAll$default(logging.kt:41)\n",
      "\tat org.jetbrains.kotlinx.jupyter.repl.impl.CellExecutorImpl.execute(CellExecutorImpl.kt:90)\n",
      "\tat org.jetbrains.kotlinx.jupyter.repl.CellExecutor$DefaultImpls.execute$default(CellExecutor.kt:15)\n",
      "\tat org.jetbrains.kotlinx.jupyter.ReplForJupyterImpl$evalEx$1.invoke(repl.kt:479)\n",
      "\tat org.jetbrains.kotlinx.jupyter.ReplForJupyterImpl$evalEx$1.invoke(repl.kt:470)\n",
      "\tat org.jetbrains.kotlinx.jupyter.ReplForJupyterImpl.withEvalContext(repl.kt:433)\n",
      "\tat org.jetbrains.kotlinx.jupyter.ReplForJupyterImpl.evalEx(repl.kt:470)\n",
      "\tat org.jetbrains.kotlinx.jupyter.messaging.ProtocolKt$shellMessagesHandler$2$res$1.invoke(protocol.kt:318)\n",
      "\tat org.jetbrains.kotlinx.jupyter.messaging.ProtocolKt$shellMessagesHandler$2$res$1.invoke(protocol.kt:312)\n",
      "\tat org.jetbrains.kotlinx.jupyter.JupyterExecutorImpl$runExecution$execThread$1.invoke(execution.kt:37)\n",
      "\tat org.jetbrains.kotlinx.jupyter.JupyterExecutorImpl$runExecution$execThread$1.invoke(execution.kt:32)\n",
      "\tat kotlin.concurrent.ThreadsKt$thread$thread$1.run(Thread.kt:30)\n",
      "Caused by: org.jetbrains.kotlinx.jupyter.exceptions.ReplCompilerException: Line_32.jupyter.kts (24:17 - 21) Serializer has not been found for type 'Any?'. To use context serializer as fallback, explicitly annotate type or property with @Contextual\n",
      "\tat org.jetbrains.kotlinx.jupyter.repl.impl.JupyterCompilerImpl.compileSync(JupyterCompilerImpl.kt:174)\n",
      "\tat org.jetbrains.kotlinx.jupyter.repl.impl.InternalEvaluatorImpl.eval(InternalEvaluatorImpl.kt:99)\n",
      "\tat org.jetbrains.kotlinx.jupyter.repl.impl.CellExecutorImpl$execute$1$result$1.invoke(CellExecutorImpl.kt:75)\n",
      "\tat org.jetbrains.kotlinx.jupyter.repl.impl.CellExecutorImpl$execute$1$result$1.invoke(CellExecutorImpl.kt:73)\n",
      "\tat org.jetbrains.kotlinx.jupyter.ReplForJupyterImpl.withHost(repl.kt:666)\n",
      "\tat org.jetbrains.kotlinx.jupyter.repl.impl.CellExecutorImpl.execute(CellExecutorImpl.kt:73)\n",
      "\tat org.jetbrains.kotlinx.jupyter.repl.CellExecutor$DefaultImpls.execute$default(CellExecutor.kt:15)\n",
      "\tat org.jetbrains.kotlinx.jupyter.repl.impl.CellExecutorImpl$ExecutionContext.execute(CellExecutorImpl.kt:220)\n",
      "\tat Line_27_jupyter$1$1.invoke(Line_27.jupyter.kts:5)\n",
      "\tat Line_27_jupyter$1$1.invoke(Line_27.jupyter.kts:4)\n",
      "\tat org.jetbrains.kotlinx.jupyter.api.libraries.FieldHandlerFactory$createUpdateExecution$1.execute(FieldHandlerFactory.kt:30)\n",
      "\tat org.jetbrains.kotlinx.jupyter.codegen.FieldsProcessorImpl.process(FieldsProcessorImpl.kt:38)\n",
      "\t... 15 more\n",
      "\n",
      "\n"
     ]
    }
   ],
   "source": [
    "str.deserialize()"
   ],
   "metadata": {
    "collapsed": false,
    "ExecuteTime": {
     "end_time": "2023-07-17T13:57:35.450276Z",
     "start_time": "2023-07-17T13:57:35.362732Z"
    }
   }
  },
  {
   "cell_type": "code",
   "execution_count": 86,
   "outputs": [
    {
     "name": "stdout",
     "output_type": "stream",
     "text": [
      "Executing:\n",
      "val result = runBlocking { client.get(\"https://api.github.com/orgs/JetBrains/members\").bodyAsText() }.deserialize()\n",
      "Executing:\n",
      "\n",
      "            import kotlinx.serialization.decodeFromString\n",
      "            \n",
      "import kotlinx.serialization.SerialName\n",
      "import kotlinx.serialization.Serializable\n",
      "\n",
      "class Test : ArrayList<TestItem>()\n",
      "\n",
      "@Serializable\n",
      "data class TestItem(\n",
      "    @SerialName(\"login\")\n",
      "    val login: String,\n",
      "    @SerialName(\"id\")\n",
      "    val id: Int,\n",
      "    @SerialName(\"node_id\")\n",
      "    val nodeId: String,\n",
      "    @SerialName(\"avatar_url\")\n",
      "    val avatarUrl: String,\n",
      "    @SerialName(\"gravatar_id\")\n",
      "    val gravatarId: String,\n",
      "    @SerialName(\"url\")\n",
      "    val url: String,\n",
      "    @SerialName(\"html_url\")\n",
      "    val htmlUrl: String,\n",
      "    @SerialName(\"followers_url\")\n",
      "    val followersUrl: String,\n",
      "    @SerialName(\"following_url\")\n",
      "    val followingUrl: String,\n",
      "    @SerialName(\"gists_url\")\n",
      "    val gistsUrl: String,\n",
      "    @SerialName(\"starred_url\")\n",
      "    val starredUrl: String,\n",
      "    @SerialName(\"subscriptions_url\")\n",
      "    val subscriptionsUrl: String,\n",
      "    @SerialName(\"organizations_url\")\n",
      "    val organizationsUrl: String,\n",
      "    @SerialName(\"repos_url\")\n",
      "    val reposUrl: String,\n",
      "    @SerialName(\"events_url\")\n",
      "    val eventsUrl: String,\n",
      "    @SerialName(\"received_events_url\")\n",
      "    val receivedEventsUrl: String,\n",
      "    @SerialName(\"type\")\n",
      "    val type: String,\n",
      "    @SerialName(\"site_admin\")\n",
      "    val siteAdmin: Boolean\n",
      ")\n",
      "            val t = Json.Default.decodeFromString<List<TestItem>>(\"\"\"[{\"login\":\"1anisim\",\"id\":70746131,\"node_id\":\"MDQ6VXNlcjcwNzQ2MTMx\",\"avatar_url\":\"https://avatars.githubusercontent.com/u/70746131?v=4\",\"gravatar_id\":\"\",\"url\":\"https://api.github.com/users/1anisim\",\"html_url\":\"https://github.com/1anisim\",\"followers_url\":\"https://api.github.com/users/1anisim/followers\",\"following_url\":\"https://api.github.com/users/1anisim/following{/other_user}\",\"gists_url\":\"https://api.github.com/users/1anisim/gists{/gist_id}\",\"starred_url\":\"https://api.github.com/users/1anisim/starred{/owner}{/repo}\",\"subscriptions_url\":\"https://api.github.com/users/1anisim/subscriptions\",\"organizations_url\":\"https://api.github.com/users/1anisim/orgs\",\"repos_url\":\"https://api.github.com/users/1anisim/repos\",\"events_url\":\"https://api.github.com/users/1anisim/events{/privacy}\",\"received_events_url\":\"https://api.github.com/users/1anisim/received_events\",\"type\":\"User\",\"site_admin\":false},{\"login\":\"a-krasilnikov\",\"id\":42605298,\"node_id\":\"MDQ6VXNlcjQyNjA1Mjk4\",\"avatar_url\":\"https://avatars.githubusercontent.com/u/42605298?v=4\",\"gravatar_id\":\"\",\"url\":\"https://api.github.com/users/a-krasilnikov\",\"html_url\":\"https://github.com/a-krasilnikov\",\"followers_url\":\"https://api.github.com/users/a-krasilnikov/followers\",\"following_url\":\"https://api.github.com/users/a-krasilnikov/following{/other_user}\",\"gists_url\":\"https://api.github.com/users/a-krasilnikov/gists{/gist_id}\",\"starred_url\":\"https://api.github.com/users/a-krasilnikov/starred{/owner}{/repo}\",\"subscriptions_url\":\"https://api.github.com/users/a-krasilnikov/subscriptions\",\"organizations_url\":\"https://api.github.com/users/a-krasilnikov/orgs\",\"repos_url\":\"https://api.github.com/users/a-krasilnikov/repos\",\"events_url\":\"https://api.github.com/users/a-krasilnikov/events{/privacy}\",\"received_events_url\":\"https://api.github.com/users/a-krasilnikov/received_events\",\"type\":\"User\",\"site_admin\":false},{\"login\":\"a-kuznetsova\",\"id\":71134653,\"node_id\":\"MDQ6VXNlcjcxMTM0NjUz\",\"avatar_url\":\"https://avatars.githubusercontent.com/u/71134653?v=4\",\"gravatar_id\":\"\",\"url\":\"https://api.github.com/users/a-kuznetsova\",\"html_url\":\"https://github.com/a-kuznetsova\",\"followers_url\":\"https://api.github.com/users/a-kuznetsova/followers\",\"following_url\":\"https://api.github.com/users/a-kuznetsova/following{/other_user}\",\"gists_url\":\"https://api.github.com/users/a-kuznetsova/gists{/gist_id}\",\"starred_url\":\"https://api.github.com/users/a-kuznetsova/starred{/owner}{/repo}\",\"subscriptions_url\":\"https://api.github.com/users/a-kuznetsova/subscriptions\",\"organizations_url\":\"https://api.github.com/users/a-kuznetsova/orgs\",\"repos_url\":\"https://api.github.com/users/a-kuznetsova/repos\",\"events_url\":\"https://api.github.com/users/a-kuznetsova/events{/privacy}\",\"received_events_url\":\"https://api.github.com/users/a-kuznetsova/received_events\",\"type\":\"User\",\"site_admin\":false},{\"login\":\"abarsov\",\"id\":7127060,\"node_id\":\"MDQ6VXNlcjcxMjcwNjA=\",\"avatar_url\":\"https://avatars.githubusercontent.com/u/7127060?v=4\",\"gravatar_id\":\"\",\"url\":\"https://api.github.com/users/abarsov\",\"html_url\":\"https://github.com/abarsov\",\"followers_url\":\"https://api.github.com/users/abarsov/followers\",\"following_url\":\"https://api.github.com/users/abarsov/following{/other_user}\",\"gists_url\":\"https://api.github.com/users/abarsov/gists{/gist_id}\",\"starred_url\":\"https://api.github.com/users/abarsov/starred{/owner}{/repo}\",\"subscriptions_url\":\"https://api.github.com/users/abarsov/subscriptions\",\"organizations_url\":\"https://api.github.com/users/abarsov/orgs\",\"repos_url\":\"https://api.github.com/users/abarsov/repos\",\"events_url\":\"https://api.github.com/users/abarsov/events{/privacy}\",\"received_events_url\":\"https://api.github.com/users/abarsov/received_events\",\"type\":\"User\",\"site_admin\":false},{\"login\":\"abelkov\",\"id\":7702679,\"node_id\":\"MDQ6VXNlcjc3MDI2Nzk=\",\"avatar_url\":\"https://avatars.githubusercontent.com/u/7702679?v=4\",\"gravatar_id\":\"\",\"url\":\"https://api.github.com/users/abelkov\",\"html_url\":\"https://github.com/abelkov\",\"followers_url\":\"https://api.github.com/users/abelkov/followers\",\"following_url\":\"https://api.github.com/users/abelkov/following{/other_user}\",\"gists_url\":\"https://api.github.com/users/abelkov/gists{/gist_id}\",\"starred_url\":\"https://api.github.com/users/abelkov/starred{/owner}{/repo}\",\"subscriptions_url\":\"https://api.github.com/users/abelkov/subscriptions\",\"organizations_url\":\"https://api.github.com/users/abelkov/orgs\",\"repos_url\":\"https://api.github.com/users/abelkov/repos\",\"events_url\":\"https://api.github.com/users/abelkov/events{/privacy}\",\"received_events_url\":\"https://api.github.com/users/abelkov/received_events\",\"type\":\"User\",\"site_admin\":false},{\"login\":\"abrams27\",\"id\":44381959,\"node_id\":\"MDQ6VXNlcjQ0MzgxOTU5\",\"avatar_url\":\"https://avatars.githubusercontent.com/u/44381959?v=4\",\"gravatar_id\":\"\",\"url\":\"https://api.github.com/users/abrams27\",\"html_url\":\"https://github.com/abrams27\",\"followers_url\":\"https://api.github.com/users/abrams27/followers\",\"following_url\":\"https://api.github.com/users/abrams27/following{/other_user}\",\"gists_url\":\"https://api.github.com/users/abrams27/gists{/gist_id}\",\"starred_url\":\"https://api.github.com/users/abrams27/starred{/owner}{/repo}\",\"subscriptions_url\":\"https://api.github.com/users/abrams27/subscriptions\",\"organizations_url\":\"https://api.github.com/users/abrams27/orgs\",\"repos_url\":\"https://api.github.com/users/abrams27/repos\",\"events_url\":\"https://api.github.com/users/abrams27/events{/privacy}\",\"received_events_url\":\"https://api.github.com/users/abrams27/received_events\",\"type\":\"User\",\"site_admin\":false},{\"login\":\"abusalimov\",\"id\":530396,\"node_id\":\"MDQ6VXNlcjUzMDM5Ng==\",\"avatar_url\":\"https://avatars.githubusercontent.com/u/530396?v=4\",\"gravatar_id\":\"\",\"url\":\"https://api.github.com/users/abusalimov\",\"html_url\":\"https://github.com/abusalimov\",\"followers_url\":\"https://api.github.com/users/abusalimov/followers\",\"following_url\":\"https://api.github.com/users/abusalimov/following{/other_user}\",\"gists_url\":\"https://api.github.com/users/abusalimov/gists{/gist_id}\",\"starred_url\":\"https://api.github.com/users/abusalimov/starred{/owner}{/repo}\",\"subscriptions_url\":\"https://api.github.com/users/abusalimov/subscriptions\",\"organizations_url\":\"https://api.github.com/users/abusalimov/orgs\",\"repos_url\":\"https://api.github.com/users/abusalimov/repos\",\"events_url\":\"https://api.github.com/users/abusalimov/events{/privacy}\",\"received_events_url\":\"https://api.github.com/users/abusalimov/received_events\",\"type\":\"User\",\"site_admin\":false},{\"login\":\"adkozlov\",\"id\":1233785,\"node_id\":\"MDQ6VXNlcjEyMzM3ODU=\",\"avatar_url\":\"https://avatars.githubusercontent.com/u/1233785?v=4\",\"gravatar_id\":\"\",\"url\":\"https://api.github.com/users/adkozlov\",\"html_url\":\"https://github.com/adkozlov\",\"followers_url\":\"https://api.github.com/users/adkozlov/followers\",\"following_url\":\"https://api.github.com/users/adkozlov/following{/other_user}\",\"gists_url\":\"https://api.github.com/users/adkozlov/gists{/gist_id}\",\"starred_url\":\"https://api.github.com/users/adkozlov/starred{/owner}{/repo}\",\"subscriptions_url\":\"https://api.github.com/users/adkozlov/subscriptions\",\"organizations_url\":\"https://api.github.com/users/adkozlov/orgs\",\"repos_url\":\"https://api.github.com/users/adkozlov/repos\",\"events_url\":\"https://api.github.com/users/adkozlov/events{/privacy}\",\"received_events_url\":\"https://api.github.com/users/adkozlov/received_events\",\"type\":\"User\",\"site_admin\":false},{\"login\":\"AI-shm\",\"id\":63251834,\"node_id\":\"MDQ6VXNlcjYzMjUxODM0\",\"avatar_url\":\"https://avatars.githubusercontent.com/u/63251834?v=4\",\"gravatar_id\":\"\",\"url\":\"https://api.github.com/users/AI-shm\",\"html_url\":\"https://github.com/AI-shm\",\"followers_url\":\"https://api.github.com/users/AI-shm/followers\",\"following_url\":\"https://api.github.com/users/AI-shm/following{/other_user}\",\"gists_url\":\"https://api.github.com/users/AI-shm/gists{/gist_id}\",\"starred_url\":\"https://api.github.com/users/AI-shm/starred{/owner}{/repo}\",\"subscriptions_url\":\"https://api.github.com/users/AI-shm/subscriptions\",\"organizations_url\":\"https://api.github.com/users/AI-shm/orgs\",\"repos_url\":\"https://api.github.com/users/AI-shm/repos\",\"events_url\":\"https://api.github.com/users/AI-shm/events{/privacy}\",\"received_events_url\":\"https://api.github.com/users/AI-shm/received_events\",\"type\":\"User\",\"site_admin\":false},{\"login\":\"Alefas\",\"id\":94064,\"node_id\":\"MDQ6VXNlcjk0MDY0\",\"avatar_url\":\"https://avatars.githubusercontent.com/u/94064?v=4\",\"gravatar_id\":\"\",\"url\":\"https://api.github.com/users/Alefas\",\"html_url\":\"https://github.com/Alefas\",\"followers_url\":\"https://api.github.com/users/Alefas/followers\",\"following_url\":\"https://api.github.com/users/Alefas/following{/other_user}\",\"gists_url\":\"https://api.github.com/users/Alefas/gists{/gist_id}\",\"starred_url\":\"https://api.github.com/users/Alefas/starred{/owner}{/repo}\",\"subscriptions_url\":\"https://api.github.com/users/Alefas/subscriptions\",\"organizations_url\":\"https://api.github.com/users/Alefas/orgs\",\"repos_url\":\"https://api.github.com/users/Alefas/repos\",\"events_url\":\"https://api.github.com/users/Alefas/events{/privacy}\",\"received_events_url\":\"https://api.github.com/users/Alefas/received_events\",\"type\":\"User\",\"site_admin\":false},{\"login\":\"alexander-doroshko\",\"id\":4499789,\"node_id\":\"MDQ6VXNlcjQ0OTk3ODk=\",\"avatar_url\":\"https://avatars.githubusercontent.com/u/4499789?v=4\",\"gravatar_id\":\"\",\"url\":\"https://api.github.com/users/alexander-doroshko\",\"html_url\":\"https://github.com/alexander-doroshko\",\"followers_url\":\"https://api.github.com/users/alexander-doroshko/followers\",\"following_url\":\"https://api.github.com/users/alexander-doroshko/following{/other_user}\",\"gists_url\":\"https://api.github.com/users/alexander-doroshko/gists{/gist_id}\",\"starred_url\":\"https://api.github.com/users/alexander-doroshko/starred{/owner}{/repo}\",\"subscriptions_url\":\"https://api.github.com/users/alexander-doroshko/subscriptions\",\"organizations_url\":\"https://api.github.com/users/alexander-doroshko/orgs\",\"repos_url\":\"https://api.github.com/users/alexander-doroshko/repos\",\"events_url\":\"https://api.github.com/users/alexander-doroshko/events{/privacy}\",\"received_events_url\":\"https://api.github.com/users/alexander-doroshko/received_events\",\"type\":\"User\",\"site_admin\":false},{\"login\":\"AlexeyKalina\",\"id\":15379339,\"node_id\":\"MDQ6VXNlcjE1Mzc5MzM5\",\"avatar_url\":\"https://avatars.githubusercontent.com/u/15379339?v=4\",\"gravatar_id\":\"\",\"url\":\"https://api.github.com/users/AlexeyKalina\",\"html_url\":\"https://github.com/AlexeyKalina\",\"followers_url\":\"https://api.github.com/users/AlexeyKalina/followers\",\"following_url\":\"https://api.github.com/users/AlexeyKalina/following{/other_user}\",\"gists_url\":\"https://api.github.com/users/AlexeyKalina/gists{/gist_id}\",\"starred_url\":\"https://api.github.com/users/AlexeyKalina/starred{/owner}{/repo}\",\"subscriptions_url\":\"https://api.github.com/users/AlexeyKalina/subscriptions\",\"organizations_url\":\"https://api.github.com/users/AlexeyKalina/orgs\",\"repos_url\":\"https://api.github.com/users/AlexeyKalina/repos\",\"events_url\":\"https://api.github.com/users/AlexeyKalina/events{/privacy}\",\"received_events_url\":\"https://api.github.com/users/AlexeyKalina/received_events\",\"type\":\"User\",\"site_admin\":false},{\"login\":\"AlexPl292\",\"id\":4203721,\"node_id\":\"MDQ6VXNlcjQyMDM3MjE=\",\"avatar_url\":\"https://avatars.githubusercontent.com/u/4203721?v=4\",\"gravatar_id\":\"\",\"url\":\"https://api.github.com/users/AlexPl292\",\"html_url\":\"https://github.com/AlexPl292\",\"followers_url\":\"https://api.github.com/users/AlexPl292/followers\",\"following_url\":\"https://api.github.com/users/AlexPl292/following{/other_user}\",\"gists_url\":\"https://api.github.com/users/AlexPl292/gists{/gist_id}\",\"starred_url\":\"https://api.github.com/users/AlexPl292/starred{/owner}{/repo}\",\"subscriptions_url\":\"https://api.github.com/users/AlexPl292/subscriptions\",\"organizations_url\":\"https://api.github.com/users/AlexPl292/orgs\",\"repos_url\":\"https://api.github.com/users/AlexPl292/repos\",\"events_url\":\"https://api.github.com/users/AlexPl292/events{/privacy}\",\"received_events_url\":\"https://api.github.com/users/AlexPl292/received_events\",\"type\":\"User\",\"site_admin\":false},{\"login\":\"ALikhachev\",\"id\":1221596,\"node_id\":\"MDQ6VXNlcjEyMjE1OTY=\",\"avatar_url\":\"https://avatars.githubusercontent.com/u/1221596?v=4\",\"gravatar_id\":\"\",\"url\":\"https://api.github.com/users/ALikhachev\",\"html_url\":\"https://github.com/ALikhachev\",\"followers_url\":\"https://api.github.com/users/ALikhachev/followers\",\"following_url\":\"https://api.github.com/users/ALikhachev/following{/other_user}\",\"gists_url\":\"https://api.github.com/users/ALikhachev/gists{/gist_id}\",\"starred_url\":\"https://api.github.com/users/ALikhachev/starred{/owner}{/repo}\",\"subscriptions_url\":\"https://api.github.com/users/ALikhachev/subscriptions\",\"organizations_url\":\"https://api.github.com/users/ALikhachev/orgs\",\"repos_url\":\"https://api.github.com/users/ALikhachev/repos\",\"events_url\":\"https://api.github.com/users/ALikhachev/events{/privacy}\",\"received_events_url\":\"https://api.github.com/users/ALikhachev/received_events\",\"type\":\"User\",\"site_admin\":false},{\"login\":\"almsh\",\"id\":1478252,\"node_id\":\"MDQ6VXNlcjE0NzgyNTI=\",\"avatar_url\":\"https://avatars.githubusercontent.com/u/1478252?v=4\",\"gravatar_id\":\"\",\"url\":\"https://api.github.com/users/almsh\",\"html_url\":\"https://github.com/almsh\",\"followers_url\":\"https://api.github.com/users/almsh/followers\",\"following_url\":\"https://api.github.com/users/almsh/following{/other_user}\",\"gists_url\":\"https://api.github.com/users/almsh/gists{/gist_id}\",\"starred_url\":\"https://api.github.com/users/almsh/starred{/owner}{/repo}\",\"subscriptions_url\":\"https://api.github.com/users/almsh/subscriptions\",\"organizations_url\":\"https://api.github.com/users/almsh/orgs\",\"repos_url\":\"https://api.github.com/users/almsh/repos\",\"events_url\":\"https://api.github.com/users/almsh/events{/privacy}\",\"received_events_url\":\"https://api.github.com/users/almsh/received_events\",\"type\":\"User\",\"site_admin\":false},{\"login\":\"amakeev\",\"id\":238583,\"node_id\":\"MDQ6VXNlcjIzODU4Mw==\",\"avatar_url\":\"https://avatars.githubusercontent.com/u/238583?v=4\",\"gravatar_id\":\"\",\"url\":\"https://api.github.com/users/amakeev\",\"html_url\":\"https://github.com/amakeev\",\"followers_url\":\"https://api.github.com/users/amakeev/followers\",\"following_url\":\"https://api.github.com/users/amakeev/following{/other_user}\",\"gists_url\":\"https://api.github.com/users/amakeev/gists{/gist_id}\",\"starred_url\":\"https://api.github.com/users/amakeev/starred{/owner}{/repo}\",\"subscriptions_url\":\"https://api.github.com/users/amakeev/subscriptions\",\"organizations_url\":\"https://api.github.com/users/amakeev/orgs\",\"repos_url\":\"https://api.github.com/users/amakeev/repos\",\"events_url\":\"https://api.github.com/users/amakeev/events{/privacy}\",\"received_events_url\":\"https://api.github.com/users/amakeev/received_events\",\"type\":\"User\",\"site_admin\":false},{\"login\":\"anisimov74\",\"id\":296548,\"node_id\":\"MDQ6VXNlcjI5NjU0OA==\",\"avatar_url\":\"https://avatars.githubusercontent.com/u/296548?v=4\",\"gravatar_id\":\"\",\"url\":\"https://api.github.com/users/anisimov74\",\"html_url\":\"https://github.com/anisimov74\",\"followers_url\":\"https://api.github.com/users/anisimov74/followers\",\"following_url\":\"https://api.github.com/users/anisimov74/following{/other_user}\",\"gists_url\":\"https://api.github.com/users/anisimov74/gists{/gist_id}\",\"starred_url\":\"https://api.github.com/users/anisimov74/starred{/owner}{/repo}\",\"subscriptions_url\":\"https://api.github.com/users/anisimov74/subscriptions\",\"organizations_url\":\"https://api.github.com/users/anisimov74/orgs\",\"repos_url\":\"https://api.github.com/users/anisimov74/repos\",\"events_url\":\"https://api.github.com/users/anisimov74/events{/privacy}\",\"received_events_url\":\"https://api.github.com/users/anisimov74/received_events\",\"type\":\"User\",\"site_admin\":false},{\"login\":\"anna239\",\"id\":661533,\"node_id\":\"MDQ6VXNlcjY2MTUzMw==\",\"avatar_url\":\"https://avatars.githubusercontent.com/u/661533?v=4\",\"gravatar_id\":\"\",\"url\":\"https://api.github.com/users/anna239\",\"html_url\":\"https://github.com/anna239\",\"followers_url\":\"https://api.github.com/users/anna239/followers\",\"following_url\":\"https://api.github.com/users/anna239/following{/other_user}\",\"gists_url\":\"https://api.github.com/users/anna239/gists{/gist_id}\",\"starred_url\":\"https://api.github.com/users/anna239/starred{/owner}{/repo}\",\"subscriptions_url\":\"https://api.github.com/users/anna239/subscriptions\",\"organizations_url\":\"https://api.github.com/users/anna239/orgs\",\"repos_url\":\"https://api.github.com/users/anna239/repos\",\"events_url\":\"https://api.github.com/users/anna239/events{/privacy}\",\"received_events_url\":\"https://api.github.com/users/anna239/received_events\",\"type\":\"User\",\"site_admin\":false},{\"login\":\"ant-druha\",\"id\":3117044,\"node_id\":\"MDQ6VXNlcjMxMTcwNDQ=\",\"avatar_url\":\"https://avatars.githubusercontent.com/u/3117044?v=4\",\"gravatar_id\":\"\",\"url\":\"https://api.github.com/users/ant-druha\",\"html_url\":\"https://github.com/ant-druha\",\"followers_url\":\"https://api.github.com/users/ant-druha/followers\",\"following_url\":\"https://api.github.com/users/ant-druha/following{/other_user}\",\"gists_url\":\"https://api.github.com/users/ant-druha/gists{/gist_id}\",\"starred_url\":\"https://api.github.com/users/ant-druha/starred{/owner}{/repo}\",\"subscriptions_url\":\"https://api.github.com/users/ant-druha/subscriptions\",\"organizations_url\":\"https://api.github.com/users/ant-druha/orgs\",\"repos_url\":\"https://api.github.com/users/ant-druha/repos\",\"events_url\":\"https://api.github.com/users/ant-druha/events{/privacy}\",\"received_events_url\":\"https://api.github.com/users/ant-druha/received_events\",\"type\":\"User\",\"site_admin\":false},{\"login\":\"ark-1\",\"id\":12529568,\"node_id\":\"MDQ6VXNlcjEyNTI5NTY4\",\"avatar_url\":\"https://avatars.githubusercontent.com/u/12529568?v=4\",\"gravatar_id\":\"\",\"url\":\"https://api.github.com/users/ark-1\",\"html_url\":\"https://github.com/ark-1\",\"followers_url\":\"https://api.github.com/users/ark-1/followers\",\"following_url\":\"https://api.github.com/users/ark-1/following{/other_user}\",\"gists_url\":\"https://api.github.com/users/ark-1/gists{/gist_id}\",\"starred_url\":\"https://api.github.com/users/ark-1/starred{/owner}{/repo}\",\"subscriptions_url\":\"https://api.github.com/users/ark-1/subscriptions\",\"organizations_url\":\"https://api.github.com/users/ark-1/orgs\",\"repos_url\":\"https://api.github.com/users/ark-1/repos\",\"events_url\":\"https://api.github.com/users/ark-1/events{/privacy}\",\"received_events_url\":\"https://api.github.com/users/ark-1/received_events\",\"type\":\"User\",\"site_admin\":false},{\"login\":\"ArtManyak\",\"id\":10251724,\"node_id\":\"MDQ6VXNlcjEwMjUxNzI0\",\"avatar_url\":\"https://avatars.githubusercontent.com/u/10251724?v=4\",\"gravatar_id\":\"\",\"url\":\"https://api.github.com/users/ArtManyak\",\"html_url\":\"https://github.com/ArtManyak\",\"followers_url\":\"https://api.github.com/users/ArtManyak/followers\",\"following_url\":\"https://api.github.com/users/ArtManyak/following{/other_user}\",\"gists_url\":\"https://api.github.com/users/ArtManyak/gists{/gist_id}\",\"starred_url\":\"https://api.github.com/users/ArtManyak/starred{/owner}{/repo}\",\"subscriptions_url\":\"https://api.github.com/users/ArtManyak/subscriptions\",\"organizations_url\":\"https://api.github.com/users/ArtManyak/orgs\",\"repos_url\":\"https://api.github.com/users/ArtManyak/repos\",\"events_url\":\"https://api.github.com/users/ArtManyak/events{/privacy}\",\"received_events_url\":\"https://api.github.com/users/ArtManyak/received_events\",\"type\":\"User\",\"site_admin\":false},{\"login\":\"ashatalin\",\"id\":980692,\"node_id\":\"MDQ6VXNlcjk4MDY5Mg==\",\"avatar_url\":\"https://avatars.githubusercontent.com/u/980692?v=4\",\"gravatar_id\":\"\",\"url\":\"https://api.github.com/users/ashatalin\",\"html_url\":\"https://github.com/ashatalin\",\"followers_url\":\"https://api.github.com/users/ashatalin/followers\",\"following_url\":\"https://api.github.com/users/ashatalin/following{/other_user}\",\"gists_url\":\"https://api.github.com/users/ashatalin/gists{/gist_id}\",\"starred_url\":\"https://api.github.com/users/ashatalin/starred{/owner}{/repo}\",\"subscriptions_url\":\"https://api.github.com/users/ashatalin/subscriptions\",\"organizations_url\":\"https://api.github.com/users/ashatalin/orgs\",\"repos_url\":\"https://api.github.com/users/ashatalin/repos\",\"events_url\":\"https://api.github.com/users/ashatalin/events{/privacy}\",\"received_events_url\":\"https://api.github.com/users/ashatalin/received_events\",\"type\":\"User\",\"site_admin\":false},{\"login\":\"auduchinok\",\"id\":3923587,\"node_id\":\"MDQ6VXNlcjM5MjM1ODc=\",\"avatar_url\":\"https://avatars.githubusercontent.com/u/3923587?v=4\",\"gravatar_id\":\"\",\"url\":\"https://api.github.com/users/auduchinok\",\"html_url\":\"https://github.com/auduchinok\",\"followers_url\":\"https://api.github.com/users/auduchinok/followers\",\"following_url\":\"https://api.github.com/users/auduchinok/following{/other_user}\",\"gists_url\":\"https://api.github.com/users/auduchinok/gists{/gist_id}\",\"starred_url\":\"https://api.github.com/users/auduchinok/starred{/owner}{/repo}\",\"subscriptions_url\":\"https://api.github.com/users/auduchinok/subscriptions\",\"organizations_url\":\"https://api.github.com/users/auduchinok/orgs\",\"repos_url\":\"https://api.github.com/users/auduchinok/repos\",\"events_url\":\"https://api.github.com/users/auduchinok/events{/privacy}\",\"received_events_url\":\"https://api.github.com/users/auduchinok/received_events\",\"type\":\"User\",\"site_admin\":false},{\"login\":\"avitalique\",\"id\":37739570,\"node_id\":\"MDQ6VXNlcjM3NzM5NTcw\",\"avatar_url\":\"https://avatars.githubusercontent.com/u/37739570?v=4\",\"gravatar_id\":\"\",\"url\":\"https://api.github.com/users/avitalique\",\"html_url\":\"https://github.com/avitalique\",\"followers_url\":\"https://api.github.com/users/avitalique/followers\",\"following_url\":\"https://api.github.com/users/avitalique/following{/other_user}\",\"gists_url\":\"https://api.github.com/users/avitalique/gists{/gist_id}\",\"starred_url\":\"https://api.github.com/users/avitalique/starred{/owner}{/repo}\",\"subscriptions_url\":\"https://api.github.com/users/avitalique/subscriptions\",\"organizations_url\":\"https://api.github.com/users/avitalique/orgs\",\"repos_url\":\"https://api.github.com/users/avitalique/repos\",\"events_url\":\"https://api.github.com/users/avitalique/events{/privacy}\",\"received_events_url\":\"https://api.github.com/users/avitalique/received_events\",\"type\":\"User\",\"site_admin\":false},{\"login\":\"Avvessalom\",\"id\":49491863,\"node_id\":\"MDQ6VXNlcjQ5NDkxODYz\",\"avatar_url\":\"https://avatars.githubusercontent.com/u/49491863?v=4\",\"gravatar_id\":\"\",\"url\":\"https://api.github.com/users/Avvessalom\",\"html_url\":\"https://github.com/Avvessalom\",\"followers_url\":\"https://api.github.com/users/Avvessalom/followers\",\"following_url\":\"https://api.github.com/users/Avvessalom/following{/other_user}\",\"gists_url\":\"https://api.github.com/users/Avvessalom/gists{/gist_id}\",\"starred_url\":\"https://api.github.com/users/Avvessalom/starred{/owner}{/repo}\",\"subscriptions_url\":\"https://api.github.com/users/Avvessalom/subscriptions\",\"organizations_url\":\"https://api.github.com/users/Avvessalom/orgs\",\"repos_url\":\"https://api.github.com/users/Avvessalom/repos\",\"events_url\":\"https://api.github.com/users/Avvessalom/events{/privacy}\",\"received_events_url\":\"https://api.github.com/users/Avvessalom/received_events\",\"type\":\"User\",\"site_admin\":false},{\"login\":\"azavodov\",\"id\":20466379,\"node_id\":\"MDQ6VXNlcjIwNDY2Mzc5\",\"avatar_url\":\"https://avatars.githubusercontent.com/u/20466379?v=4\",\"gravatar_id\":\"\",\"url\":\"https://api.github.com/users/azavodov\",\"html_url\":\"https://github.com/azavodov\",\"followers_url\":\"https://api.github.com/users/azavodov/followers\",\"following_url\":\"https://api.github.com/users/azavodov/following{/other_user}\",\"gists_url\":\"https://api.github.com/users/azavodov/gists{/gist_id}\",\"starred_url\":\"https://api.github.com/users/azavodov/starred{/owner}{/repo}\",\"subscriptions_url\":\"https://api.github.com/users/azavodov/subscriptions\",\"organizations_url\":\"https://api.github.com/users/azavodov/orgs\",\"repos_url\":\"https://api.github.com/users/azavodov/repos\",\"events_url\":\"https://api.github.com/users/azavodov/events{/privacy}\",\"received_events_url\":\"https://api.github.com/users/azavodov/received_events\",\"type\":\"User\",\"site_admin\":false},{\"login\":\"azhebel\",\"id\":11534933,\"node_id\":\"MDQ6VXNlcjExNTM0OTMz\",\"avatar_url\":\"https://avatars.githubusercontent.com/u/11534933?v=4\",\"gravatar_id\":\"\",\"url\":\"https://api.github.com/users/azhebel\",\"html_url\":\"https://github.com/azhebel\",\"followers_url\":\"https://api.github.com/users/azhebel/followers\",\"following_url\":\"https://api.github.com/users/azhebel/following{/other_user}\",\"gists_url\":\"https://api.github.com/users/azhebel/gists{/gist_id}\",\"starred_url\":\"https://api.github.com/users/azhebel/starred{/owner}{/repo}\",\"subscriptions_url\":\"https://api.github.com/users/azhebel/subscriptions\",\"organizations_url\":\"https://api.github.com/users/azhebel/orgs\",\"repos_url\":\"https://api.github.com/users/azhebel/repos\",\"events_url\":\"https://api.github.com/users/azhebel/events{/privacy}\",\"received_events_url\":\"https://api.github.com/users/azhebel/received_events\",\"type\":\"User\",\"site_admin\":false},{\"login\":\"Balkanskiy\",\"id\":2853578,\"node_id\":\"MDQ6VXNlcjI4NTM1Nzg=\",\"avatar_url\":\"https://avatars.githubusercontent.com/u/2853578?v=4\",\"gravatar_id\":\"\",\"url\":\"https://api.github.com/users/Balkanskiy\",\"html_url\":\"https://github.com/Balkanskiy\",\"followers_url\":\"https://api.github.com/users/Balkanskiy/followers\",\"following_url\":\"https://api.github.com/users/Balkanskiy/following{/other_user}\",\"gists_url\":\"https://api.github.com/users/Balkanskiy/gists{/gist_id}\",\"starred_url\":\"https://api.github.com/users/Balkanskiy/starred{/owner}{/repo}\",\"subscriptions_url\":\"https://api.github.com/users/Balkanskiy/subscriptions\",\"organizations_url\":\"https://api.github.com/users/Balkanskiy/orgs\",\"repos_url\":\"https://api.github.com/users/Balkanskiy/repos\",\"events_url\":\"https://api.github.com/users/Balkanskiy/events{/privacy}\",\"received_events_url\":\"https://api.github.com/users/Balkanskiy/received_events\",\"type\":\"User\",\"site_admin\":false},{\"login\":\"BarracudaPff\",\"id\":18344254,\"node_id\":\"MDQ6VXNlcjE4MzQ0MjU0\",\"avatar_url\":\"https://avatars.githubusercontent.com/u/18344254?v=4\",\"gravatar_id\":\"\",\"url\":\"https://api.github.com/users/BarracudaPff\",\"html_url\":\"https://github.com/BarracudaPff\",\"followers_url\":\"https://api.github.com/users/BarracudaPff/followers\",\"following_url\":\"https://api.github.com/users/BarracudaPff/following{/other_user}\",\"gists_url\":\"https://api.github.com/users/BarracudaPff/gists{/gist_id}\",\"starred_url\":\"https://api.github.com/users/BarracudaPff/starred{/owner}{/repo}\",\"subscriptions_url\":\"https://api.github.com/users/BarracudaPff/subscriptions\",\"organizations_url\":\"https://api.github.com/users/BarracudaPff/orgs\",\"repos_url\":\"https://api.github.com/users/BarracudaPff/repos\",\"events_url\":\"https://api.github.com/users/BarracudaPff/events{/privacy}\",\"received_events_url\":\"https://api.github.com/users/BarracudaPff/received_events\",\"type\":\"User\",\"site_admin\":false},{\"login\":\"BartvHelvert\",\"id\":9639072,\"node_id\":\"MDQ6VXNlcjk2MzkwNzI=\",\"avatar_url\":\"https://avatars.githubusercontent.com/u/9639072?v=4\",\"gravatar_id\":\"\",\"url\":\"https://api.github.com/users/BartvHelvert\",\"html_url\":\"https://github.com/BartvHelvert\",\"followers_url\":\"https://api.github.com/users/BartvHelvert/followers\",\"following_url\":\"https://api.github.com/users/BartvHelvert/following{/other_user}\",\"gists_url\":\"https://api.github.com/users/BartvHelvert/gists{/gist_id}\",\"starred_url\":\"https://api.github.com/users/BartvHelvert/starred{/owner}{/repo}\",\"subscriptions_url\":\"https://api.github.com/users/BartvHelvert/subscriptions\",\"organizations_url\":\"https://api.github.com/users/BartvHelvert/orgs\",\"repos_url\":\"https://api.github.com/users/BartvHelvert/repos\",\"events_url\":\"https://api.github.com/users/BartvHelvert/events{/privacy}\",\"received_events_url\":\"https://api.github.com/users/BartvHelvert/received_events\",\"type\":\"User\",\"site_admin\":false}]\"\"\")\n",
      "        \n",
      "Executing:\n",
      "val result = t\n"
     ]
    }
   ],
   "source": [
    "val result = runBlocking { client.get(\"https://api.github.com/orgs/JetBrains/members\").bodyAsText() }.deserialize()"
   ],
   "metadata": {
    "collapsed": false,
    "ExecuteTime": {
     "end_time": "2023-07-16T22:21:25.886578Z",
     "start_time": "2023-07-16T22:21:25.418662Z"
    }
   }
  },
  {
   "cell_type": "code",
   "execution_count": 91,
   "outputs": [],
   "source": [
    "%use dataframe"
   ],
   "metadata": {
    "collapsed": false,
    "ExecuteTime": {
     "end_time": "2023-07-16T22:22:41.188540Z",
     "start_time": "2023-07-16T22:22:39.824800Z"
    }
   }
  },
  {
   "cell_type": "code",
   "execution_count": 93,
   "outputs": [
    {
     "data": {
      "text/plain": "[1anisim, a-krasilnikov, a-kuznetsova, abarsov, abelkov, abrams27, abusalimov, adkozlov, AI-shm, Alefas, alexander-doroshko, AlexeyKalina, AlexPl292, ALikhachev, almsh, amakeev, anisimov74, anna239, ant-druha, ark-1, ArtManyak, ashatalin, auduchinok, avitalique, Avvessalom, azavodov, azhebel, Balkanskiy, BarracudaPff, BartvHelvert]"
     },
     "execution_count": 93,
     "metadata": {},
     "output_type": "execute_result"
    }
   ],
   "source": [
    "result.map { it.login }.toSet()"
   ],
   "metadata": {
    "collapsed": false,
    "ExecuteTime": {
     "end_time": "2023-07-16T22:23:18.033647Z",
     "start_time": "2023-07-16T22:23:17.991245Z"
    }
   }
  },
  {
   "cell_type": "code",
   "execution_count": 90,
   "outputs": [],
   "source": [
    "%trackExecution off"
   ],
   "metadata": {
    "collapsed": false,
    "ExecuteTime": {
     "end_time": "2023-07-16T22:22:36.563956Z",
     "start_time": "2023-07-16T22:22:36.532298Z"
    }
   }
  },
  {
   "cell_type": "code",
   "execution_count": 96,
   "outputs": [],
   "source": [
    "val res1 = runBlocking { client.get(\"https://api.github.com/orgs/JetBrains/members\").bodyAsText() }.deserialize()"
   ],
   "metadata": {
    "collapsed": false,
    "ExecuteTime": {
     "end_time": "2023-07-16T22:25:06.154415Z",
     "start_time": "2023-07-16T22:25:05.776791Z"
    }
   }
  },
  {
   "cell_type": "code",
   "execution_count": 98,
   "outputs": [
    {
     "data": {
      "text/plain": "[E]"
     },
     "execution_count": 98,
     "metadata": {},
     "output_type": "execute_result"
    }
   ],
   "source": [],
   "metadata": {
    "collapsed": false,
    "ExecuteTime": {
     "end_time": "2023-07-16T22:25:37.626395Z",
     "start_time": "2023-07-16T22:25:37.596148Z"
    }
   }
  },
  {
   "cell_type": "code",
   "execution_count": 9,
   "outputs": [],
   "source": [
    "fun validateJson(jsonString: String): Boolean {\n",
    "    return try {\n",
    "        Json.Default.parseToJsonElement(jsonString)\n",
    "        true // JSON is valid\n",
    "    } catch (e: Exception) {\n",
    "        false // Invalid JSON\n",
    "    }\n",
    "}"
   ],
   "metadata": {
    "collapsed": false,
    "ExecuteTime": {
     "end_time": "2023-07-17T13:51:52.739946Z",
     "start_time": "2023-07-17T13:51:52.677960Z"
    }
   }
  },
  {
   "cell_type": "code",
   "execution_count": 51,
   "outputs": [],
   "source": [
    "USE {\n",
    "    addRenderer(object: RendererHandler {\n",
    "        override val execution: ResultHandlerExecution\n",
    "            get() = ResultHandlerExecution { _, result -> FieldValue((result.value as String).printJson(), result.name) }\n",
    "\n",
    "        override fun accepts(value: Any?): Boolean {\n",
    "            return value is String && validateJson(value)\n",
    "        }\n",
    "\n",
    "        override fun replaceVariables(mapping: Map<String, String>): RendererHandler {\n",
    "            return this\n",
    "        }\n",
    "    })\n",
    "}"
   ],
   "metadata": {
    "collapsed": false,
    "ExecuteTime": {
     "end_time": "2023-07-17T14:10:15.332723Z",
     "start_time": "2023-07-17T14:10:15.259303Z"
    }
   }
  },
  {
   "cell_type": "code",
   "execution_count": 56,
   "outputs": [],
   "source": [
    "%use reflection"
   ],
   "metadata": {
    "collapsed": false,
    "ExecuteTime": {
     "end_time": "2023-07-17T14:29:08.201085Z",
     "start_time": "2023-07-17T14:29:08.168174Z"
    }
   }
  },
  {
   "cell_type": "code",
   "execution_count": 83,
   "outputs": [
    {
     "name": "stderr",
     "output_type": "stream",
     "text": [
      "Line_99.jupyter.kts (3:14 - 24) Unresolved reference. None of the following candidates is applicable because of receiver type mismatch: \n",
      "public fun <T : Any> KClass<TypeVariable(T)>.serializer(): KSerializer<TypeVariable(T)> defined in kotlinx.serialization\n",
      "public inline fun <reified T> SerializersModule.serializer(): KSerializer<TypeVariable(T)> defined in kotlinx.serialization\n",
      "public fun SerializersModule.serializer(type: Type): KSerializer<Any> defined in kotlinx.serialization\n",
      "public fun SerializersModule.serializer(type: KType): KSerializer<Any?> defined in kotlinx.serialization"
     ]
    }
   ],
   "source": [
    "inline fun <reified T> deserialize(){\n",
    "    T::class.serializer()\n",
    "} "
   ],
   "metadata": {
    "collapsed": false,
    "ExecuteTime": {
     "end_time": "2023-07-18T20:43:18.314134Z",
     "start_time": "2023-07-18T20:43:18.285010Z"
    }
   }
  },
  {
   "cell_type": "code",
   "execution_count": 65,
   "outputs": [
    {
     "name": "stderr",
     "output_type": "stream",
     "text": [
      "The problem is found in one of the loaded libraries: check library renderers\n",
      "kotlinx.serialization.SerializationException: Serializer for class 'Any' is not found.\n",
      "Please ensure that class is marked as '@Serializable' and that the serialization compiler plugin is applied.\n",
      "\n",
      "org.jetbrains.kotlinx.jupyter.exceptions.ReplLibraryException: The problem is found in one of the loaded libraries: check library renderers\n",
      "\tat org.jetbrains.kotlinx.jupyter.exceptions.ReplLibraryExceptionKt.rethrowAsLibraryException(ReplLibraryException.kt:32)\n",
      "\tat org.jetbrains.kotlinx.jupyter.codegen.RenderersProcessorImpl.renderResult(RenderersProcessorImpl.kt:26)\n",
      "\tat org.jetbrains.kotlinx.jupyter.ReplForJupyterImpl$evalEx$1$rendered$1$1.invoke(repl.kt:490)\n",
      "\tat org.jetbrains.kotlinx.jupyter.config.LoggingKt.catchAll(logging.kt:42)\n",
      "\tat org.jetbrains.kotlinx.jupyter.config.LoggingKt.catchAll$default(logging.kt:41)\n",
      "\tat org.jetbrains.kotlinx.jupyter.ReplForJupyterImpl$evalEx$1.invoke(repl.kt:489)\n",
      "\tat org.jetbrains.kotlinx.jupyter.ReplForJupyterImpl$evalEx$1.invoke(repl.kt:470)\n",
      "\tat org.jetbrains.kotlinx.jupyter.ReplForJupyterImpl.withEvalContext(repl.kt:433)\n",
      "\tat org.jetbrains.kotlinx.jupyter.ReplForJupyterImpl.evalEx(repl.kt:470)\n",
      "\tat org.jetbrains.kotlinx.jupyter.messaging.ProtocolKt$shellMessagesHandler$2$res$1.invoke(protocol.kt:318)\n",
      "\tat org.jetbrains.kotlinx.jupyter.messaging.ProtocolKt$shellMessagesHandler$2$res$1.invoke(protocol.kt:312)\n",
      "\tat org.jetbrains.kotlinx.jupyter.JupyterExecutorImpl$runExecution$execThread$1.invoke(execution.kt:37)\n",
      "\tat org.jetbrains.kotlinx.jupyter.JupyterExecutorImpl$runExecution$execThread$1.invoke(execution.kt:32)\n",
      "\tat kotlin.concurrent.ThreadsKt$thread$thread$1.run(Thread.kt:30)\n",
      "Caused by: kotlinx.serialization.SerializationException: Serializer for class 'Any' is not found.\n",
      "Please ensure that class is marked as '@Serializable' and that the serialization compiler plugin is applied.\n",
      "\n",
      "\tat kotlinx.serialization.internal.Platform_commonKt.serializerNotRegistered(Platform.common.kt:92)\n",
      "\tat kotlinx.serialization.internal.PlatformKt.platformSpecificSerializerNotRegistered(Platform.kt:28)\n",
      "\tat kotlinx.serialization.SerializersKt__SerializersKt.serializer(Serializers.kt:109)\n",
      "\tat kotlinx.serialization.SerializersKt.serializer(Unknown Source)\n",
      "\tat Line_77_jupyter$1$1$execution$1.execute(Line_77.jupyter.kts:22)\n",
      "\tat org.jetbrains.kotlinx.jupyter.codegen.RenderersProcessorImpl$renderResult$newField$1.invoke(RenderersProcessorImpl.kt:27)\n",
      "\tat org.jetbrains.kotlinx.jupyter.codegen.RenderersProcessorImpl$renderResult$newField$1.invoke(RenderersProcessorImpl.kt:26)\n",
      "\tat org.jetbrains.kotlinx.jupyter.exceptions.ReplLibraryExceptionKt.rethrowAsLibraryException(ReplLibraryException.kt:30)\n",
      "\t... 13 more\n",
      "\n",
      "\n"
     ]
    },
    {
     "data": {
      "text/plain": "null"
     },
     "execution_count": 65,
     "metadata": {},
     "output_type": "execute_result"
    }
   ],
   "source": [
    "import kotlinx.serialization.descriptors.SerialDescriptor\n",
    "import kotlinx.serialization.encoding.Decoder\n",
    "import kotlinx.serialization.encoding.Encoder\n",
    "\n",
    "@OptIn(kotlinx.serialization.InternalSerializationApi::class)\n",
    "class DynamicLookupSerializer: KSerializer<Any> {\n",
    "    override val descriptor: SerialDescriptor = ContextualSerializer(Any::class, null, emptyArray()).descriptor\n",
    "\n",
    "    override fun serialize(encoder: Encoder, value: Any) {\n",
    "        val actualSerializer = encoder.serializersModule.getContextual(value::class) ?: value::class.serializer()\n",
    "        encoder.encodeSerializableValue(actualSerializer as KSerializer<Any>, value)\n",
    "    }\n",
    "\n",
    "    override fun deserialize(decoder: Decoder): Any {\n",
    "        error(\"Unsupported\")\n",
    "    }\n",
    "}"
   ],
   "metadata": {
    "collapsed": false,
    "ExecuteTime": {
     "end_time": "2023-07-17T18:55:29.611117Z",
     "start_time": "2023-07-17T18:55:29.530130Z"
    }
   }
  },
  {
   "cell_type": "code",
   "execution_count": 61,
   "outputs": [
    {
     "name": "stderr",
     "output_type": "stream",
     "text": [
      "The problem is found in one of the loaded libraries: check library renderers\n",
      "kotlinx.serialization.SerializationException: Serializer for class 'Any' is not found.\n",
      "Please ensure that class is marked as '@Serializable' and that the serialization compiler plugin is applied.\n",
      "\n",
      "org.jetbrains.kotlinx.jupyter.exceptions.ReplLibraryException: The problem is found in one of the loaded libraries: check library renderers\n",
      "\tat org.jetbrains.kotlinx.jupyter.exceptions.ReplLibraryExceptionKt.rethrowAsLibraryException(ReplLibraryException.kt:32)\n",
      "\tat org.jetbrains.kotlinx.jupyter.codegen.RenderersProcessorImpl.renderResult(RenderersProcessorImpl.kt:26)\n",
      "\tat org.jetbrains.kotlinx.jupyter.ReplForJupyterImpl$evalEx$1$rendered$1$1.invoke(repl.kt:490)\n",
      "\tat org.jetbrains.kotlinx.jupyter.config.LoggingKt.catchAll(logging.kt:42)\n",
      "\tat org.jetbrains.kotlinx.jupyter.config.LoggingKt.catchAll$default(logging.kt:41)\n",
      "\tat org.jetbrains.kotlinx.jupyter.ReplForJupyterImpl$evalEx$1.invoke(repl.kt:489)\n",
      "\tat org.jetbrains.kotlinx.jupyter.ReplForJupyterImpl$evalEx$1.invoke(repl.kt:470)\n",
      "\tat org.jetbrains.kotlinx.jupyter.ReplForJupyterImpl.withEvalContext(repl.kt:433)\n",
      "\tat org.jetbrains.kotlinx.jupyter.ReplForJupyterImpl.evalEx(repl.kt:470)\n",
      "\tat org.jetbrains.kotlinx.jupyter.messaging.ProtocolKt$shellMessagesHandler$2$res$1.invoke(protocol.kt:318)\n",
      "\tat org.jetbrains.kotlinx.jupyter.messaging.ProtocolKt$shellMessagesHandler$2$res$1.invoke(protocol.kt:312)\n",
      "\tat org.jetbrains.kotlinx.jupyter.JupyterExecutorImpl$runExecution$execThread$1.invoke(execution.kt:37)\n",
      "\tat org.jetbrains.kotlinx.jupyter.JupyterExecutorImpl$runExecution$execThread$1.invoke(execution.kt:32)\n",
      "\tat kotlin.concurrent.ThreadsKt$thread$thread$1.run(Thread.kt:30)\n",
      "Caused by: kotlinx.serialization.SerializationException: Serializer for class 'Any' is not found.\n",
      "Please ensure that class is marked as '@Serializable' and that the serialization compiler plugin is applied.\n",
      "\n",
      "\tat kotlinx.serialization.internal.Platform_commonKt.serializerNotRegistered(Platform.common.kt:92)\n",
      "\tat kotlinx.serialization.internal.PlatformKt.platformSpecificSerializerNotRegistered(Platform.kt:28)\n",
      "\tat kotlinx.serialization.SerializersKt__SerializersKt.serializer(Serializers.kt:109)\n",
      "\tat kotlinx.serialization.SerializersKt.serializer(Unknown Source)\n",
      "\tat Line_77_jupyter$1$1$execution$1.execute(Line_77.jupyter.kts:22)\n",
      "\tat org.jetbrains.kotlinx.jupyter.codegen.RenderersProcessorImpl$renderResult$newField$1.invoke(RenderersProcessorImpl.kt:27)\n",
      "\tat org.jetbrains.kotlinx.jupyter.codegen.RenderersProcessorImpl$renderResult$newField$1.invoke(RenderersProcessorImpl.kt:26)\n",
      "\tat org.jetbrains.kotlinx.jupyter.exceptions.ReplLibraryExceptionKt.rethrowAsLibraryException(ReplLibraryException.kt:30)\n",
      "\t... 13 more\n",
      "\n",
      "\n"
     ]
    },
    {
     "data": {
      "text/plain": "null"
     },
     "execution_count": 61,
     "metadata": {},
     "output_type": "execute_result"
    }
   ],
   "source": [
    "\n",
    "\n",
    "USE {\n",
    "    addRenderer(object: RendererHandler {\n",
    "        override val execution: ResultHandlerExecution\n",
    "            get() = ResultHandlerExecution { _, result -> FieldValue((Json.encodeToString(result.value)).printJson(), result.name) }\n",
    "\n",
    "        override fun accepts(value: Any?): Boolean {\n",
    "            return SerializersModule{}.serializerOrNull(value!!::class.starProjectedType) != null\n",
    "        }\n",
    "\n",
    "        override fun replaceVariables(mapping: Map<String, String>): RendererHandler {\n",
    "            return this\n",
    "        }\n",
    "    })\n",
    "}"
   ],
   "metadata": {
    "collapsed": false,
    "ExecuteTime": {
     "end_time": "2023-07-17T14:36:08.492635Z",
     "start_time": "2023-07-17T14:36:08.402161Z"
    }
   }
  },
  {
   "cell_type": "code",
   "execution_count": 17,
   "outputs": [
    {
     "data": {
      "text/html": "\n<body>\n  <style>\n  json-viewer {\n    /* Background, font and indentation */\n    --background-color: #0000;\n    --font-size: 1.5rem;\n  }\n  </style>\n  <script src=\"https://unpkg.com/@alenaksu/json-viewer@2.0.0/dist/json-viewer.bundle.js\"></script>\n  <json-viewer id=\"json\" data='{\"Ilya\":\"Muradyan\"}'></json-viewer>\n  <script>\n        document.querySelector('#json').expandAll()\n  </script>\n</body>\n"
     },
     "execution_count": 17,
     "metadata": {},
     "output_type": "execute_result"
    }
   ],
   "source": [
    "\"\"\"\n",
    "{\n",
    "\"Ilya\":\"Muradyan\"\n",
    "}\n",
    "\"\"\""
   ],
   "metadata": {
    "collapsed": false,
    "ExecuteTime": {
     "end_time": "2023-07-17T13:43:07.626275Z",
     "start_time": "2023-07-17T13:43:07.600391Z"
    }
   }
  },
  {
   "cell_type": "code",
   "execution_count": 158,
   "outputs": [],
   "source": [
    "runBlocking { client.get(\"https://api.github.com/orgs/JetBrains/members\").bodyAsText() }"
   ],
   "metadata": {
    "collapsed": false,
    "ExecuteTime": {
     "end_time": "2023-07-17T12:47:16.909446Z",
     "start_time": "2023-07-17T12:47:16.002602Z"
    }
   }
  },
  {
   "cell_type": "code",
   "execution_count": 160,
   "outputs": [
    {
     "data": {
      "text/plain": "30"
     },
     "execution_count": 160,
     "metadata": {},
     "output_type": "execute_result"
    }
   ],
   "source": [
    "df.count()"
   ],
   "metadata": {
    "collapsed": false,
    "ExecuteTime": {
     "end_time": "2023-07-17T12:47:27.349514Z",
     "start_time": "2023-07-17T12:47:27.308147Z"
    }
   }
  },
  {
   "cell_type": "code",
   "execution_count": 82,
   "outputs": [
    {
     "name": "stderr",
     "output_type": "stream",
     "text": [
      "Line_98.jupyter.kts (2:13 - 23) Unresolved reference: seriliazer"
     ]
    }
   ],
   "source": [
    "import kotlinx.serialization.serializer\n",
    "\"10\"::class.seriliazer() "
   ],
   "metadata": {
    "collapsed": false,
    "ExecuteTime": {
     "end_time": "2023-07-18T18:49:45.351096Z",
     "start_time": "2023-07-18T18:49:45.334627Z"
    }
   }
  },
  {
   "cell_type": "code",
   "execution_count": 84,
   "outputs": [
    {
     "data": {
      "text/html": "            <div id=\"kotlin_out_0\"/>\n            <script type=\"text/javascript\">\n                            if(!window.kotlinQueues) {\n                window.kotlinQueues = {};\n            }\n            if(!window.kotlinQueues[\"kandyLetsPlot\"]) {\n                var resQueue = [];\n                window.kotlinQueues[\"kandyLetsPlot\"] = resQueue;\n                window[\"call_kandyLetsPlot\"] = function(f) {\n                    resQueue.push(f);\n                }\n            }\n            (function (){\n                var modifiers = [(function(script) {\n    script.src = \"https://cdn.jsdelivr.net/gh/JetBrains/lets-plot@v3.1.0/js-package/distr/lets-plot.min.js\"\n    script.type = \"text/javascript\";\n})];\n                var e = document.getElementById(\"kotlin_out_0\");\n                modifiers.forEach(function (gen) {\n                    var script = document.createElement(\"script\");\n                    gen(script)\n                    script.addEventListener(\"load\", function() {\n                        window[\"call_kandyLetsPlot\"] = function(f) {f();};\n                        window.kotlinQueues[\"kandyLetsPlot\"].forEach(function(f) {f();});\n                        window.kotlinQueues[\"kandyLetsPlot\"] = [];\n                    }, false);\n                    script.addEventListener(\"error\", function() {\n                        window[\"call_kandyLetsPlot\"] = function(f) {};\n                        window.kotlinQueues[\"kandyLetsPlot\"] = [];\n                        var div = document.createElement(\"div\");\n                        div.style.color = 'darkred';\n                        div.textContent = 'Error loading resource kandyLetsPlot';\n                        document.getElementById(\"kotlin_out_0\").appendChild(div);\n                    }, false);\n                    \n                    e.appendChild(script);\n                });\n            })();\n            </script>"
     },
     "metadata": {},
     "output_type": "display_data"
    },
    {
     "name": "stderr",
     "output_type": "stream",
     "text": [
      "The problem is found in one of the loaded libraries: check library renderers\n",
      "kotlinx.serialization.SerializationException: Serializer for class 'Any' is not found.\n",
      "Please ensure that class is marked as '@Serializable' and that the serialization compiler plugin is applied.\n",
      "\n",
      "org.jetbrains.kotlinx.jupyter.exceptions.ReplLibraryException: The problem is found in one of the loaded libraries: check library renderers\n",
      "\tat org.jetbrains.kotlinx.jupyter.exceptions.ReplLibraryExceptionKt.rethrowAsLibraryException(ReplLibraryException.kt:32)\n",
      "\tat org.jetbrains.kotlinx.jupyter.codegen.RenderersProcessorImpl.renderResult(RenderersProcessorImpl.kt:26)\n",
      "\tat org.jetbrains.kotlinx.jupyter.ReplForJupyterImpl$evalEx$1$rendered$1$1.invoke(repl.kt:490)\n",
      "\tat org.jetbrains.kotlinx.jupyter.config.LoggingKt.catchAll(logging.kt:42)\n",
      "\tat org.jetbrains.kotlinx.jupyter.config.LoggingKt.catchAll$default(logging.kt:41)\n",
      "\tat org.jetbrains.kotlinx.jupyter.ReplForJupyterImpl$evalEx$1.invoke(repl.kt:489)\n",
      "\tat org.jetbrains.kotlinx.jupyter.ReplForJupyterImpl$evalEx$1.invoke(repl.kt:470)\n",
      "\tat org.jetbrains.kotlinx.jupyter.ReplForJupyterImpl.withEvalContext(repl.kt:433)\n",
      "\tat org.jetbrains.kotlinx.jupyter.ReplForJupyterImpl.evalEx(repl.kt:470)\n",
      "\tat org.jetbrains.kotlinx.jupyter.messaging.ProtocolKt$shellMessagesHandler$2$res$1.invoke(protocol.kt:318)\n",
      "\tat org.jetbrains.kotlinx.jupyter.messaging.ProtocolKt$shellMessagesHandler$2$res$1.invoke(protocol.kt:312)\n",
      "\tat org.jetbrains.kotlinx.jupyter.JupyterExecutorImpl$runExecution$execThread$1.invoke(execution.kt:37)\n",
      "\tat org.jetbrains.kotlinx.jupyter.JupyterExecutorImpl$runExecution$execThread$1.invoke(execution.kt:32)\n",
      "\tat kotlin.concurrent.ThreadsKt$thread$thread$1.run(Thread.kt:30)\n",
      "Caused by: kotlinx.serialization.SerializationException: Serializer for class 'Any' is not found.\n",
      "Please ensure that class is marked as '@Serializable' and that the serialization compiler plugin is applied.\n",
      "\n",
      "\tat kotlinx.serialization.internal.Platform_commonKt.serializerNotRegistered(Platform.common.kt:92)\n",
      "\tat kotlinx.serialization.internal.PlatformKt.platformSpecificSerializerNotRegistered(Platform.kt:28)\n",
      "\tat kotlinx.serialization.SerializersKt__SerializersKt.serializer(Serializers.kt:109)\n",
      "\tat kotlinx.serialization.SerializersKt.serializer(Unknown Source)\n",
      "\tat Line_77_jupyter$1$1$execution$1.execute(Line_77.jupyter.kts:22)\n",
      "\tat org.jetbrains.kotlinx.jupyter.codegen.RenderersProcessorImpl$renderResult$newField$1.invoke(RenderersProcessorImpl.kt:27)\n",
      "\tat org.jetbrains.kotlinx.jupyter.codegen.RenderersProcessorImpl$renderResult$newField$1.invoke(RenderersProcessorImpl.kt:26)\n",
      "\tat org.jetbrains.kotlinx.jupyter.exceptions.ReplLibraryExceptionKt.rethrowAsLibraryException(ReplLibraryException.kt:30)\n",
      "\t... 13 more\n",
      "\n",
      "\n"
     ]
    },
    {
     "data": {
      "text/plain": "null"
     },
     "execution_count": 84,
     "metadata": {},
     "output_type": "execute_result"
    }
   ],
   "source": [
    "%use kandy"
   ],
   "metadata": {
    "collapsed": false,
    "ExecuteTime": {
     "end_time": "2023-07-19T13:34:29.163500Z",
     "start_time": "2023-07-19T13:34:14.704368Z"
    }
   }
  },
  {
   "cell_type": "code",
   "execution_count": 86,
   "outputs": [
    {
     "name": "stderr",
     "output_type": "stream",
     "text": [
      "The problem is found in one of the loaded libraries: check library renderers\n",
      "kotlinx.serialization.SerializationException: Serializer for class 'Any' is not found.\n",
      "Please ensure that class is marked as '@Serializable' and that the serialization compiler plugin is applied.\n",
      "\n",
      "org.jetbrains.kotlinx.jupyter.exceptions.ReplLibraryException: The problem is found in one of the loaded libraries: check library renderers\n",
      "\tat org.jetbrains.kotlinx.jupyter.exceptions.ReplLibraryExceptionKt.rethrowAsLibraryException(ReplLibraryException.kt:32)\n",
      "\tat org.jetbrains.kotlinx.jupyter.codegen.RenderersProcessorImpl.renderResult(RenderersProcessorImpl.kt:26)\n",
      "\tat org.jetbrains.kotlinx.jupyter.ReplForJupyterImpl$evalEx$1$rendered$1$1.invoke(repl.kt:490)\n",
      "\tat org.jetbrains.kotlinx.jupyter.config.LoggingKt.catchAll(logging.kt:42)\n",
      "\tat org.jetbrains.kotlinx.jupyter.config.LoggingKt.catchAll$default(logging.kt:41)\n",
      "\tat org.jetbrains.kotlinx.jupyter.ReplForJupyterImpl$evalEx$1.invoke(repl.kt:489)\n",
      "\tat org.jetbrains.kotlinx.jupyter.ReplForJupyterImpl$evalEx$1.invoke(repl.kt:470)\n",
      "\tat org.jetbrains.kotlinx.jupyter.ReplForJupyterImpl.withEvalContext(repl.kt:433)\n",
      "\tat org.jetbrains.kotlinx.jupyter.ReplForJupyterImpl.evalEx(repl.kt:470)\n",
      "\tat org.jetbrains.kotlinx.jupyter.messaging.ProtocolKt$shellMessagesHandler$2$res$1.invoke(protocol.kt:318)\n",
      "\tat org.jetbrains.kotlinx.jupyter.messaging.ProtocolKt$shellMessagesHandler$2$res$1.invoke(protocol.kt:312)\n",
      "\tat org.jetbrains.kotlinx.jupyter.JupyterExecutorImpl$runExecution$execThread$1.invoke(execution.kt:37)\n",
      "\tat org.jetbrains.kotlinx.jupyter.JupyterExecutorImpl$runExecution$execThread$1.invoke(execution.kt:32)\n",
      "\tat kotlin.concurrent.ThreadsKt$thread$thread$1.run(Thread.kt:30)\n",
      "Caused by: kotlinx.serialization.SerializationException: Serializer for class 'Any' is not found.\n",
      "Please ensure that class is marked as '@Serializable' and that the serialization compiler plugin is applied.\n",
      "\n",
      "\tat kotlinx.serialization.internal.Platform_commonKt.serializerNotRegistered(Platform.common.kt:92)\n",
      "\tat kotlinx.serialization.internal.PlatformKt.platformSpecificSerializerNotRegistered(Platform.kt:28)\n",
      "\tat kotlinx.serialization.SerializersKt__SerializersKt.serializer(Serializers.kt:109)\n",
      "\tat kotlinx.serialization.SerializersKt.serializer(Unknown Source)\n",
      "\tat Line_77_jupyter$1$1$execution$1.execute(Line_77.jupyter.kts:22)\n",
      "\tat org.jetbrains.kotlinx.jupyter.codegen.RenderersProcessorImpl$renderResult$newField$1.invoke(RenderersProcessorImpl.kt:27)\n",
      "\tat org.jetbrains.kotlinx.jupyter.codegen.RenderersProcessorImpl$renderResult$newField$1.invoke(RenderersProcessorImpl.kt:26)\n",
      "\tat org.jetbrains.kotlinx.jupyter.exceptions.ReplLibraryExceptionKt.rethrowAsLibraryException(ReplLibraryException.kt:30)\n",
      "\t... 13 more\n",
      "\n",
      "\n"
     ]
    },
    {
     "data": {
      "text/plain": "null"
     },
     "execution_count": 86,
     "metadata": {},
     "output_type": "execute_result"
    }
   ],
   "source": [
    "%use kandy"
   ],
   "metadata": {
    "collapsed": false,
    "ExecuteTime": {
     "end_time": "2023-07-19T13:35:32.699319Z",
     "start_time": "2023-07-19T13:35:21.599599Z"
    }
   }
  },
  {
   "cell_type": "code",
   "execution_count": 88,
   "outputs": [
    {
     "data": {
      "text/html": "            <script type=\"text/javascript\" data-lets-plot-script=\"library\" src=\"https://cdn.jsdelivr.net/gh/JetBrains/lets-plot@v3.1.0/js-package/distr/lets-plot.min.js\"></script>    \n               <div id=\"AbzJQn\"></div>\n   <script type=\"text/javascript\" data-lets-plot-script=\"plot\">\n       var plotSpec={\n\"mapping\":{\n},\n\"data\":{\n\"x\":[1.0,2.0,3.0,4.0,5.0,6.0,7.0,8.0,9.0,10.0,11.0,12.0,13.0,14.0,15.0,16.0,17.0,18.0,19.0,20.0,21.0,22.0,23.0,24.0,25.0,26.0,27.0,28.0,29.0,30.0,31.0,32.0,33.0,34.0,35.0,36.0,37.0,38.0,39.0,40.0,41.0,42.0,43.0,44.0,45.0,46.0,47.0,48.0,49.0,50.0,51.0,52.0,53.0,54.0,55.0,56.0,57.0,58.0,59.0,60.0,61.0,62.0,63.0,64.0,65.0,66.0,67.0,68.0,69.0,70.0,71.0,72.0,73.0,74.0,75.0,76.0,77.0,78.0,79.0,80.0,81.0,82.0,83.0,84.0,85.0,86.0,87.0,88.0,89.0,90.0,91.0,92.0,93.0,94.0,95.0,96.0,97.0,98.0,99.0,100.0],\n\"y\":[1.0,2.0,3.0,4.0,5.0,6.0,7.0,8.0,9.0,10.0,11.0,12.0,13.0,14.0,15.0,16.0,17.0,18.0,19.0,20.0,21.0,22.0,23.0,24.0,25.0,26.0,27.0,28.0,29.0,30.0,31.0,32.0,33.0,34.0,35.0,36.0,37.0,38.0,39.0,40.0,41.0,42.0,43.0,44.0,45.0,46.0,47.0,48.0,49.0,50.0,51.0,52.0,53.0,54.0,55.0,56.0,57.0,58.0,59.0,60.0,61.0,62.0,63.0,64.0,65.0,66.0,67.0,68.0,69.0,70.0,71.0,72.0,73.0,74.0,75.0,76.0,77.0,78.0,79.0,80.0,81.0,82.0,83.0,84.0,85.0,86.0,87.0,88.0,89.0,90.0,91.0,92.0,93.0,94.0,95.0,96.0,97.0,98.0,99.0,100.0]\n},\n\"kind\":\"plot\",\n\"scales\":[{\n\"aesthetic\":\"x\",\n\"limits\":[null,null],\n\"trans\":\"SQRT\"\n},{\n\"aesthetic\":\"y\",\n\"limits\":[null,null]\n}],\n\"layers\":[{\n\"mapping\":{\n\"x\":\"x\",\n\"y\":\"y\"\n},\n\"stat\":\"identity\",\n\"sampling\":\"none\",\n\"position\":\"identity\",\n\"geom\":\"line\",\n\"data\":{\n}\n}]\n};\n       var plotContainer = document.getElementById(\"AbzJQn\");\n       LetsPlot.buildPlotFromProcessedSpecs(plotSpec, -1, -1, plotContainer);\n   </script>    ",
      "application/plot+json": {
       "output_type": "lets_plot_spec",
       "output": {
        "mapping": {},
        "data": {
         "x": [
          1.0,
          2.0,
          3.0,
          4.0,
          5.0,
          6.0,
          7.0,
          8.0,
          9.0,
          10.0,
          11.0,
          12.0,
          13.0,
          14.0,
          15.0,
          16.0,
          17.0,
          18.0,
          19.0,
          20.0,
          21.0,
          22.0,
          23.0,
          24.0,
          25.0,
          26.0,
          27.0,
          28.0,
          29.0,
          30.0,
          31.0,
          32.0,
          33.0,
          34.0,
          35.0,
          36.0,
          37.0,
          38.0,
          39.0,
          40.0,
          41.0,
          42.0,
          43.0,
          44.0,
          45.0,
          46.0,
          47.0,
          48.0,
          49.0,
          50.0,
          51.0,
          52.0,
          53.0,
          54.0,
          55.0,
          56.0,
          57.0,
          58.0,
          59.0,
          60.0,
          61.0,
          62.0,
          63.0,
          64.0,
          65.0,
          66.0,
          67.0,
          68.0,
          69.0,
          70.0,
          71.0,
          72.0,
          73.0,
          74.0,
          75.0,
          76.0,
          77.0,
          78.0,
          79.0,
          80.0,
          81.0,
          82.0,
          83.0,
          84.0,
          85.0,
          86.0,
          87.0,
          88.0,
          89.0,
          90.0,
          91.0,
          92.0,
          93.0,
          94.0,
          95.0,
          96.0,
          97.0,
          98.0,
          99.0,
          100.0
         ],
         "y": [
          1.0,
          2.0,
          3.0,
          4.0,
          5.0,
          6.0,
          7.0,
          8.0,
          9.0,
          10.0,
          11.0,
          12.0,
          13.0,
          14.0,
          15.0,
          16.0,
          17.0,
          18.0,
          19.0,
          20.0,
          21.0,
          22.0,
          23.0,
          24.0,
          25.0,
          26.0,
          27.0,
          28.0,
          29.0,
          30.0,
          31.0,
          32.0,
          33.0,
          34.0,
          35.0,
          36.0,
          37.0,
          38.0,
          39.0,
          40.0,
          41.0,
          42.0,
          43.0,
          44.0,
          45.0,
          46.0,
          47.0,
          48.0,
          49.0,
          50.0,
          51.0,
          52.0,
          53.0,
          54.0,
          55.0,
          56.0,
          57.0,
          58.0,
          59.0,
          60.0,
          61.0,
          62.0,
          63.0,
          64.0,
          65.0,
          66.0,
          67.0,
          68.0,
          69.0,
          70.0,
          71.0,
          72.0,
          73.0,
          74.0,
          75.0,
          76.0,
          77.0,
          78.0,
          79.0,
          80.0,
          81.0,
          82.0,
          83.0,
          84.0,
          85.0,
          86.0,
          87.0,
          88.0,
          89.0,
          90.0,
          91.0,
          92.0,
          93.0,
          94.0,
          95.0,
          96.0,
          97.0,
          98.0,
          99.0,
          100.0
         ]
        },
        "kind": "plot",
        "scales": [
         {
          "aesthetic": "x",
          "limits": [
           null,
           null
          ],
          "trans": "SQRT"
         },
         {
          "aesthetic": "y",
          "limits": [
           null,
           null
          ]
         }
        ],
        "layers": [
         {
          "mapping": {
           "x": "x",
           "y": "y"
          },
          "stat": "identity",
          "sampling": "none",
          "position": "identity",
          "geom": "line"
         }
        ]
       },
       "apply_color_scheme": true,
       "swing_enabled": true
      }
     },
     "execution_count": 88,
     "metadata": {},
     "output_type": "execute_result"
    }
   ],
   "source": [
    "import org.jetbrains.kotlinx.kandy.ir.scale.PositionalScale\n",
    "import org.jetbrains.kotlinx.kandy.ir.scale.PositionalTransform\n",
    "import org.jetbrains.kotlinx.kandy.ir.scale.Transform\n",
    "\n",
    "plot {\n",
    "    line {\n",
    "        x(1..100) {\n",
    "            scale = continuous(transform = Transformation.SQRT)\n",
    "        }\n",
    "        y(1..100)\n",
    "    }\n",
    "}"
   ],
   "metadata": {
    "collapsed": false,
    "ExecuteTime": {
     "end_time": "2023-07-19T13:48:58.498597Z",
     "start_time": "2023-07-19T13:48:58.434507Z"
    }
   }
  },
  {
   "cell_type": "code",
   "execution_count": null,
   "outputs": [],
   "source": [],
   "metadata": {
    "collapsed": false
   }
  }
 ],
 "metadata": {
  "kernelspec": {
   "display_name": "Kotlin",
   "language": "kotlin",
   "name": "kotlin"
  },
  "language_info": {
   "name": "kotlin",
   "version": "1.8.20",
   "mimetype": "text/x-kotlin",
   "file_extension": ".kt",
   "pygments_lexer": "kotlin",
   "codemirror_mode": "text/x-kotlin",
   "nbconvert_exporter": ""
  }
 },
 "nbformat": 4,
 "nbformat_minor": 0
}
